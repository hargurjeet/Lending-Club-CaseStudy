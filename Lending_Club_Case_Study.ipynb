{
  "nbformat": 4,
  "nbformat_minor": 0,
  "metadata": {
    "colab": {
      "provenance": [],
      "toc_visible": true,
      "authorship_tag": "ABX9TyOdavHiPVsoLRlXix6xZgZp",
      "include_colab_link": true
    },
    "kernelspec": {
      "name": "python3",
      "display_name": "Python 3"
    },
    "language_info": {
      "name": "python"
    }
  },
  "cells": [
    {
      "cell_type": "markdown",
      "metadata": {
        "id": "view-in-github",
        "colab_type": "text"
      },
      "source": [
        "<a href=\"https://colab.research.google.com/github/hargurjeet/Lending-Club-CaseStudy/blob/main/Lending_Club_Case_Study.ipynb\" target=\"_parent\"><img src=\"https://colab.research.google.com/assets/colab-badge.svg\" alt=\"Open In Colab\"/></a>"
      ]
    },
    {
      "cell_type": "markdown",
      "source": [
        "In this case study, you will use EDA to understand how consumer attributes and loan attributes influence the tendency of default."
      ],
      "metadata": {
        "id": "ZqBpaTEWgRHB"
      }
    },
    {
      "cell_type": "code",
      "source": [
        "import pandas as pd\n",
        "import numpy as np\n",
        "import matplotlib.pyplot as plt\n",
        "import seaborn as sns\n",
        "import zipfile\n",
        "\n",
        "import warnings\n",
        "warnings.simplefilter(action='ignore', category=FutureWarning)"
      ],
      "metadata": {
        "id": "RjarnIrOgQnQ"
      },
      "execution_count": 69,
      "outputs": []
    },
    {
      "cell_type": "code",
      "execution_count": 70,
      "metadata": {
        "id": "q7Omn82FfA9I",
        "outputId": "833cb1ed-7684-4d0e-a7f6-c81700e6d003",
        "colab": {
          "base_uri": "https://localhost:8080/"
        }
      },
      "outputs": [
        {
          "output_type": "stream",
          "name": "stdout",
          "text": [
            "fatal: destination path 'Lending-Club-CaseStudy' already exists and is not an empty directory.\n"
          ]
        }
      ],
      "source": [
        "! git clone https://github.com/hargurjeet/Lending-Club-CaseStudy.git"
      ]
    },
    {
      "cell_type": "code",
      "source": [
        "with zipfile.ZipFile(\"/content/Lending-Club-CaseStudy/loan.zip\",\"r\") as zip_ref:\n",
        "    zip_ref.extractall(\"/content/Lending-Club-CaseStudy/\")"
      ],
      "metadata": {
        "id": "4rvdKoYshMsJ"
      },
      "execution_count": 71,
      "outputs": []
    },
    {
      "cell_type": "markdown",
      "source": [
        "# Data Understanding\n",
        "\n",
        "All data quality issues are correctly identified and reported. \n",
        "\n",
        " \n",
        "\n",
        "Wherever required, the meanings of the variables are correctly interpreted and written either in the comments or text."
      ],
      "metadata": {
        "id": "ybw4P5PuvbFk"
      }
    },
    {
      "cell_type": "code",
      "source": [
        "file_path = r'/content/Lending-Club-CaseStudy/loan.csv'\n",
        "df = pd.read_csv(file_path)\n",
        "df.head()"
      ],
      "metadata": {
        "id": "3zAA0x4ahnuQ"
      },
      "execution_count": null,
      "outputs": []
    },
    {
      "cell_type": "code",
      "source": [
        "df.columns"
      ],
      "metadata": {
        "id": "3LCMH3zNh00w",
        "outputId": "ae31c6d8-0fed-4a5d-bb8d-edfbbdf01584",
        "colab": {
          "base_uri": "https://localhost:8080/"
        }
      },
      "execution_count": 73,
      "outputs": [
        {
          "output_type": "execute_result",
          "data": {
            "text/plain": [
              "Index(['id', 'member_id', 'loan_amnt', 'funded_amnt', 'funded_amnt_inv',\n",
              "       'term', 'int_rate', 'installment', 'grade', 'sub_grade',\n",
              "       ...\n",
              "       'num_tl_90g_dpd_24m', 'num_tl_op_past_12m', 'pct_tl_nvr_dlq',\n",
              "       'percent_bc_gt_75', 'pub_rec_bankruptcies', 'tax_liens',\n",
              "       'tot_hi_cred_lim', 'total_bal_ex_mort', 'total_bc_limit',\n",
              "       'total_il_high_credit_limit'],\n",
              "      dtype='object', length=111)"
            ]
          },
          "metadata": {},
          "execution_count": 73
        }
      ]
    },
    {
      "cell_type": "code",
      "source": [
        "df1 = pd.read_excel('/content/Lending-Club-CaseStudy/Data_Dictionary.xlsx')\n",
        "df1"
      ],
      "metadata": {
        "id": "MlkGJHxXh45I"
      },
      "execution_count": null,
      "outputs": []
    },
    {
      "cell_type": "code",
      "source": [
        "df.shape"
      ],
      "metadata": {
        "id": "mkcYKo2t2Fjm",
        "outputId": "5a4e19e0-72ff-4328-ec0a-b4fd5563d087",
        "colab": {
          "base_uri": "https://localhost:8080/"
        }
      },
      "execution_count": 88,
      "outputs": [
        {
          "output_type": "execute_result",
          "data": {
            "text/plain": [
              "(39717, 111)"
            ]
          },
          "metadata": {},
          "execution_count": 88
        }
      ]
    },
    {
      "cell_type": "code",
      "source": [
        "def view_all(df):\n",
        "  pd.set_option('display.max_rows', None)\n",
        "  pd.set_option('max_columns', None)\n",
        "  pd.set_option('display.max_colwidth', None)\n",
        "  return df.style.set_properties(**{'text-align': 'left'})\n",
        "\n",
        "view_all(df1)"
      ],
      "metadata": {
        "id": "BXObjz6DiHW4"
      },
      "execution_count": null,
      "outputs": []
    },
    {
      "cell_type": "markdown",
      "source": [
        "# Data Cleaning and Manipulation\n",
        "\n",
        "Data quality issues are addressed in the right way (missing value imputation, outlier treatment and other kinds of data redundancies, etc.). \n",
        "\n",
        " \n",
        "\n",
        "If applicable, data is converted to a suitable and convenient format to work with using the right methods.\n",
        "\n",
        " \n",
        "\n",
        " \n",
        "\n",
        "Manipulation of strings and dates is done correctly wherever required."
      ],
      "metadata": {
        "id": "RDI5Aozevmps"
      }
    },
    {
      "cell_type": "code",
      "source": [
        "df.info()"
      ],
      "metadata": {
        "colab": {
          "base_uri": "https://localhost:8080/"
        },
        "id": "p2sGTFiY0Lsz",
        "outputId": "77f9461a-9379-4917-ee1e-c71302e65127"
      },
      "execution_count": 76,
      "outputs": [
        {
          "output_type": "stream",
          "name": "stdout",
          "text": [
            "<class 'pandas.core.frame.DataFrame'>\n",
            "RangeIndex: 39717 entries, 0 to 39716\n",
            "Columns: 111 entries, id to total_il_high_credit_limit\n",
            "dtypes: float64(74), int64(13), object(24)\n",
            "memory usage: 33.6+ MB\n"
          ]
        }
      ]
    },
    {
      "cell_type": "markdown",
      "source": [
        "## Identifying missing values"
      ],
      "metadata": {
        "id": "PndzGsiRy7Va"
      }
    },
    {
      "cell_type": "code",
      "source": [
        "# Checking the missing values\n",
        "df.isnull().sum()"
      ],
      "metadata": {
        "colab": {
          "base_uri": "https://localhost:8080/"
        },
        "id": "2x0uvGrk2Jz-",
        "outputId": "33e9eaef-a347-4df6-851c-e8e79191f904"
      },
      "execution_count": 77,
      "outputs": [
        {
          "output_type": "execute_result",
          "data": {
            "text/plain": [
              "id                                    0\n",
              "member_id                             0\n",
              "loan_amnt                             0\n",
              "funded_amnt                           0\n",
              "funded_amnt_inv                       0\n",
              "term                                  0\n",
              "int_rate                              0\n",
              "installment                           0\n",
              "grade                                 0\n",
              "sub_grade                             0\n",
              "emp_title                          2459\n",
              "emp_length                         1075\n",
              "home_ownership                        0\n",
              "annual_inc                            0\n",
              "verification_status                   0\n",
              "issue_d                               0\n",
              "loan_status                           0\n",
              "pymnt_plan                            0\n",
              "url                                   0\n",
              "desc                              12940\n",
              "purpose                               0\n",
              "title                                11\n",
              "zip_code                              0\n",
              "addr_state                            0\n",
              "dti                                   0\n",
              "delinq_2yrs                           0\n",
              "earliest_cr_line                      0\n",
              "inq_last_6mths                        0\n",
              "mths_since_last_delinq            25682\n",
              "mths_since_last_record            36931\n",
              "open_acc                              0\n",
              "pub_rec                               0\n",
              "revol_bal                             0\n",
              "revol_util                           50\n",
              "total_acc                             0\n",
              "initial_list_status                   0\n",
              "out_prncp                             0\n",
              "out_prncp_inv                         0\n",
              "total_pymnt                           0\n",
              "total_pymnt_inv                       0\n",
              "total_rec_prncp                       0\n",
              "total_rec_int                         0\n",
              "total_rec_late_fee                    0\n",
              "recoveries                            0\n",
              "collection_recovery_fee               0\n",
              "last_pymnt_d                         71\n",
              "last_pymnt_amnt                       0\n",
              "next_pymnt_d                      38577\n",
              "last_credit_pull_d                    2\n",
              "collections_12_mths_ex_med           56\n",
              "mths_since_last_major_derog       39717\n",
              "policy_code                           0\n",
              "application_type                      0\n",
              "annual_inc_joint                  39717\n",
              "dti_joint                         39717\n",
              "verification_status_joint         39717\n",
              "acc_now_delinq                        0\n",
              "tot_coll_amt                      39717\n",
              "tot_cur_bal                       39717\n",
              "open_acc_6m                       39717\n",
              "open_il_6m                        39717\n",
              "open_il_12m                       39717\n",
              "open_il_24m                       39717\n",
              "mths_since_rcnt_il                39717\n",
              "total_bal_il                      39717\n",
              "il_util                           39717\n",
              "open_rv_12m                       39717\n",
              "open_rv_24m                       39717\n",
              "max_bal_bc                        39717\n",
              "all_util                          39717\n",
              "total_rev_hi_lim                  39717\n",
              "inq_fi                            39717\n",
              "total_cu_tl                       39717\n",
              "inq_last_12m                      39717\n",
              "acc_open_past_24mths              39717\n",
              "avg_cur_bal                       39717\n",
              "bc_open_to_buy                    39717\n",
              "bc_util                           39717\n",
              "chargeoff_within_12_mths             56\n",
              "delinq_amnt                           0\n",
              "mo_sin_old_il_acct                39717\n",
              "mo_sin_old_rev_tl_op              39717\n",
              "mo_sin_rcnt_rev_tl_op             39717\n",
              "mo_sin_rcnt_tl                    39717\n",
              "mort_acc                          39717\n",
              "mths_since_recent_bc              39717\n",
              "mths_since_recent_bc_dlq          39717\n",
              "mths_since_recent_inq             39717\n",
              "mths_since_recent_revol_delinq    39717\n",
              "num_accts_ever_120_pd             39717\n",
              "num_actv_bc_tl                    39717\n",
              "num_actv_rev_tl                   39717\n",
              "num_bc_sats                       39717\n",
              "num_bc_tl                         39717\n",
              "num_il_tl                         39717\n",
              "num_op_rev_tl                     39717\n",
              "num_rev_accts                     39717\n",
              "num_rev_tl_bal_gt_0               39717\n",
              "num_sats                          39717\n",
              "num_tl_120dpd_2m                  39717\n",
              "num_tl_30dpd                      39717\n",
              "num_tl_90g_dpd_24m                39717\n",
              "num_tl_op_past_12m                39717\n",
              "pct_tl_nvr_dlq                    39717\n",
              "percent_bc_gt_75                  39717\n",
              "pub_rec_bankruptcies                697\n",
              "tax_liens                            39\n",
              "tot_hi_cred_lim                   39717\n",
              "total_bal_ex_mort                 39717\n",
              "total_bc_limit                    39717\n",
              "total_il_high_credit_limit        39717\n",
              "dtype: int64"
            ]
          },
          "metadata": {},
          "execution_count": 77
        }
      ]
    },
    {
      "cell_type": "code",
      "source": [
        "# Funtion to remove the columns where 90% of values are missing\n",
        "def columns_with_high_missing_values_removed(df):\n",
        "  missing_percent = (df.isnull().sum()/len(df))*100\n",
        "  for feature, values in zip(missing_percent.index, missing_percent):\n",
        "    if values >= 90:\n",
        "      missing_percent.drop(feature, inplace=True)\n",
        "  return missing_percent\n",
        "\n",
        "df2 = columns_with_high_missing_values_removed(df)\n",
        "df2"
      ],
      "metadata": {
        "colab": {
          "base_uri": "https://localhost:8080/"
        },
        "id": "uUejZkiz01Xy",
        "outputId": "7ee292ad-764b-4609-a644-cf964ddd4560"
      },
      "execution_count": 78,
      "outputs": [
        {
          "output_type": "execute_result",
          "data": {
            "text/plain": [
              "id                             0.000000\n",
              "member_id                      0.000000\n",
              "loan_amnt                      0.000000\n",
              "funded_amnt                    0.000000\n",
              "funded_amnt_inv                0.000000\n",
              "term                           0.000000\n",
              "int_rate                       0.000000\n",
              "installment                    0.000000\n",
              "grade                          0.000000\n",
              "sub_grade                      0.000000\n",
              "emp_title                      6.191303\n",
              "emp_length                     2.706650\n",
              "home_ownership                 0.000000\n",
              "annual_inc                     0.000000\n",
              "verification_status            0.000000\n",
              "issue_d                        0.000000\n",
              "loan_status                    0.000000\n",
              "pymnt_plan                     0.000000\n",
              "url                            0.000000\n",
              "desc                          32.580507\n",
              "purpose                        0.000000\n",
              "title                          0.027696\n",
              "zip_code                       0.000000\n",
              "addr_state                     0.000000\n",
              "dti                            0.000000\n",
              "delinq_2yrs                    0.000000\n",
              "earliest_cr_line               0.000000\n",
              "inq_last_6mths                 0.000000\n",
              "mths_since_last_delinq        64.662487\n",
              "open_acc                       0.000000\n",
              "pub_rec                        0.000000\n",
              "revol_bal                      0.000000\n",
              "revol_util                     0.125891\n",
              "total_acc                      0.000000\n",
              "initial_list_status            0.000000\n",
              "out_prncp                      0.000000\n",
              "out_prncp_inv                  0.000000\n",
              "total_pymnt                    0.000000\n",
              "total_pymnt_inv                0.000000\n",
              "total_rec_prncp                0.000000\n",
              "total_rec_int                  0.000000\n",
              "total_rec_late_fee             0.000000\n",
              "recoveries                     0.000000\n",
              "collection_recovery_fee        0.000000\n",
              "last_pymnt_d                   0.178765\n",
              "last_pymnt_amnt                0.000000\n",
              "last_credit_pull_d             0.005036\n",
              "collections_12_mths_ex_med     0.140998\n",
              "policy_code                    0.000000\n",
              "application_type               0.000000\n",
              "acc_now_delinq                 0.000000\n",
              "chargeoff_within_12_mths       0.140998\n",
              "delinq_amnt                    0.000000\n",
              "pub_rec_bankruptcies           1.754916\n",
              "tax_liens                      0.098195\n",
              "dtype: float64"
            ]
          },
          "metadata": {},
          "execution_count": 78
        }
      ]
    },
    {
      "cell_type": "code",
      "source": [
        "df2.shape"
      ],
      "metadata": {
        "colab": {
          "base_uri": "https://localhost:8080/"
        },
        "id": "oFgaHhES6EMO",
        "outputId": "3a222629-e5d1-4655-8ca3-5413992fd9db"
      },
      "execution_count": 79,
      "outputs": [
        {
          "output_type": "execute_result",
          "data": {
            "text/plain": [
              "(55,)"
            ]
          },
          "metadata": {},
          "execution_count": 79
        }
      ]
    },
    {
      "cell_type": "code",
      "source": [
        "print(df2.loc[lambda x:(x<70) & (x>10)])"
      ],
      "metadata": {
        "id": "y8r4XYfxz5OK",
        "outputId": "9c5eca6c-369f-4b71-9c14-115ddf6effc5",
        "colab": {
          "base_uri": "https://localhost:8080/"
        }
      },
      "execution_count": 80,
      "outputs": [
        {
          "output_type": "stream",
          "name": "stdout",
          "text": [
            "desc                      32.580507\n",
            "mths_since_last_delinq    64.662487\n",
            "dtype: float64\n"
          ]
        }
      ]
    },
    {
      "cell_type": "code",
      "source": [
        "## There is pratically no logical ways to fill these missing values\n",
        "## droping these features for now\n",
        "df3 = df2.drop(['desc', 'mths_since_last_delinq'])\n",
        "df3.shape\n"
      ],
      "metadata": {
        "colab": {
          "base_uri": "https://localhost:8080/"
        },
        "id": "5j6Pus235SWY",
        "outputId": "66056ae4-e938-483d-ba1d-aa789033b4b0"
      },
      "execution_count": 83,
      "outputs": [
        {
          "output_type": "execute_result",
          "data": {
            "text/plain": [
              "(53,)"
            ]
          },
          "metadata": {},
          "execution_count": 83
        }
      ]
    },
    {
      "cell_type": "code",
      "source": [
        "# Filtering columns with low missing values\n",
        "low_missing_values_col = df3.loc[lambda x:(x<10) & (x>0)].sort_values(ascending=False).index\n",
        "low_missing_values_col"
      ],
      "metadata": {
        "colab": {
          "base_uri": "https://localhost:8080/"
        },
        "id": "7DWmeoVp3nDa",
        "outputId": "5fe58d34-84ce-4138-8402-e37452c10fbd"
      },
      "execution_count": 84,
      "outputs": [
        {
          "output_type": "execute_result",
          "data": {
            "text/plain": [
              "Index(['emp_title', 'emp_length', 'pub_rec_bankruptcies', 'last_pymnt_d',\n",
              "       'collections_12_mths_ex_med', 'chargeoff_within_12_mths', 'revol_util',\n",
              "       'tax_liens', 'title', 'last_credit_pull_d'],\n",
              "      dtype='object')"
            ]
          },
          "metadata": {},
          "execution_count": 84
        }
      ]
    },
    {
      "cell_type": "code",
      "source": [
        "df[low_missing_values_col].info()"
      ],
      "metadata": {
        "id": "tdhI54lj1SB6",
        "outputId": "6d4900a6-4506-42b5-991b-5bf2ee53e3e0",
        "colab": {
          "base_uri": "https://localhost:8080/"
        }
      },
      "execution_count": 85,
      "outputs": [
        {
          "output_type": "stream",
          "name": "stdout",
          "text": [
            "<class 'pandas.core.frame.DataFrame'>\n",
            "RangeIndex: 39717 entries, 0 to 39716\n",
            "Data columns (total 10 columns):\n",
            " #   Column                      Non-Null Count  Dtype  \n",
            "---  ------                      --------------  -----  \n",
            " 0   emp_title                   37258 non-null  object \n",
            " 1   emp_length                  38642 non-null  object \n",
            " 2   pub_rec_bankruptcies        39020 non-null  float64\n",
            " 3   last_pymnt_d                39646 non-null  object \n",
            " 4   collections_12_mths_ex_med  39661 non-null  float64\n",
            " 5   chargeoff_within_12_mths    39661 non-null  float64\n",
            " 6   revol_util                  39667 non-null  object \n",
            " 7   tax_liens                   39678 non-null  float64\n",
            " 8   title                       39706 non-null  object \n",
            " 9   last_credit_pull_d          39715 non-null  object \n",
            "dtypes: float64(4), object(6)\n",
            "memory usage: 3.0+ MB\n"
          ]
        }
      ]
    },
    {
      "cell_type": "code",
      "source": [
        "df[low_missing_values_col].head()"
      ],
      "metadata": {
        "id": "KsbqKtX31b7p",
        "outputId": "f38670b2-ca46-41d3-a53b-8bdbb5c59d8b",
        "colab": {
          "base_uri": "https://localhost:8080/",
          "height": 374
        }
      },
      "execution_count": 86,
      "outputs": [
        {
          "output_type": "execute_result",
          "data": {
            "text/plain": [
              "                  emp_title emp_length  pub_rec_bankruptcies last_pymnt_d  \\\n",
              "0                       NaN  10+ years                   0.0       Jan-15   \n",
              "1                     Ryder   < 1 year                   0.0       Apr-13   \n",
              "2                       NaN  10+ years                   0.0       Jun-14   \n",
              "3       AIR RESOURCES BOARD  10+ years                   0.0       Jan-15   \n",
              "4  University Medical Group     1 year                   0.0       May-16   \n",
              "\n",
              "   collections_12_mths_ex_med  chargeoff_within_12_mths revol_util  tax_liens  \\\n",
              "0                         0.0                       0.0     83.70%        0.0   \n",
              "1                         0.0                       0.0      9.40%        0.0   \n",
              "2                         0.0                       0.0     98.50%        0.0   \n",
              "3                         0.0                       0.0        21%        0.0   \n",
              "4                         0.0                       0.0     53.90%        0.0   \n",
              "\n",
              "                  title last_credit_pull_d  \n",
              "0              Computer             May-16  \n",
              "1                  bike             Sep-13  \n",
              "2  real estate business             May-16  \n",
              "3              personel             Apr-16  \n",
              "4              Personal             May-16  "
            ],
            "text/html": [
              "\n",
              "  <div id=\"df-6342d513-3e4f-4114-ac77-180d1aeccfe2\">\n",
              "    <div class=\"colab-df-container\">\n",
              "      <div>\n",
              "<style scoped>\n",
              "    .dataframe tbody tr th:only-of-type {\n",
              "        vertical-align: middle;\n",
              "    }\n",
              "\n",
              "    .dataframe tbody tr th {\n",
              "        vertical-align: top;\n",
              "    }\n",
              "\n",
              "    .dataframe thead th {\n",
              "        text-align: right;\n",
              "    }\n",
              "</style>\n",
              "<table border=\"1\" class=\"dataframe\">\n",
              "  <thead>\n",
              "    <tr style=\"text-align: right;\">\n",
              "      <th></th>\n",
              "      <th>emp_title</th>\n",
              "      <th>emp_length</th>\n",
              "      <th>pub_rec_bankruptcies</th>\n",
              "      <th>last_pymnt_d</th>\n",
              "      <th>collections_12_mths_ex_med</th>\n",
              "      <th>chargeoff_within_12_mths</th>\n",
              "      <th>revol_util</th>\n",
              "      <th>tax_liens</th>\n",
              "      <th>title</th>\n",
              "      <th>last_credit_pull_d</th>\n",
              "    </tr>\n",
              "  </thead>\n",
              "  <tbody>\n",
              "    <tr>\n",
              "      <th>0</th>\n",
              "      <td>NaN</td>\n",
              "      <td>10+ years</td>\n",
              "      <td>0.0</td>\n",
              "      <td>Jan-15</td>\n",
              "      <td>0.0</td>\n",
              "      <td>0.0</td>\n",
              "      <td>83.70%</td>\n",
              "      <td>0.0</td>\n",
              "      <td>Computer</td>\n",
              "      <td>May-16</td>\n",
              "    </tr>\n",
              "    <tr>\n",
              "      <th>1</th>\n",
              "      <td>Ryder</td>\n",
              "      <td>&lt; 1 year</td>\n",
              "      <td>0.0</td>\n",
              "      <td>Apr-13</td>\n",
              "      <td>0.0</td>\n",
              "      <td>0.0</td>\n",
              "      <td>9.40%</td>\n",
              "      <td>0.0</td>\n",
              "      <td>bike</td>\n",
              "      <td>Sep-13</td>\n",
              "    </tr>\n",
              "    <tr>\n",
              "      <th>2</th>\n",
              "      <td>NaN</td>\n",
              "      <td>10+ years</td>\n",
              "      <td>0.0</td>\n",
              "      <td>Jun-14</td>\n",
              "      <td>0.0</td>\n",
              "      <td>0.0</td>\n",
              "      <td>98.50%</td>\n",
              "      <td>0.0</td>\n",
              "      <td>real estate business</td>\n",
              "      <td>May-16</td>\n",
              "    </tr>\n",
              "    <tr>\n",
              "      <th>3</th>\n",
              "      <td>AIR RESOURCES BOARD</td>\n",
              "      <td>10+ years</td>\n",
              "      <td>0.0</td>\n",
              "      <td>Jan-15</td>\n",
              "      <td>0.0</td>\n",
              "      <td>0.0</td>\n",
              "      <td>21%</td>\n",
              "      <td>0.0</td>\n",
              "      <td>personel</td>\n",
              "      <td>Apr-16</td>\n",
              "    </tr>\n",
              "    <tr>\n",
              "      <th>4</th>\n",
              "      <td>University Medical Group</td>\n",
              "      <td>1 year</td>\n",
              "      <td>0.0</td>\n",
              "      <td>May-16</td>\n",
              "      <td>0.0</td>\n",
              "      <td>0.0</td>\n",
              "      <td>53.90%</td>\n",
              "      <td>0.0</td>\n",
              "      <td>Personal</td>\n",
              "      <td>May-16</td>\n",
              "    </tr>\n",
              "  </tbody>\n",
              "</table>\n",
              "</div>\n",
              "      <button class=\"colab-df-convert\" onclick=\"convertToInteractive('df-6342d513-3e4f-4114-ac77-180d1aeccfe2')\"\n",
              "              title=\"Convert this dataframe to an interactive table.\"\n",
              "              style=\"display:none;\">\n",
              "        \n",
              "  <svg xmlns=\"http://www.w3.org/2000/svg\" height=\"24px\"viewBox=\"0 0 24 24\"\n",
              "       width=\"24px\">\n",
              "    <path d=\"M0 0h24v24H0V0z\" fill=\"none\"/>\n",
              "    <path d=\"M18.56 5.44l.94 2.06.94-2.06 2.06-.94-2.06-.94-.94-2.06-.94 2.06-2.06.94zm-11 1L8.5 8.5l.94-2.06 2.06-.94-2.06-.94L8.5 2.5l-.94 2.06-2.06.94zm10 10l.94 2.06.94-2.06 2.06-.94-2.06-.94-.94-2.06-.94 2.06-2.06.94z\"/><path d=\"M17.41 7.96l-1.37-1.37c-.4-.4-.92-.59-1.43-.59-.52 0-1.04.2-1.43.59L10.3 9.45l-7.72 7.72c-.78.78-.78 2.05 0 2.83L4 21.41c.39.39.9.59 1.41.59.51 0 1.02-.2 1.41-.59l7.78-7.78 2.81-2.81c.8-.78.8-2.07 0-2.86zM5.41 20L4 18.59l7.72-7.72 1.47 1.35L5.41 20z\"/>\n",
              "  </svg>\n",
              "      </button>\n",
              "      \n",
              "  <style>\n",
              "    .colab-df-container {\n",
              "      display:flex;\n",
              "      flex-wrap:wrap;\n",
              "      gap: 12px;\n",
              "    }\n",
              "\n",
              "    .colab-df-convert {\n",
              "      background-color: #E8F0FE;\n",
              "      border: none;\n",
              "      border-radius: 50%;\n",
              "      cursor: pointer;\n",
              "      display: none;\n",
              "      fill: #1967D2;\n",
              "      height: 32px;\n",
              "      padding: 0 0 0 0;\n",
              "      width: 32px;\n",
              "    }\n",
              "\n",
              "    .colab-df-convert:hover {\n",
              "      background-color: #E2EBFA;\n",
              "      box-shadow: 0px 1px 2px rgba(60, 64, 67, 0.3), 0px 1px 3px 1px rgba(60, 64, 67, 0.15);\n",
              "      fill: #174EA6;\n",
              "    }\n",
              "\n",
              "    [theme=dark] .colab-df-convert {\n",
              "      background-color: #3B4455;\n",
              "      fill: #D2E3FC;\n",
              "    }\n",
              "\n",
              "    [theme=dark] .colab-df-convert:hover {\n",
              "      background-color: #434B5C;\n",
              "      box-shadow: 0px 1px 3px 1px rgba(0, 0, 0, 0.15);\n",
              "      filter: drop-shadow(0px 1px 2px rgba(0, 0, 0, 0.3));\n",
              "      fill: #FFFFFF;\n",
              "    }\n",
              "  </style>\n",
              "\n",
              "      <script>\n",
              "        const buttonEl =\n",
              "          document.querySelector('#df-6342d513-3e4f-4114-ac77-180d1aeccfe2 button.colab-df-convert');\n",
              "        buttonEl.style.display =\n",
              "          google.colab.kernel.accessAllowed ? 'block' : 'none';\n",
              "\n",
              "        async function convertToInteractive(key) {\n",
              "          const element = document.querySelector('#df-6342d513-3e4f-4114-ac77-180d1aeccfe2');\n",
              "          const dataTable =\n",
              "            await google.colab.kernel.invokeFunction('convertToInteractive',\n",
              "                                                     [key], {});\n",
              "          if (!dataTable) return;\n",
              "\n",
              "          const docLinkHtml = 'Like what you see? Visit the ' +\n",
              "            '<a target=\"_blank\" href=https://colab.research.google.com/notebooks/data_table.ipynb>data table notebook</a>'\n",
              "            + ' to learn more about interactive tables.';\n",
              "          element.innerHTML = '';\n",
              "          dataTable['output_type'] = 'display_data';\n",
              "          await google.colab.output.renderOutput(dataTable, element);\n",
              "          const docLink = document.createElement('div');\n",
              "          docLink.innerHTML = docLinkHtml;\n",
              "          element.appendChild(docLink);\n",
              "        }\n",
              "      </script>\n",
              "    </div>\n",
              "  </div>\n",
              "  "
            ]
          },
          "metadata": {},
          "execution_count": 86
        }
      ]
    },
    {
      "cell_type": "code",
      "source": [
        "## As the missing values of low and there is no logical ways of imputting them all\n",
        "## Hence I am dropping the rows containing missing values\n",
        "# df4 = df3.drop(low_missing_values_col)\n",
        "df4 = df[df3.index].dropna()\n",
        "df4.shape"
      ],
      "metadata": {
        "colab": {
          "base_uri": "https://localhost:8080/"
        },
        "id": "P0eMFXuC9usL",
        "outputId": "80ef77fa-ffc8-44ef-94ad-627f7f300999"
      },
      "execution_count": 89,
      "outputs": [
        {
          "output_type": "execute_result",
          "data": {
            "text/plain": [
              "(36431, 53)"
            ]
          },
          "metadata": {},
          "execution_count": 89
        }
      ]
    },
    {
      "cell_type": "code",
      "source": [
        "pd.reset_option('all')\n",
        "pd.set_option('max_columns', None)\n",
        "df4.head(2)"
      ],
      "metadata": {
        "colab": {
          "base_uri": "https://localhost:8080/",
          "height": 332
        },
        "id": "Gqko3E_bpnU5",
        "outputId": "2ffc5a44-72b5-4ce4-acfa-576afc056ce3"
      },
      "execution_count": 90,
      "outputs": [
        {
          "output_type": "stream",
          "name": "stdout",
          "text": [
            "As the xlwt package is no longer maintained, the xlwt engine will be removed in a future version of pandas. This is the only engine in pandas that supports writing in the xls format. Install openpyxl and write to an xlsx file instead.\n",
            "\n",
            ": boolean\n",
            "    use_inf_as_null had been deprecated and will be removed in a future\n",
            "    version. Use `use_inf_as_na` instead.\n",
            "\n"
          ]
        },
        {
          "output_type": "execute_result",
          "data": {
            "text/plain": [
              "        id  member_id  loan_amnt  funded_amnt  funded_amnt_inv        term  \\\n",
              "1  1077430    1314167       2500         2500           2500.0   60 months   \n",
              "3  1076863    1277178      10000        10000          10000.0   36 months   \n",
              "\n",
              "  int_rate  installment grade sub_grade            emp_title emp_length  \\\n",
              "1   15.27%        59.83     C        C4                Ryder   < 1 year   \n",
              "3   13.49%       339.31     C        C1  AIR RESOURCES BOARD  10+ years   \n",
              "\n",
              "  home_ownership  annual_inc verification_status issue_d  loan_status  \\\n",
              "1           RENT     30000.0     Source Verified  Dec-11  Charged Off   \n",
              "3           RENT     49200.0     Source Verified  Dec-11   Fully Paid   \n",
              "\n",
              "  pymnt_plan                                                url purpose  \\\n",
              "1          n  https://lendingclub.com/browse/loanDetail.acti...     car   \n",
              "3          n  https://lendingclub.com/browse/loanDetail.acti...   other   \n",
              "\n",
              "      title zip_code addr_state   dti  delinq_2yrs earliest_cr_line  \\\n",
              "1      bike    309xx         GA   1.0            0           Apr-99   \n",
              "3  personel    917xx         CA  20.0            0           Feb-96   \n",
              "\n",
              "   inq_last_6mths  open_acc  pub_rec  revol_bal revol_util  total_acc  \\\n",
              "1               5         3        0       1687      9.40%          4   \n",
              "3               1        10        0       5598        21%         37   \n",
              "\n",
              "  initial_list_status  out_prncp  out_prncp_inv  total_pymnt  total_pymnt_inv  \\\n",
              "1                   f        0.0            0.0      1008.71          1008.71   \n",
              "3                   f        0.0            0.0     12231.89         12231.89   \n",
              "\n",
              "   total_rec_prncp  total_rec_int  total_rec_late_fee  recoveries  \\\n",
              "1           456.46         435.17                0.00      117.08   \n",
              "3         10000.00        2214.92               16.97        0.00   \n",
              "\n",
              "   collection_recovery_fee last_pymnt_d  last_pymnt_amnt last_credit_pull_d  \\\n",
              "1                     1.11       Apr-13           119.66             Sep-13   \n",
              "3                     0.00       Jan-15           357.48             Apr-16   \n",
              "\n",
              "   collections_12_mths_ex_med  policy_code application_type  acc_now_delinq  \\\n",
              "1                         0.0            1       INDIVIDUAL               0   \n",
              "3                         0.0            1       INDIVIDUAL               0   \n",
              "\n",
              "   chargeoff_within_12_mths  delinq_amnt  pub_rec_bankruptcies  tax_liens  \n",
              "1                       0.0            0                   0.0        0.0  \n",
              "3                       0.0            0                   0.0        0.0  "
            ],
            "text/html": [
              "\n",
              "  <div id=\"df-87c48100-ad6f-4c75-8449-13bee62eacf9\">\n",
              "    <div class=\"colab-df-container\">\n",
              "      <div>\n",
              "<style scoped>\n",
              "    .dataframe tbody tr th:only-of-type {\n",
              "        vertical-align: middle;\n",
              "    }\n",
              "\n",
              "    .dataframe tbody tr th {\n",
              "        vertical-align: top;\n",
              "    }\n",
              "\n",
              "    .dataframe thead th {\n",
              "        text-align: right;\n",
              "    }\n",
              "</style>\n",
              "<table border=\"1\" class=\"dataframe\">\n",
              "  <thead>\n",
              "    <tr style=\"text-align: right;\">\n",
              "      <th></th>\n",
              "      <th>id</th>\n",
              "      <th>member_id</th>\n",
              "      <th>loan_amnt</th>\n",
              "      <th>funded_amnt</th>\n",
              "      <th>funded_amnt_inv</th>\n",
              "      <th>term</th>\n",
              "      <th>int_rate</th>\n",
              "      <th>installment</th>\n",
              "      <th>grade</th>\n",
              "      <th>sub_grade</th>\n",
              "      <th>emp_title</th>\n",
              "      <th>emp_length</th>\n",
              "      <th>home_ownership</th>\n",
              "      <th>annual_inc</th>\n",
              "      <th>verification_status</th>\n",
              "      <th>issue_d</th>\n",
              "      <th>loan_status</th>\n",
              "      <th>pymnt_plan</th>\n",
              "      <th>url</th>\n",
              "      <th>purpose</th>\n",
              "      <th>title</th>\n",
              "      <th>zip_code</th>\n",
              "      <th>addr_state</th>\n",
              "      <th>dti</th>\n",
              "      <th>delinq_2yrs</th>\n",
              "      <th>earliest_cr_line</th>\n",
              "      <th>inq_last_6mths</th>\n",
              "      <th>open_acc</th>\n",
              "      <th>pub_rec</th>\n",
              "      <th>revol_bal</th>\n",
              "      <th>revol_util</th>\n",
              "      <th>total_acc</th>\n",
              "      <th>initial_list_status</th>\n",
              "      <th>out_prncp</th>\n",
              "      <th>out_prncp_inv</th>\n",
              "      <th>total_pymnt</th>\n",
              "      <th>total_pymnt_inv</th>\n",
              "      <th>total_rec_prncp</th>\n",
              "      <th>total_rec_int</th>\n",
              "      <th>total_rec_late_fee</th>\n",
              "      <th>recoveries</th>\n",
              "      <th>collection_recovery_fee</th>\n",
              "      <th>last_pymnt_d</th>\n",
              "      <th>last_pymnt_amnt</th>\n",
              "      <th>last_credit_pull_d</th>\n",
              "      <th>collections_12_mths_ex_med</th>\n",
              "      <th>policy_code</th>\n",
              "      <th>application_type</th>\n",
              "      <th>acc_now_delinq</th>\n",
              "      <th>chargeoff_within_12_mths</th>\n",
              "      <th>delinq_amnt</th>\n",
              "      <th>pub_rec_bankruptcies</th>\n",
              "      <th>tax_liens</th>\n",
              "    </tr>\n",
              "  </thead>\n",
              "  <tbody>\n",
              "    <tr>\n",
              "      <th>1</th>\n",
              "      <td>1077430</td>\n",
              "      <td>1314167</td>\n",
              "      <td>2500</td>\n",
              "      <td>2500</td>\n",
              "      <td>2500.0</td>\n",
              "      <td>60 months</td>\n",
              "      <td>15.27%</td>\n",
              "      <td>59.83</td>\n",
              "      <td>C</td>\n",
              "      <td>C4</td>\n",
              "      <td>Ryder</td>\n",
              "      <td>&lt; 1 year</td>\n",
              "      <td>RENT</td>\n",
              "      <td>30000.0</td>\n",
              "      <td>Source Verified</td>\n",
              "      <td>Dec-11</td>\n",
              "      <td>Charged Off</td>\n",
              "      <td>n</td>\n",
              "      <td>https://lendingclub.com/browse/loanDetail.acti...</td>\n",
              "      <td>car</td>\n",
              "      <td>bike</td>\n",
              "      <td>309xx</td>\n",
              "      <td>GA</td>\n",
              "      <td>1.0</td>\n",
              "      <td>0</td>\n",
              "      <td>Apr-99</td>\n",
              "      <td>5</td>\n",
              "      <td>3</td>\n",
              "      <td>0</td>\n",
              "      <td>1687</td>\n",
              "      <td>9.40%</td>\n",
              "      <td>4</td>\n",
              "      <td>f</td>\n",
              "      <td>0.0</td>\n",
              "      <td>0.0</td>\n",
              "      <td>1008.71</td>\n",
              "      <td>1008.71</td>\n",
              "      <td>456.46</td>\n",
              "      <td>435.17</td>\n",
              "      <td>0.00</td>\n",
              "      <td>117.08</td>\n",
              "      <td>1.11</td>\n",
              "      <td>Apr-13</td>\n",
              "      <td>119.66</td>\n",
              "      <td>Sep-13</td>\n",
              "      <td>0.0</td>\n",
              "      <td>1</td>\n",
              "      <td>INDIVIDUAL</td>\n",
              "      <td>0</td>\n",
              "      <td>0.0</td>\n",
              "      <td>0</td>\n",
              "      <td>0.0</td>\n",
              "      <td>0.0</td>\n",
              "    </tr>\n",
              "    <tr>\n",
              "      <th>3</th>\n",
              "      <td>1076863</td>\n",
              "      <td>1277178</td>\n",
              "      <td>10000</td>\n",
              "      <td>10000</td>\n",
              "      <td>10000.0</td>\n",
              "      <td>36 months</td>\n",
              "      <td>13.49%</td>\n",
              "      <td>339.31</td>\n",
              "      <td>C</td>\n",
              "      <td>C1</td>\n",
              "      <td>AIR RESOURCES BOARD</td>\n",
              "      <td>10+ years</td>\n",
              "      <td>RENT</td>\n",
              "      <td>49200.0</td>\n",
              "      <td>Source Verified</td>\n",
              "      <td>Dec-11</td>\n",
              "      <td>Fully Paid</td>\n",
              "      <td>n</td>\n",
              "      <td>https://lendingclub.com/browse/loanDetail.acti...</td>\n",
              "      <td>other</td>\n",
              "      <td>personel</td>\n",
              "      <td>917xx</td>\n",
              "      <td>CA</td>\n",
              "      <td>20.0</td>\n",
              "      <td>0</td>\n",
              "      <td>Feb-96</td>\n",
              "      <td>1</td>\n",
              "      <td>10</td>\n",
              "      <td>0</td>\n",
              "      <td>5598</td>\n",
              "      <td>21%</td>\n",
              "      <td>37</td>\n",
              "      <td>f</td>\n",
              "      <td>0.0</td>\n",
              "      <td>0.0</td>\n",
              "      <td>12231.89</td>\n",
              "      <td>12231.89</td>\n",
              "      <td>10000.00</td>\n",
              "      <td>2214.92</td>\n",
              "      <td>16.97</td>\n",
              "      <td>0.00</td>\n",
              "      <td>0.00</td>\n",
              "      <td>Jan-15</td>\n",
              "      <td>357.48</td>\n",
              "      <td>Apr-16</td>\n",
              "      <td>0.0</td>\n",
              "      <td>1</td>\n",
              "      <td>INDIVIDUAL</td>\n",
              "      <td>0</td>\n",
              "      <td>0.0</td>\n",
              "      <td>0</td>\n",
              "      <td>0.0</td>\n",
              "      <td>0.0</td>\n",
              "    </tr>\n",
              "  </tbody>\n",
              "</table>\n",
              "</div>\n",
              "      <button class=\"colab-df-convert\" onclick=\"convertToInteractive('df-87c48100-ad6f-4c75-8449-13bee62eacf9')\"\n",
              "              title=\"Convert this dataframe to an interactive table.\"\n",
              "              style=\"display:none;\">\n",
              "        \n",
              "  <svg xmlns=\"http://www.w3.org/2000/svg\" height=\"24px\"viewBox=\"0 0 24 24\"\n",
              "       width=\"24px\">\n",
              "    <path d=\"M0 0h24v24H0V0z\" fill=\"none\"/>\n",
              "    <path d=\"M18.56 5.44l.94 2.06.94-2.06 2.06-.94-2.06-.94-.94-2.06-.94 2.06-2.06.94zm-11 1L8.5 8.5l.94-2.06 2.06-.94-2.06-.94L8.5 2.5l-.94 2.06-2.06.94zm10 10l.94 2.06.94-2.06 2.06-.94-2.06-.94-.94-2.06-.94 2.06-2.06.94z\"/><path d=\"M17.41 7.96l-1.37-1.37c-.4-.4-.92-.59-1.43-.59-.52 0-1.04.2-1.43.59L10.3 9.45l-7.72 7.72c-.78.78-.78 2.05 0 2.83L4 21.41c.39.39.9.59 1.41.59.51 0 1.02-.2 1.41-.59l7.78-7.78 2.81-2.81c.8-.78.8-2.07 0-2.86zM5.41 20L4 18.59l7.72-7.72 1.47 1.35L5.41 20z\"/>\n",
              "  </svg>\n",
              "      </button>\n",
              "      \n",
              "  <style>\n",
              "    .colab-df-container {\n",
              "      display:flex;\n",
              "      flex-wrap:wrap;\n",
              "      gap: 12px;\n",
              "    }\n",
              "\n",
              "    .colab-df-convert {\n",
              "      background-color: #E8F0FE;\n",
              "      border: none;\n",
              "      border-radius: 50%;\n",
              "      cursor: pointer;\n",
              "      display: none;\n",
              "      fill: #1967D2;\n",
              "      height: 32px;\n",
              "      padding: 0 0 0 0;\n",
              "      width: 32px;\n",
              "    }\n",
              "\n",
              "    .colab-df-convert:hover {\n",
              "      background-color: #E2EBFA;\n",
              "      box-shadow: 0px 1px 2px rgba(60, 64, 67, 0.3), 0px 1px 3px 1px rgba(60, 64, 67, 0.15);\n",
              "      fill: #174EA6;\n",
              "    }\n",
              "\n",
              "    [theme=dark] .colab-df-convert {\n",
              "      background-color: #3B4455;\n",
              "      fill: #D2E3FC;\n",
              "    }\n",
              "\n",
              "    [theme=dark] .colab-df-convert:hover {\n",
              "      background-color: #434B5C;\n",
              "      box-shadow: 0px 1px 3px 1px rgba(0, 0, 0, 0.15);\n",
              "      filter: drop-shadow(0px 1px 2px rgba(0, 0, 0, 0.3));\n",
              "      fill: #FFFFFF;\n",
              "    }\n",
              "  </style>\n",
              "\n",
              "      <script>\n",
              "        const buttonEl =\n",
              "          document.querySelector('#df-87c48100-ad6f-4c75-8449-13bee62eacf9 button.colab-df-convert');\n",
              "        buttonEl.style.display =\n",
              "          google.colab.kernel.accessAllowed ? 'block' : 'none';\n",
              "\n",
              "        async function convertToInteractive(key) {\n",
              "          const element = document.querySelector('#df-87c48100-ad6f-4c75-8449-13bee62eacf9');\n",
              "          const dataTable =\n",
              "            await google.colab.kernel.invokeFunction('convertToInteractive',\n",
              "                                                     [key], {});\n",
              "          if (!dataTable) return;\n",
              "\n",
              "          const docLinkHtml = 'Like what you see? Visit the ' +\n",
              "            '<a target=\"_blank\" href=https://colab.research.google.com/notebooks/data_table.ipynb>data table notebook</a>'\n",
              "            + ' to learn more about interactive tables.';\n",
              "          element.innerHTML = '';\n",
              "          dataTable['output_type'] = 'display_data';\n",
              "          await google.colab.output.renderOutput(dataTable, element);\n",
              "          const docLink = document.createElement('div');\n",
              "          docLink.innerHTML = docLinkHtml;\n",
              "          element.appendChild(docLink);\n",
              "        }\n",
              "      </script>\n",
              "    </div>\n",
              "  </div>\n",
              "  "
            ]
          },
          "metadata": {},
          "execution_count": 90
        }
      ]
    },
    {
      "cell_type": "markdown",
      "source": [
        "## Data Standardization"
      ],
      "metadata": {
        "id": "HtvJuPLm37Cs"
      }
    },
    {
      "cell_type": "code",
      "source": [
        "df4.info()"
      ],
      "metadata": {
        "colab": {
          "base_uri": "https://localhost:8080/"
        },
        "id": "YDiUWRcvT4pd",
        "outputId": "cb79350d-ae32-4777-dac5-3179f71ae7ee"
      },
      "execution_count": 105,
      "outputs": [
        {
          "output_type": "stream",
          "name": "stdout",
          "text": [
            "<class 'pandas.core.frame.DataFrame'>\n",
            "Int64Index: 36431 entries, 1 to 39623\n",
            "Data columns (total 53 columns):\n",
            " #   Column                      Non-Null Count  Dtype  \n",
            "---  ------                      --------------  -----  \n",
            " 0   id                          36431 non-null  int64  \n",
            " 1   member_id                   36431 non-null  int64  \n",
            " 2   loan_amnt                   36431 non-null  int64  \n",
            " 3   funded_amnt                 36431 non-null  int64  \n",
            " 4   funded_amnt_inv             36431 non-null  float64\n",
            " 5   term                        36431 non-null  int64  \n",
            " 6   int_rate                    36431 non-null  float64\n",
            " 7   installment                 36431 non-null  float64\n",
            " 8   grade                       36431 non-null  object \n",
            " 9   sub_grade                   36431 non-null  object \n",
            " 10  emp_title                   36431 non-null  object \n",
            " 11  emp_length                  36431 non-null  int64  \n",
            " 12  home_ownership              36431 non-null  object \n",
            " 13  annual_inc                  36431 non-null  float64\n",
            " 14  verification_status         36431 non-null  object \n",
            " 15  issue_d                     36431 non-null  object \n",
            " 16  loan_status                 36431 non-null  object \n",
            " 17  pymnt_plan                  36431 non-null  object \n",
            " 18  url                         36431 non-null  object \n",
            " 19  purpose                     36431 non-null  object \n",
            " 20  title                       36431 non-null  object \n",
            " 21  zip_code                    36431 non-null  object \n",
            " 22  addr_state                  36431 non-null  object \n",
            " 23  dti                         36431 non-null  float64\n",
            " 24  delinq_2yrs                 36431 non-null  int64  \n",
            " 25  earliest_cr_line            36431 non-null  object \n",
            " 26  inq_last_6mths              36431 non-null  int64  \n",
            " 27  open_acc                    36431 non-null  int64  \n",
            " 28  pub_rec                     36431 non-null  int64  \n",
            " 29  revol_bal                   36431 non-null  int64  \n",
            " 30  revol_util                  36431 non-null  float64\n",
            " 31  total_acc                   36431 non-null  int64  \n",
            " 32  initial_list_status         36431 non-null  object \n",
            " 33  out_prncp                   36431 non-null  float64\n",
            " 34  out_prncp_inv               36431 non-null  float64\n",
            " 35  total_pymnt                 36431 non-null  float64\n",
            " 36  total_pymnt_inv             36431 non-null  float64\n",
            " 37  total_rec_prncp             36431 non-null  float64\n",
            " 38  total_rec_int               36431 non-null  float64\n",
            " 39  total_rec_late_fee          36431 non-null  float64\n",
            " 40  recoveries                  36431 non-null  float64\n",
            " 41  collection_recovery_fee     36431 non-null  float64\n",
            " 42  last_pymnt_d                36431 non-null  object \n",
            " 43  last_pymnt_amnt             36431 non-null  float64\n",
            " 44  last_credit_pull_d          36431 non-null  object \n",
            " 45  collections_12_mths_ex_med  36431 non-null  float64\n",
            " 46  policy_code                 36431 non-null  int64  \n",
            " 47  application_type            36431 non-null  object \n",
            " 48  acc_now_delinq              36431 non-null  int64  \n",
            " 49  chargeoff_within_12_mths    36431 non-null  float64\n",
            " 50  delinq_amnt                 36431 non-null  int64  \n",
            " 51  pub_rec_bankruptcies        36431 non-null  float64\n",
            " 52  tax_liens                   36431 non-null  float64\n",
            "dtypes: float64(20), int64(15), object(18)\n",
            "memory usage: 15.0+ MB\n"
          ]
        }
      ]
    },
    {
      "cell_type": "markdown",
      "source": [
        "Following columns can be fixed to analyse them better\n",
        "- Term, emp_length, Interest rate, revol_util  - Can be converted to numberic values\n",
        "- issue_d, earliest_cr_line, last_pymnt_d,last_credit_pull_d - Can be segegated to year and month for better analysis"
      ],
      "metadata": {
        "id": "c9X81GTU4Cn_"
      }
    },
    {
      "cell_type": "code",
      "source": [
        "## Fixing the numberic columns\n",
        "df4.term = df4.term.apply(lambda x: x.strip(' months')).astype('int64')\n",
        "df4.emp_length = df4.emp_length.apply(lambda x: x.strip(' years < year +')).astype('int64')\n",
        "df4.int_rate = df4.int_rate.apply(lambda x: x.strip(' %')).astype('float')\n",
        "df4.revol_util = df4.revol_util.apply(lambda x: x.strip(' %')).astype('float')"
      ],
      "metadata": {
        "id": "Oto7J-bv7Shd"
      },
      "execution_count": 104,
      "outputs": []
    },
    {
      "cell_type": "code",
      "source": [
        "df4.revol_util.apply(lambda x: x.strip(' %')).astype('float')"
      ],
      "metadata": {
        "id": "6PzXNo5o6rAt",
        "outputId": "868524cd-f861-477c-d02f-eb479021c6fa",
        "colab": {
          "base_uri": "https://localhost:8080/"
        }
      },
      "execution_count": 103,
      "outputs": [
        {
          "output_type": "execute_result",
          "data": {
            "text/plain": [
              "1         9.4\n",
              "3        21.0\n",
              "4        53.9\n",
              "5        28.3\n",
              "6        85.6\n",
              "         ... \n",
              "39433    47.4\n",
              "39475    18.6\n",
              "39551    96.5\n",
              "39562    68.7\n",
              "39623    62.9\n",
              "Name: revol_util, Length: 36431, dtype: float64"
            ]
          },
          "metadata": {},
          "execution_count": 103
        }
      ]
    },
    {
      "cell_type": "code",
      "source": [
        "df5.select_dtypes(include='object')"
      ],
      "metadata": {
        "colab": {
          "base_uri": "https://localhost:8080/",
          "height": 661
        },
        "id": "_EI1ihq1V3nx",
        "outputId": "b878e6b9-614d-4a37-9f24-f2ffb2e9deb6"
      },
      "execution_count": 18,
      "outputs": [
        {
          "output_type": "execute_result",
          "data": {
            "text/plain": [
              "             term int_rate grade sub_grade home_ownership verification_status  \\\n",
              "0       36 months   10.65%     B        B2           RENT            Verified   \n",
              "1       60 months   15.27%     C        C4           RENT     Source Verified   \n",
              "2       36 months   15.96%     C        C5           RENT        Not Verified   \n",
              "3       36 months   13.49%     C        C1           RENT     Source Verified   \n",
              "4       60 months   12.69%     B        B5           RENT     Source Verified   \n",
              "...           ...      ...   ...       ...            ...                 ...   \n",
              "39712   36 months    8.07%     A        A4       MORTGAGE        Not Verified   \n",
              "39713   36 months   10.28%     C        C1           RENT        Not Verified   \n",
              "39714   36 months    8.07%     A        A4       MORTGAGE        Not Verified   \n",
              "39715   36 months    7.43%     A        A2       MORTGAGE        Not Verified   \n",
              "39716   36 months   13.75%     E        E2            OWN        Not Verified   \n",
              "\n",
              "      issue_d  loan_status pymnt_plan  \\\n",
              "0      Dec-11   Fully Paid          n   \n",
              "1      Dec-11  Charged Off          n   \n",
              "2      Dec-11   Fully Paid          n   \n",
              "3      Dec-11   Fully Paid          n   \n",
              "4      Dec-11      Current          n   \n",
              "...       ...          ...        ...   \n",
              "39712  Jul-07   Fully Paid          n   \n",
              "39713  Jul-07   Fully Paid          n   \n",
              "39714  Jul-07   Fully Paid          n   \n",
              "39715  Jul-07   Fully Paid          n   \n",
              "39716  Jun-07   Fully Paid          n   \n",
              "\n",
              "                                                     url             purpose  \\\n",
              "0      https://lendingclub.com/browse/loanDetail.acti...         credit_card   \n",
              "1      https://lendingclub.com/browse/loanDetail.acti...                 car   \n",
              "2      https://lendingclub.com/browse/loanDetail.acti...      small_business   \n",
              "3      https://lendingclub.com/browse/loanDetail.acti...               other   \n",
              "4      https://lendingclub.com/browse/loanDetail.acti...               other   \n",
              "...                                                  ...                 ...   \n",
              "39712  https://lendingclub.com/browse/loanDetail.acti...    home_improvement   \n",
              "39713  https://lendingclub.com/browse/loanDetail.acti...         credit_card   \n",
              "39714  https://lendingclub.com/browse/loanDetail.acti...  debt_consolidation   \n",
              "39715  https://lendingclub.com/browse/loanDetail.acti...               other   \n",
              "39716  https://lendingclub.com/browse/loanDetail.acti...  debt_consolidation   \n",
              "\n",
              "      zip_code addr_state earliest_cr_line initial_list_status  \\\n",
              "0        860xx         AZ           Jan-85                   f   \n",
              "1        309xx         GA           Apr-99                   f   \n",
              "2        606xx         IL           Nov-01                   f   \n",
              "3        917xx         CA           Feb-96                   f   \n",
              "4        972xx         OR           Jan-96                   f   \n",
              "...        ...        ...              ...                 ...   \n",
              "39712    802xx         CO           Nov-90                   f   \n",
              "39713    274xx         NC           Dec-86                   f   \n",
              "39714    017xx         MA           Oct-98                   f   \n",
              "39715    208xx         MD           Nov-88                   f   \n",
              "39716    027xx         MA           Oct-03                   f   \n",
              "\n",
              "      application_type  \n",
              "0           INDIVIDUAL  \n",
              "1           INDIVIDUAL  \n",
              "2           INDIVIDUAL  \n",
              "3           INDIVIDUAL  \n",
              "4           INDIVIDUAL  \n",
              "...                ...  \n",
              "39712       INDIVIDUAL  \n",
              "39713       INDIVIDUAL  \n",
              "39714       INDIVIDUAL  \n",
              "39715       INDIVIDUAL  \n",
              "39716       INDIVIDUAL  \n",
              "\n",
              "[39717 rows x 16 columns]"
            ],
            "text/html": [
              "\n",
              "  <div id=\"df-77991675-1932-45f7-b6f1-14d93062c5c8\">\n",
              "    <div class=\"colab-df-container\">\n",
              "      <div>\n",
              "<style scoped>\n",
              "    .dataframe tbody tr th:only-of-type {\n",
              "        vertical-align: middle;\n",
              "    }\n",
              "\n",
              "    .dataframe tbody tr th {\n",
              "        vertical-align: top;\n",
              "    }\n",
              "\n",
              "    .dataframe thead th {\n",
              "        text-align: right;\n",
              "    }\n",
              "</style>\n",
              "<table border=\"1\" class=\"dataframe\">\n",
              "  <thead>\n",
              "    <tr style=\"text-align: right;\">\n",
              "      <th></th>\n",
              "      <th>term</th>\n",
              "      <th>int_rate</th>\n",
              "      <th>grade</th>\n",
              "      <th>sub_grade</th>\n",
              "      <th>home_ownership</th>\n",
              "      <th>verification_status</th>\n",
              "      <th>issue_d</th>\n",
              "      <th>loan_status</th>\n",
              "      <th>pymnt_plan</th>\n",
              "      <th>url</th>\n",
              "      <th>purpose</th>\n",
              "      <th>zip_code</th>\n",
              "      <th>addr_state</th>\n",
              "      <th>earliest_cr_line</th>\n",
              "      <th>initial_list_status</th>\n",
              "      <th>application_type</th>\n",
              "    </tr>\n",
              "  </thead>\n",
              "  <tbody>\n",
              "    <tr>\n",
              "      <th>0</th>\n",
              "      <td>36 months</td>\n",
              "      <td>10.65%</td>\n",
              "      <td>B</td>\n",
              "      <td>B2</td>\n",
              "      <td>RENT</td>\n",
              "      <td>Verified</td>\n",
              "      <td>Dec-11</td>\n",
              "      <td>Fully Paid</td>\n",
              "      <td>n</td>\n",
              "      <td>https://lendingclub.com/browse/loanDetail.acti...</td>\n",
              "      <td>credit_card</td>\n",
              "      <td>860xx</td>\n",
              "      <td>AZ</td>\n",
              "      <td>Jan-85</td>\n",
              "      <td>f</td>\n",
              "      <td>INDIVIDUAL</td>\n",
              "    </tr>\n",
              "    <tr>\n",
              "      <th>1</th>\n",
              "      <td>60 months</td>\n",
              "      <td>15.27%</td>\n",
              "      <td>C</td>\n",
              "      <td>C4</td>\n",
              "      <td>RENT</td>\n",
              "      <td>Source Verified</td>\n",
              "      <td>Dec-11</td>\n",
              "      <td>Charged Off</td>\n",
              "      <td>n</td>\n",
              "      <td>https://lendingclub.com/browse/loanDetail.acti...</td>\n",
              "      <td>car</td>\n",
              "      <td>309xx</td>\n",
              "      <td>GA</td>\n",
              "      <td>Apr-99</td>\n",
              "      <td>f</td>\n",
              "      <td>INDIVIDUAL</td>\n",
              "    </tr>\n",
              "    <tr>\n",
              "      <th>2</th>\n",
              "      <td>36 months</td>\n",
              "      <td>15.96%</td>\n",
              "      <td>C</td>\n",
              "      <td>C5</td>\n",
              "      <td>RENT</td>\n",
              "      <td>Not Verified</td>\n",
              "      <td>Dec-11</td>\n",
              "      <td>Fully Paid</td>\n",
              "      <td>n</td>\n",
              "      <td>https://lendingclub.com/browse/loanDetail.acti...</td>\n",
              "      <td>small_business</td>\n",
              "      <td>606xx</td>\n",
              "      <td>IL</td>\n",
              "      <td>Nov-01</td>\n",
              "      <td>f</td>\n",
              "      <td>INDIVIDUAL</td>\n",
              "    </tr>\n",
              "    <tr>\n",
              "      <th>3</th>\n",
              "      <td>36 months</td>\n",
              "      <td>13.49%</td>\n",
              "      <td>C</td>\n",
              "      <td>C1</td>\n",
              "      <td>RENT</td>\n",
              "      <td>Source Verified</td>\n",
              "      <td>Dec-11</td>\n",
              "      <td>Fully Paid</td>\n",
              "      <td>n</td>\n",
              "      <td>https://lendingclub.com/browse/loanDetail.acti...</td>\n",
              "      <td>other</td>\n",
              "      <td>917xx</td>\n",
              "      <td>CA</td>\n",
              "      <td>Feb-96</td>\n",
              "      <td>f</td>\n",
              "      <td>INDIVIDUAL</td>\n",
              "    </tr>\n",
              "    <tr>\n",
              "      <th>4</th>\n",
              "      <td>60 months</td>\n",
              "      <td>12.69%</td>\n",
              "      <td>B</td>\n",
              "      <td>B5</td>\n",
              "      <td>RENT</td>\n",
              "      <td>Source Verified</td>\n",
              "      <td>Dec-11</td>\n",
              "      <td>Current</td>\n",
              "      <td>n</td>\n",
              "      <td>https://lendingclub.com/browse/loanDetail.acti...</td>\n",
              "      <td>other</td>\n",
              "      <td>972xx</td>\n",
              "      <td>OR</td>\n",
              "      <td>Jan-96</td>\n",
              "      <td>f</td>\n",
              "      <td>INDIVIDUAL</td>\n",
              "    </tr>\n",
              "    <tr>\n",
              "      <th>...</th>\n",
              "      <td>...</td>\n",
              "      <td>...</td>\n",
              "      <td>...</td>\n",
              "      <td>...</td>\n",
              "      <td>...</td>\n",
              "      <td>...</td>\n",
              "      <td>...</td>\n",
              "      <td>...</td>\n",
              "      <td>...</td>\n",
              "      <td>...</td>\n",
              "      <td>...</td>\n",
              "      <td>...</td>\n",
              "      <td>...</td>\n",
              "      <td>...</td>\n",
              "      <td>...</td>\n",
              "      <td>...</td>\n",
              "    </tr>\n",
              "    <tr>\n",
              "      <th>39712</th>\n",
              "      <td>36 months</td>\n",
              "      <td>8.07%</td>\n",
              "      <td>A</td>\n",
              "      <td>A4</td>\n",
              "      <td>MORTGAGE</td>\n",
              "      <td>Not Verified</td>\n",
              "      <td>Jul-07</td>\n",
              "      <td>Fully Paid</td>\n",
              "      <td>n</td>\n",
              "      <td>https://lendingclub.com/browse/loanDetail.acti...</td>\n",
              "      <td>home_improvement</td>\n",
              "      <td>802xx</td>\n",
              "      <td>CO</td>\n",
              "      <td>Nov-90</td>\n",
              "      <td>f</td>\n",
              "      <td>INDIVIDUAL</td>\n",
              "    </tr>\n",
              "    <tr>\n",
              "      <th>39713</th>\n",
              "      <td>36 months</td>\n",
              "      <td>10.28%</td>\n",
              "      <td>C</td>\n",
              "      <td>C1</td>\n",
              "      <td>RENT</td>\n",
              "      <td>Not Verified</td>\n",
              "      <td>Jul-07</td>\n",
              "      <td>Fully Paid</td>\n",
              "      <td>n</td>\n",
              "      <td>https://lendingclub.com/browse/loanDetail.acti...</td>\n",
              "      <td>credit_card</td>\n",
              "      <td>274xx</td>\n",
              "      <td>NC</td>\n",
              "      <td>Dec-86</td>\n",
              "      <td>f</td>\n",
              "      <td>INDIVIDUAL</td>\n",
              "    </tr>\n",
              "    <tr>\n",
              "      <th>39714</th>\n",
              "      <td>36 months</td>\n",
              "      <td>8.07%</td>\n",
              "      <td>A</td>\n",
              "      <td>A4</td>\n",
              "      <td>MORTGAGE</td>\n",
              "      <td>Not Verified</td>\n",
              "      <td>Jul-07</td>\n",
              "      <td>Fully Paid</td>\n",
              "      <td>n</td>\n",
              "      <td>https://lendingclub.com/browse/loanDetail.acti...</td>\n",
              "      <td>debt_consolidation</td>\n",
              "      <td>017xx</td>\n",
              "      <td>MA</td>\n",
              "      <td>Oct-98</td>\n",
              "      <td>f</td>\n",
              "      <td>INDIVIDUAL</td>\n",
              "    </tr>\n",
              "    <tr>\n",
              "      <th>39715</th>\n",
              "      <td>36 months</td>\n",
              "      <td>7.43%</td>\n",
              "      <td>A</td>\n",
              "      <td>A2</td>\n",
              "      <td>MORTGAGE</td>\n",
              "      <td>Not Verified</td>\n",
              "      <td>Jul-07</td>\n",
              "      <td>Fully Paid</td>\n",
              "      <td>n</td>\n",
              "      <td>https://lendingclub.com/browse/loanDetail.acti...</td>\n",
              "      <td>other</td>\n",
              "      <td>208xx</td>\n",
              "      <td>MD</td>\n",
              "      <td>Nov-88</td>\n",
              "      <td>f</td>\n",
              "      <td>INDIVIDUAL</td>\n",
              "    </tr>\n",
              "    <tr>\n",
              "      <th>39716</th>\n",
              "      <td>36 months</td>\n",
              "      <td>13.75%</td>\n",
              "      <td>E</td>\n",
              "      <td>E2</td>\n",
              "      <td>OWN</td>\n",
              "      <td>Not Verified</td>\n",
              "      <td>Jun-07</td>\n",
              "      <td>Fully Paid</td>\n",
              "      <td>n</td>\n",
              "      <td>https://lendingclub.com/browse/loanDetail.acti...</td>\n",
              "      <td>debt_consolidation</td>\n",
              "      <td>027xx</td>\n",
              "      <td>MA</td>\n",
              "      <td>Oct-03</td>\n",
              "      <td>f</td>\n",
              "      <td>INDIVIDUAL</td>\n",
              "    </tr>\n",
              "  </tbody>\n",
              "</table>\n",
              "<p>39717 rows × 16 columns</p>\n",
              "</div>\n",
              "      <button class=\"colab-df-convert\" onclick=\"convertToInteractive('df-77991675-1932-45f7-b6f1-14d93062c5c8')\"\n",
              "              title=\"Convert this dataframe to an interactive table.\"\n",
              "              style=\"display:none;\">\n",
              "        \n",
              "  <svg xmlns=\"http://www.w3.org/2000/svg\" height=\"24px\"viewBox=\"0 0 24 24\"\n",
              "       width=\"24px\">\n",
              "    <path d=\"M0 0h24v24H0V0z\" fill=\"none\"/>\n",
              "    <path d=\"M18.56 5.44l.94 2.06.94-2.06 2.06-.94-2.06-.94-.94-2.06-.94 2.06-2.06.94zm-11 1L8.5 8.5l.94-2.06 2.06-.94-2.06-.94L8.5 2.5l-.94 2.06-2.06.94zm10 10l.94 2.06.94-2.06 2.06-.94-2.06-.94-.94-2.06-.94 2.06-2.06.94z\"/><path d=\"M17.41 7.96l-1.37-1.37c-.4-.4-.92-.59-1.43-.59-.52 0-1.04.2-1.43.59L10.3 9.45l-7.72 7.72c-.78.78-.78 2.05 0 2.83L4 21.41c.39.39.9.59 1.41.59.51 0 1.02-.2 1.41-.59l7.78-7.78 2.81-2.81c.8-.78.8-2.07 0-2.86zM5.41 20L4 18.59l7.72-7.72 1.47 1.35L5.41 20z\"/>\n",
              "  </svg>\n",
              "      </button>\n",
              "      \n",
              "  <style>\n",
              "    .colab-df-container {\n",
              "      display:flex;\n",
              "      flex-wrap:wrap;\n",
              "      gap: 12px;\n",
              "    }\n",
              "\n",
              "    .colab-df-convert {\n",
              "      background-color: #E8F0FE;\n",
              "      border: none;\n",
              "      border-radius: 50%;\n",
              "      cursor: pointer;\n",
              "      display: none;\n",
              "      fill: #1967D2;\n",
              "      height: 32px;\n",
              "      padding: 0 0 0 0;\n",
              "      width: 32px;\n",
              "    }\n",
              "\n",
              "    .colab-df-convert:hover {\n",
              "      background-color: #E2EBFA;\n",
              "      box-shadow: 0px 1px 2px rgba(60, 64, 67, 0.3), 0px 1px 3px 1px rgba(60, 64, 67, 0.15);\n",
              "      fill: #174EA6;\n",
              "    }\n",
              "\n",
              "    [theme=dark] .colab-df-convert {\n",
              "      background-color: #3B4455;\n",
              "      fill: #D2E3FC;\n",
              "    }\n",
              "\n",
              "    [theme=dark] .colab-df-convert:hover {\n",
              "      background-color: #434B5C;\n",
              "      box-shadow: 0px 1px 3px 1px rgba(0, 0, 0, 0.15);\n",
              "      filter: drop-shadow(0px 1px 2px rgba(0, 0, 0, 0.3));\n",
              "      fill: #FFFFFF;\n",
              "    }\n",
              "  </style>\n",
              "\n",
              "      <script>\n",
              "        const buttonEl =\n",
              "          document.querySelector('#df-77991675-1932-45f7-b6f1-14d93062c5c8 button.colab-df-convert');\n",
              "        buttonEl.style.display =\n",
              "          google.colab.kernel.accessAllowed ? 'block' : 'none';\n",
              "\n",
              "        async function convertToInteractive(key) {\n",
              "          const element = document.querySelector('#df-77991675-1932-45f7-b6f1-14d93062c5c8');\n",
              "          const dataTable =\n",
              "            await google.colab.kernel.invokeFunction('convertToInteractive',\n",
              "                                                     [key], {});\n",
              "          if (!dataTable) return;\n",
              "\n",
              "          const docLinkHtml = 'Like what you see? Visit the ' +\n",
              "            '<a target=\"_blank\" href=https://colab.research.google.com/notebooks/data_table.ipynb>data table notebook</a>'\n",
              "            + ' to learn more about interactive tables.';\n",
              "          element.innerHTML = '';\n",
              "          dataTable['output_type'] = 'display_data';\n",
              "          await google.colab.output.renderOutput(dataTable, element);\n",
              "          const docLink = document.createElement('div');\n",
              "          docLink.innerHTML = docLinkHtml;\n",
              "          element.appendChild(docLink);\n",
              "        }\n",
              "      </script>\n",
              "    </div>\n",
              "  </div>\n",
              "  "
            ]
          },
          "metadata": {},
          "execution_count": 18
        }
      ]
    },
    {
      "cell_type": "markdown",
      "source": [
        "## EDA"
      ],
      "metadata": {
        "id": "LR-K2pZCXc3K"
      }
    },
    {
      "cell_type": "code",
      "source": [
        "(df5.loan_status.value_counts()/ len(df5))*100"
      ],
      "metadata": {
        "colab": {
          "base_uri": "https://localhost:8080/"
        },
        "id": "pCyZIM3kWtCY",
        "outputId": "afb3c389-917e-4630-abbc-35ce64f1409a"
      },
      "execution_count": 19,
      "outputs": [
        {
          "output_type": "execute_result",
          "data": {
            "text/plain": [
              "Fully Paid     82.961956\n",
              "Charged Off    14.167737\n",
              "Current         2.870307\n",
              "Name: loan_status, dtype: float64"
            ]
          },
          "metadata": {},
          "execution_count": 19
        }
      ]
    },
    {
      "cell_type": "code",
      "source": [
        "df5.loan_status.value_counts()"
      ],
      "metadata": {
        "colab": {
          "base_uri": "https://localhost:8080/"
        },
        "id": "7LjibqwdZqjo",
        "outputId": "cc1ed6be-d4e2-437e-8331-e64aa2594e25"
      },
      "execution_count": 20,
      "outputs": [
        {
          "output_type": "execute_result",
          "data": {
            "text/plain": [
              "Fully Paid     32950\n",
              "Charged Off     5627\n",
              "Current         1140\n",
              "Name: loan_status, dtype: int64"
            ]
          },
          "metadata": {},
          "execution_count": 20
        }
      ]
    },
    {
      "cell_type": "code",
      "source": [
        "sns.countplot(x=df5.loan_status)\n",
        "plt.title('Loan Statuses')"
      ],
      "metadata": {
        "colab": {
          "base_uri": "https://localhost:8080/",
          "height": 313
        },
        "id": "bnGRHAZ5Xj8Y",
        "outputId": "cf69e161-051f-45eb-85c0-5c1d3b126453"
      },
      "execution_count": 21,
      "outputs": [
        {
          "output_type": "execute_result",
          "data": {
            "text/plain": [
              "Text(0.5, 1.0, 'Loan Statuses')"
            ]
          },
          "metadata": {},
          "execution_count": 21
        },
        {
          "output_type": "display_data",
          "data": {
            "text/plain": [
              "<Figure size 432x288 with 1 Axes>"
            ],
            "image/png": "[encoded data removed]"
          },
          "metadata": {
            "needs_background": "light"
          }
        }
      ]
    },
    {
      "cell_type": "markdown",
      "source": [
        "14 % or around 6K loan applicants has defaulted on the loans. Let us filter out these applicants in our analysis"
      ],
      "metadata": {
        "id": "dMPx3B-GYZ2o"
      }
    },
    {
      "cell_type": "code",
      "source": [
        "charged_off_applicants = df5[df5.loan_status=='Charged Off']\n",
        "charged_off_applicants.head()"
      ],
      "metadata": {
        "colab": {
          "base_uri": "https://localhost:8080/",
          "height": 357
        },
        "id": "XrmaByp5Xzd5",
        "outputId": "73d794b5-6777-4621-b257-517792214b79"
      },
      "execution_count": 22,
      "outputs": [
        {
          "output_type": "execute_result",
          "data": {
            "text/plain": [
              "         id  member_id  loan_amnt  funded_amnt  funded_amnt_inv        term  \\\n",
              "1   1077430    1314167       2500         2500           2500.0   60 months   \n",
              "8   1071795    1306957       5600         5600           5600.0   60 months   \n",
              "9   1071570    1306721       5375         5375           5350.0   60 months   \n",
              "12  1064687    1298717       9000         9000           9000.0   36 months   \n",
              "14  1069057    1303503      10000        10000          10000.0   36 months   \n",
              "\n",
              "   int_rate  installment grade sub_grade home_ownership  annual_inc  \\\n",
              "1    15.27%        59.83     C        C4           RENT     30000.0   \n",
              "8    21.28%       152.39     F        F2            OWN     40000.0   \n",
              "9    12.69%       121.45     B        B5           RENT     15000.0   \n",
              "12   13.49%       305.38     C        C1           RENT     30000.0   \n",
              "14   10.65%       325.74     B        B2           RENT    100000.0   \n",
              "\n",
              "   verification_status issue_d  loan_status pymnt_plan  \\\n",
              "1      Source Verified  Dec-11  Charged Off          n   \n",
              "8      Source Verified  Dec-11  Charged Off          n   \n",
              "9             Verified  Dec-11  Charged Off          n   \n",
              "12     Source Verified  Dec-11  Charged Off          n   \n",
              "14     Source Verified  Dec-11  Charged Off          n   \n",
              "\n",
              "                                                  url             purpose  \\\n",
              "1   https://lendingclub.com/browse/loanDetail.acti...                 car   \n",
              "8   https://lendingclub.com/browse/loanDetail.acti...      small_business   \n",
              "9   https://lendingclub.com/browse/loanDetail.acti...               other   \n",
              "12  https://lendingclub.com/browse/loanDetail.acti...  debt_consolidation   \n",
              "14  https://lendingclub.com/browse/loanDetail.acti...               other   \n",
              "\n",
              "   zip_code addr_state    dti  delinq_2yrs earliest_cr_line  inq_last_6mths  \\\n",
              "1     309xx         GA   1.00            0           Apr-99               5   \n",
              "8     958xx         CA   5.55            0           Apr-04               2   \n",
              "9     774xx         TX  18.08            0           Sep-04               0   \n",
              "12    245xx         VA  10.08            0           Apr-04               1   \n",
              "14    951xx         CA   7.06            0           May-91               2   \n",
              "\n",
              "    open_acc  pub_rec  revol_bal  total_acc initial_list_status  out_prncp  \\\n",
              "1          3        0       1687          4                   f        0.0   \n",
              "8         11        0       5210         13                   f        0.0   \n",
              "9          2        0       9279          3                   f        0.0   \n",
              "12         4        0      10452          9                   f        0.0   \n",
              "14        14        0      11997         29                   f        0.0   \n",
              "\n",
              "    out_prncp_inv  total_pymnt  total_pymnt_inv  total_rec_prncp  \\\n",
              "1             0.0      1008.71          1008.71           456.46   \n",
              "8             0.0       646.02           646.02           162.02   \n",
              "9             0.0      1476.19          1469.34           673.48   \n",
              "12            0.0      2270.70          2270.70          1256.14   \n",
              "14            0.0      7471.99          7471.99          5433.47   \n",
              "\n",
              "    total_rec_int  total_rec_late_fee  recoveries  collection_recovery_fee  \\\n",
              "1          435.17                 0.0      117.08                   1.1100   \n",
              "8          294.94                 0.0      189.06                   2.0900   \n",
              "9          533.42                 0.0      269.29                   2.5200   \n",
              "12         570.26                 0.0      444.30                   4.1600   \n",
              "14        1393.42                 0.0      645.10                   6.3145   \n",
              "\n",
              "    last_pymnt_amnt  policy_code application_type  acc_now_delinq  delinq_amnt  \n",
              "1            119.66            1       INDIVIDUAL               0            0  \n",
              "8            152.39            1       INDIVIDUAL               0            0  \n",
              "9            121.45            1       INDIVIDUAL               0            0  \n",
              "12           305.38            1       INDIVIDUAL               0            0  \n",
              "14           325.74            1       INDIVIDUAL               0            0  "
            ],
            "text/html": [
              "\n",
              "  <div id=\"df-1f8fd1ba-180a-437c-a3ac-e7543a9c4126\">\n",
              "    <div class=\"colab-df-container\">\n",
              "      <div>\n",
              "<style scoped>\n",
              "    .dataframe tbody tr th:only-of-type {\n",
              "        vertical-align: middle;\n",
              "    }\n",
              "\n",
              "    .dataframe tbody tr th {\n",
              "        vertical-align: top;\n",
              "    }\n",
              "\n",
              "    .dataframe thead th {\n",
              "        text-align: right;\n",
              "    }\n",
              "</style>\n",
              "<table border=\"1\" class=\"dataframe\">\n",
              "  <thead>\n",
              "    <tr style=\"text-align: right;\">\n",
              "      <th></th>\n",
              "      <th>id</th>\n",
              "      <th>member_id</th>\n",
              "      <th>loan_amnt</th>\n",
              "      <th>funded_amnt</th>\n",
              "      <th>funded_amnt_inv</th>\n",
              "      <th>term</th>\n",
              "      <th>int_rate</th>\n",
              "      <th>installment</th>\n",
              "      <th>grade</th>\n",
              "      <th>sub_grade</th>\n",
              "      <th>home_ownership</th>\n",
              "      <th>annual_inc</th>\n",
              "      <th>verification_status</th>\n",
              "      <th>issue_d</th>\n",
              "      <th>loan_status</th>\n",
              "      <th>pymnt_plan</th>\n",
              "      <th>url</th>\n",
              "      <th>purpose</th>\n",
              "      <th>zip_code</th>\n",
              "      <th>addr_state</th>\n",
              "      <th>dti</th>\n",
              "      <th>delinq_2yrs</th>\n",
              "      <th>earliest_cr_line</th>\n",
              "      <th>inq_last_6mths</th>\n",
              "      <th>open_acc</th>\n",
              "      <th>pub_rec</th>\n",
              "      <th>revol_bal</th>\n",
              "      <th>total_acc</th>\n",
              "      <th>initial_list_status</th>\n",
              "      <th>out_prncp</th>\n",
              "      <th>out_prncp_inv</th>\n",
              "      <th>total_pymnt</th>\n",
              "      <th>total_pymnt_inv</th>\n",
              "      <th>total_rec_prncp</th>\n",
              "      <th>total_rec_int</th>\n",
              "      <th>total_rec_late_fee</th>\n",
              "      <th>recoveries</th>\n",
              "      <th>collection_recovery_fee</th>\n",
              "      <th>last_pymnt_amnt</th>\n",
              "      <th>policy_code</th>\n",
              "      <th>application_type</th>\n",
              "      <th>acc_now_delinq</th>\n",
              "      <th>delinq_amnt</th>\n",
              "    </tr>\n",
              "  </thead>\n",
              "  <tbody>\n",
              "    <tr>\n",
              "      <th>1</th>\n",
              "      <td>1077430</td>\n",
              "      <td>1314167</td>\n",
              "      <td>2500</td>\n",
              "      <td>2500</td>\n",
              "      <td>2500.0</td>\n",
              "      <td>60 months</td>\n",
              "      <td>15.27%</td>\n",
              "      <td>59.83</td>\n",
              "      <td>C</td>\n",
              "      <td>C4</td>\n",
              "      <td>RENT</td>\n",
              "      <td>30000.0</td>\n",
              "      <td>Source Verified</td>\n",
              "      <td>Dec-11</td>\n",
              "      <td>Charged Off</td>\n",
              "      <td>n</td>\n",
              "      <td>https://lendingclub.com/browse/loanDetail.acti...</td>\n",
              "      <td>car</td>\n",
              "      <td>309xx</td>\n",
              "      <td>GA</td>\n",
              "      <td>1.00</td>\n",
              "      <td>0</td>\n",
              "      <td>Apr-99</td>\n",
              "      <td>5</td>\n",
              "      <td>3</td>\n",
              "      <td>0</td>\n",
              "      <td>1687</td>\n",
              "      <td>4</td>\n",
              "      <td>f</td>\n",
              "      <td>0.0</td>\n",
              "      <td>0.0</td>\n",
              "      <td>1008.71</td>\n",
              "      <td>1008.71</td>\n",
              "      <td>456.46</td>\n",
              "      <td>435.17</td>\n",
              "      <td>0.0</td>\n",
              "      <td>117.08</td>\n",
              "      <td>1.1100</td>\n",
              "      <td>119.66</td>\n",
              "      <td>1</td>\n",
              "      <td>INDIVIDUAL</td>\n",
              "      <td>0</td>\n",
              "      <td>0</td>\n",
              "    </tr>\n",
              "    <tr>\n",
              "      <th>8</th>\n",
              "      <td>1071795</td>\n",
              "      <td>1306957</td>\n",
              "      <td>5600</td>\n",
              "      <td>5600</td>\n",
              "      <td>5600.0</td>\n",
              "      <td>60 months</td>\n",
              "      <td>21.28%</td>\n",
              "      <td>152.39</td>\n",
              "      <td>F</td>\n",
              "      <td>F2</td>\n",
              "      <td>OWN</td>\n",
              "      <td>40000.0</td>\n",
              "      <td>Source Verified</td>\n",
              "      <td>Dec-11</td>\n",
              "      <td>Charged Off</td>\n",
              "      <td>n</td>\n",
              "      <td>https://lendingclub.com/browse/loanDetail.acti...</td>\n",
              "      <td>small_business</td>\n",
              "      <td>958xx</td>\n",
              "      <td>CA</td>\n",
              "      <td>5.55</td>\n",
              "      <td>0</td>\n",
              "      <td>Apr-04</td>\n",
              "      <td>2</td>\n",
              "      <td>11</td>\n",
              "      <td>0</td>\n",
              "      <td>5210</td>\n",
              "      <td>13</td>\n",
              "      <td>f</td>\n",
              "      <td>0.0</td>\n",
              "      <td>0.0</td>\n",
              "      <td>646.02</td>\n",
              "      <td>646.02</td>\n",
              "      <td>162.02</td>\n",
              "      <td>294.94</td>\n",
              "      <td>0.0</td>\n",
              "      <td>189.06</td>\n",
              "      <td>2.0900</td>\n",
              "      <td>152.39</td>\n",
              "      <td>1</td>\n",
              "      <td>INDIVIDUAL</td>\n",
              "      <td>0</td>\n",
              "      <td>0</td>\n",
              "    </tr>\n",
              "    <tr>\n",
              "      <th>9</th>\n",
              "      <td>1071570</td>\n",
              "      <td>1306721</td>\n",
              "      <td>5375</td>\n",
              "      <td>5375</td>\n",
              "      <td>5350.0</td>\n",
              "      <td>60 months</td>\n",
              "      <td>12.69%</td>\n",
              "      <td>121.45</td>\n",
              "      <td>B</td>\n",
              "      <td>B5</td>\n",
              "      <td>RENT</td>\n",
              "      <td>15000.0</td>\n",
              "      <td>Verified</td>\n",
              "      <td>Dec-11</td>\n",
              "      <td>Charged Off</td>\n",
              "      <td>n</td>\n",
              "      <td>https://lendingclub.com/browse/loanDetail.acti...</td>\n",
              "      <td>other</td>\n",
              "      <td>774xx</td>\n",
              "      <td>TX</td>\n",
              "      <td>18.08</td>\n",
              "      <td>0</td>\n",
              "      <td>Sep-04</td>\n",
              "      <td>0</td>\n",
              "      <td>2</td>\n",
              "      <td>0</td>\n",
              "      <td>9279</td>\n",
              "      <td>3</td>\n",
              "      <td>f</td>\n",
              "      <td>0.0</td>\n",
              "      <td>0.0</td>\n",
              "      <td>1476.19</td>\n",
              "      <td>1469.34</td>\n",
              "      <td>673.48</td>\n",
              "      <td>533.42</td>\n",
              "      <td>0.0</td>\n",
              "      <td>269.29</td>\n",
              "      <td>2.5200</td>\n",
              "      <td>121.45</td>\n",
              "      <td>1</td>\n",
              "      <td>INDIVIDUAL</td>\n",
              "      <td>0</td>\n",
              "      <td>0</td>\n",
              "    </tr>\n",
              "    <tr>\n",
              "      <th>12</th>\n",
              "      <td>1064687</td>\n",
              "      <td>1298717</td>\n",
              "      <td>9000</td>\n",
              "      <td>9000</td>\n",
              "      <td>9000.0</td>\n",
              "      <td>36 months</td>\n",
              "      <td>13.49%</td>\n",
              "      <td>305.38</td>\n",
              "      <td>C</td>\n",
              "      <td>C1</td>\n",
              "      <td>RENT</td>\n",
              "      <td>30000.0</td>\n",
              "      <td>Source Verified</td>\n",
              "      <td>Dec-11</td>\n",
              "      <td>Charged Off</td>\n",
              "      <td>n</td>\n",
              "      <td>https://lendingclub.com/browse/loanDetail.acti...</td>\n",
              "      <td>debt_consolidation</td>\n",
              "      <td>245xx</td>\n",
              "      <td>VA</td>\n",
              "      <td>10.08</td>\n",
              "      <td>0</td>\n",
              "      <td>Apr-04</td>\n",
              "      <td>1</td>\n",
              "      <td>4</td>\n",
              "      <td>0</td>\n",
              "      <td>10452</td>\n",
              "      <td>9</td>\n",
              "      <td>f</td>\n",
              "      <td>0.0</td>\n",
              "      <td>0.0</td>\n",
              "      <td>2270.70</td>\n",
              "      <td>2270.70</td>\n",
              "      <td>1256.14</td>\n",
              "      <td>570.26</td>\n",
              "      <td>0.0</td>\n",
              "      <td>444.30</td>\n",
              "      <td>4.1600</td>\n",
              "      <td>305.38</td>\n",
              "      <td>1</td>\n",
              "      <td>INDIVIDUAL</td>\n",
              "      <td>0</td>\n",
              "      <td>0</td>\n",
              "    </tr>\n",
              "    <tr>\n",
              "      <th>14</th>\n",
              "      <td>1069057</td>\n",
              "      <td>1303503</td>\n",
              "      <td>10000</td>\n",
              "      <td>10000</td>\n",
              "      <td>10000.0</td>\n",
              "      <td>36 months</td>\n",
              "      <td>10.65%</td>\n",
              "      <td>325.74</td>\n",
              "      <td>B</td>\n",
              "      <td>B2</td>\n",
              "      <td>RENT</td>\n",
              "      <td>100000.0</td>\n",
              "      <td>Source Verified</td>\n",
              "      <td>Dec-11</td>\n",
              "      <td>Charged Off</td>\n",
              "      <td>n</td>\n",
              "      <td>https://lendingclub.com/browse/loanDetail.acti...</td>\n",
              "      <td>other</td>\n",
              "      <td>951xx</td>\n",
              "      <td>CA</td>\n",
              "      <td>7.06</td>\n",
              "      <td>0</td>\n",
              "      <td>May-91</td>\n",
              "      <td>2</td>\n",
              "      <td>14</td>\n",
              "      <td>0</td>\n",
              "      <td>11997</td>\n",
              "      <td>29</td>\n",
              "      <td>f</td>\n",
              "      <td>0.0</td>\n",
              "      <td>0.0</td>\n",
              "      <td>7471.99</td>\n",
              "      <td>7471.99</td>\n",
              "      <td>5433.47</td>\n",
              "      <td>1393.42</td>\n",
              "      <td>0.0</td>\n",
              "      <td>645.10</td>\n",
              "      <td>6.3145</td>\n",
              "      <td>325.74</td>\n",
              "      <td>1</td>\n",
              "      <td>INDIVIDUAL</td>\n",
              "      <td>0</td>\n",
              "      <td>0</td>\n",
              "    </tr>\n",
              "  </tbody>\n",
              "</table>\n",
              "</div>\n",
              "      <button class=\"colab-df-convert\" onclick=\"convertToInteractive('df-1f8fd1ba-180a-437c-a3ac-e7543a9c4126')\"\n",
              "              title=\"Convert this dataframe to an interactive table.\"\n",
              "              style=\"display:none;\">\n",
              "        \n",
              "  <svg xmlns=\"http://www.w3.org/2000/svg\" height=\"24px\"viewBox=\"0 0 24 24\"\n",
              "       width=\"24px\">\n",
              "    <path d=\"M0 0h24v24H0V0z\" fill=\"none\"/>\n",
              "    <path d=\"M18.56 5.44l.94 2.06.94-2.06 2.06-.94-2.06-.94-.94-2.06-.94 2.06-2.06.94zm-11 1L8.5 8.5l.94-2.06 2.06-.94-2.06-.94L8.5 2.5l-.94 2.06-2.06.94zm10 10l.94 2.06.94-2.06 2.06-.94-2.06-.94-.94-2.06-.94 2.06-2.06.94z\"/><path d=\"M17.41 7.96l-1.37-1.37c-.4-.4-.92-.59-1.43-.59-.52 0-1.04.2-1.43.59L10.3 9.45l-7.72 7.72c-.78.78-.78 2.05 0 2.83L4 21.41c.39.39.9.59 1.41.59.51 0 1.02-.2 1.41-.59l7.78-7.78 2.81-2.81c.8-.78.8-2.07 0-2.86zM5.41 20L4 18.59l7.72-7.72 1.47 1.35L5.41 20z\"/>\n",
              "  </svg>\n",
              "      </button>\n",
              "      \n",
              "  <style>\n",
              "    .colab-df-container {\n",
              "      display:flex;\n",
              "      flex-wrap:wrap;\n",
              "      gap: 12px;\n",
              "    }\n",
              "\n",
              "    .colab-df-convert {\n",
              "      background-color: #E8F0FE;\n",
              "      border: none;\n",
              "      border-radius: 50%;\n",
              "      cursor: pointer;\n",
              "      display: none;\n",
              "      fill: #1967D2;\n",
              "      height: 32px;\n",
              "      padding: 0 0 0 0;\n",
              "      width: 32px;\n",
              "    }\n",
              "\n",
              "    .colab-df-convert:hover {\n",
              "      background-color: #E2EBFA;\n",
              "      box-shadow: 0px 1px 2px rgba(60, 64, 67, 0.3), 0px 1px 3px 1px rgba(60, 64, 67, 0.15);\n",
              "      fill: #174EA6;\n",
              "    }\n",
              "\n",
              "    [theme=dark] .colab-df-convert {\n",
              "      background-color: #3B4455;\n",
              "      fill: #D2E3FC;\n",
              "    }\n",
              "\n",
              "    [theme=dark] .colab-df-convert:hover {\n",
              "      background-color: #434B5C;\n",
              "      box-shadow: 0px 1px 3px 1px rgba(0, 0, 0, 0.15);\n",
              "      filter: drop-shadow(0px 1px 2px rgba(0, 0, 0, 0.3));\n",
              "      fill: #FFFFFF;\n",
              "    }\n",
              "  </style>\n",
              "\n",
              "      <script>\n",
              "        const buttonEl =\n",
              "          document.querySelector('#df-1f8fd1ba-180a-437c-a3ac-e7543a9c4126 button.colab-df-convert');\n",
              "        buttonEl.style.display =\n",
              "          google.colab.kernel.accessAllowed ? 'block' : 'none';\n",
              "\n",
              "        async function convertToInteractive(key) {\n",
              "          const element = document.querySelector('#df-1f8fd1ba-180a-437c-a3ac-e7543a9c4126');\n",
              "          const dataTable =\n",
              "            await google.colab.kernel.invokeFunction('convertToInteractive',\n",
              "                                                     [key], {});\n",
              "          if (!dataTable) return;\n",
              "\n",
              "          const docLinkHtml = 'Like what you see? Visit the ' +\n",
              "            '<a target=\"_blank\" href=https://colab.research.google.com/notebooks/data_table.ipynb>data table notebook</a>'\n",
              "            + ' to learn more about interactive tables.';\n",
              "          element.innerHTML = '';\n",
              "          dataTable['output_type'] = 'display_data';\n",
              "          await google.colab.output.renderOutput(dataTable, element);\n",
              "          const docLink = document.createElement('div');\n",
              "          docLink.innerHTML = docLinkHtml;\n",
              "          element.appendChild(docLink);\n",
              "        }\n",
              "      </script>\n",
              "    </div>\n",
              "  </div>\n",
              "  "
            ]
          },
          "metadata": {},
          "execution_count": 22
        }
      ]
    },
    {
      "cell_type": "code",
      "source": [
        "charged_off_applicants.purpose.value_counts()/len(charged_off_applicants)"
      ],
      "metadata": {
        "colab": {
          "base_uri": "https://localhost:8080/"
        },
        "id": "mNO3jQv9aLJc",
        "outputId": "ca3862f0-a904-4a56-ae28-5304ac16b94a"
      },
      "execution_count": 23,
      "outputs": [
        {
          "output_type": "execute_result",
          "data": {
            "text/plain": [
              "debt_consolidation    0.491736\n",
              "other                 0.112493\n",
              "credit_card           0.096321\n",
              "small_business        0.084414\n",
              "home_improvement      0.061667\n",
              "major_purchase        0.039453\n",
              "car                   0.028434\n",
              "medical               0.018838\n",
              "wedding               0.017061\n",
              "moving                0.016350\n",
              "house                 0.010485\n",
              "educational           0.009952\n",
              "vacation              0.009419\n",
              "renewable_energy      0.003377\n",
              "Name: purpose, dtype: float64"
            ]
          },
          "metadata": {},
          "execution_count": 23
        }
      ]
    },
    {
      "cell_type": "code",
      "source": [
        "df5[~(df5.loan_status=='Charged Off')].purpose.value_counts()/34090"
      ],
      "metadata": {
        "colab": {
          "base_uri": "https://localhost:8080/"
        },
        "id": "BZSGeaLSa5hj",
        "outputId": "4e6a8754-7534-4a42-d280-88d67f33d1ca"
      },
      "execution_count": 24,
      "outputs": [
        {
          "output_type": "execute_result",
          "data": {
            "text/plain": [
              "debt_consolidation    0.465650\n",
              "credit_card           0.134585\n",
              "other                 0.098563\n",
              "home_improvement      0.077119\n",
              "major_purchase        0.057642\n",
              "car                   0.040745\n",
              "small_business        0.039689\n",
              "wedding               0.024963\n",
              "medical               0.017219\n",
              "moving                0.014403\n",
              "vacation              0.009622\n",
              "house                 0.009446\n",
              "educational           0.007891\n",
              "renewable_energy      0.002464\n",
              "Name: purpose, dtype: float64"
            ]
          },
          "metadata": {},
          "execution_count": 24
        }
      ]
    },
    {
      "cell_type": "markdown",
      "source": [
        "Around 40% of these loan applicants were not verfied"
      ],
      "metadata": {
        "id": "xKwVOEE8atpm"
      }
    },
    {
      "cell_type": "code",
      "source": [
        "df5.columns"
      ],
      "metadata": {
        "colab": {
          "base_uri": "https://localhost:8080/"
        },
        "id": "At8JidApabtE",
        "outputId": "f56f24d0-e115-4ab9-85de-9083078eae97"
      },
      "execution_count": 25,
      "outputs": [
        {
          "output_type": "execute_result",
          "data": {
            "text/plain": [
              "Index(['id', 'member_id', 'loan_amnt', 'funded_amnt', 'funded_amnt_inv',\n",
              "       'term', 'int_rate', 'installment', 'grade', 'sub_grade',\n",
              "       'home_ownership', 'annual_inc', 'verification_status', 'issue_d',\n",
              "       'loan_status', 'pymnt_plan', 'url', 'purpose', 'zip_code', 'addr_state',\n",
              "       'dti', 'delinq_2yrs', 'earliest_cr_line', 'inq_last_6mths', 'open_acc',\n",
              "       'pub_rec', 'revol_bal', 'total_acc', 'initial_list_status', 'out_prncp',\n",
              "       'out_prncp_inv', 'total_pymnt', 'total_pymnt_inv', 'total_rec_prncp',\n",
              "       'total_rec_int', 'total_rec_late_fee', 'recoveries',\n",
              "       'collection_recovery_fee', 'last_pymnt_amnt', 'policy_code',\n",
              "       'application_type', 'acc_now_delinq', 'delinq_amnt'],\n",
              "      dtype='object')"
            ]
          },
          "metadata": {},
          "execution_count": 25
        }
      ]
    },
    {
      "cell_type": "code",
      "source": [
        "relevant_features = ['loan_amnt', 'funded_amnt', 'funded_amnt_inv',\n",
        "       'term', 'int_rate', 'installment', 'grade', 'sub_grade',\n",
        "       'home_ownership', 'annual_inc', 'verification_status', 'issue_d',\n",
        "       'loan_status', 'pymnt_plan','zip_code', 'addr_state',\n",
        "       'dti', 'delinq_2yrs', 'earliest_cr_line', 'inq_last_6mths', 'open_acc',\n",
        "       'pub_rec', 'revol_bal', 'total_acc', 'initial_list_status', 'out_prncp',\n",
        "       'out_prncp_inv', 'total_pymnt', 'total_pymnt_inv', 'total_rec_prncp',\n",
        "       'total_rec_int', 'total_rec_late_fee', 'recoveries',\n",
        "       'collection_recovery_fee', 'last_pymnt_amnt', 'policy_code',\n",
        "       'application_type', 'acc_now_delinq', 'delinq_amnt']"
      ],
      "metadata": {
        "id": "_rneH7NFmTUv"
      },
      "execution_count": 26,
      "outputs": []
    },
    {
      "cell_type": "code",
      "source": [
        "plt.figure(figsize=(20, 12))\n",
        "sns.heatmap(df5[relevant_features].corr(), annot=True, cmap='viridis')\n",
        "plt.show()"
      ],
      "metadata": {
        "colab": {
          "base_uri": "https://localhost:8080/",
          "height": 792
        },
        "id": "OAdAV5Jpm6iD",
        "outputId": "b4096fdd-21c7-4fcd-a385-19c4f8a1b203"
      },
      "execution_count": 30,
      "outputs": [
        {
          "output_type": "display_data",
          "data": {
            "text/plain": [
              "<Figure size 1440x864 with 2 Axes>"
            ],
            "image/png": "[encoded data removed]"
          },
          "metadata": {
            "needs_background": "light"
          }
        }
      ]
    },
    {
      "cell_type": "markdown",
      "source": [
        "Notice the following relationship\n",
        "- loan amount with installment amount\n",
        "- loan amount with funded amount"
      ],
      "metadata": {
        "id": "4JB7wvkuoE_1"
      }
    },
    {
      "cell_type": "code",
      "source": [
        "font1 = {'family':'serif','color':'blue','size':20}\n",
        "font2 = {'family':'serif','color':'darkred','size':15}\n",
        "\n",
        "sns.boxplot(data=df5, x=df5.loan_status , y=df5.loan_amnt, notch=True)\n",
        "\n",
        "plt.title('Loan Status Vs Loan Amount',  fontdict = font1)\n",
        "plt.xlabel(\"Loan Status\", fontdict = font2)\n",
        "plt.ylabel(\"Loan Amount\", fontdict = font2)\n",
        "plt.show()"
      ],
      "metadata": {
        "colab": {
          "base_uri": "https://localhost:8080/",
          "height": 304
        },
        "id": "eZLkjXlQm6es",
        "outputId": "70e1bb38-3e31-4672-de17-6a08d3acc08c"
      },
      "execution_count": 51,
      "outputs": [
        {
          "output_type": "display_data",
          "data": {
            "text/plain": [
              "<Figure size 432x288 with 1 Axes>"
            ],
            "image/png": "[encoded data removed]"
          },
          "metadata": {
            "needs_background": "light"
          }
        }
      ]
    },
    {
      "cell_type": "code",
      "source": [
        "sns.boxplot(data=df5, x=df5.loan_status , y=df5.installment, notch=True)\n",
        "plt.title('Loan Status Vs Loan Amount',  fontdict = font1)\n",
        "plt.xlabel(\"Loan Status\", fontdict = font2)\n",
        "plt.ylabel(\"Loan Installment\", fontdict = font2)\n",
        "plt.show()"
      ],
      "metadata": {
        "colab": {
          "base_uri": "https://localhost:8080/",
          "height": 304
        },
        "id": "y03q3zWMm6cK",
        "outputId": "16723fae-adda-4287-ab86-42f459a97ec2"
      },
      "execution_count": 52,
      "outputs": [
        {
          "output_type": "display_data",
          "data": {
            "text/plain": [
              "<Figure size 432x288 with 1 Axes>"
            ],
            "image/png": "[encoded data removed]"
          },
          "metadata": {
            "needs_background": "light"
          }
        }
      ]
    },
    {
      "cell_type": "code",
      "source": [],
      "metadata": {
        "id": "yitNyi1mm6Zu"
      },
      "execution_count": null,
      "outputs": []
    }
  ]
}