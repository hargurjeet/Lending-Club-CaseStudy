{
  "nbformat": 4,
  "nbformat_minor": 0,
  "metadata": {
    "colab": {
      "provenance": [],
      "toc_visible": true,
      "authorship_tag": "ABX9TyM+Cr/0ccLcxy1FHKKHaXm5",
      "include_colab_link": true
    },
    "kernelspec": {
      "name": "python3",
      "display_name": "Python 3"
    },
    "language_info": {
      "name": "python"
    }
  },
  "cells": [
    {
      "cell_type": "markdown",
      "metadata": {
        "id": "view-in-github",
        "colab_type": "text"
      },
      "source": [
        "<a href=\"https://colab.research.google.com/github/hargurjeet/Lending-Club-CaseStudy/blob/main/Lending_Club_Case_Study.ipynb\" target=\"_parent\"><img src=\"https://colab.research.google.com/assets/colab-badge.svg\" alt=\"Open In Colab\"/></a>"
      ]
    },
    {
      "cell_type": "markdown",
      "source": [
        "# **Lending Club Case Study**"
      ],
      "metadata": {
        "id": "1S20ipW8bHt7"
      }
    },
    {
      "cell_type": "markdown",
      "source": [
        "As an employee of a financial company specializing to disburse loans to urban customers, I am required to make a risk assessment model to help a company understand whether the loan disbursed to a customer is risky or not."
      ],
      "metadata": {
        "id": "ZqBpaTEWgRHB"
      }
    },
    {
      "cell_type": "markdown",
      "source": [
        "# **Table Of Contents**<a name=\"top\"></a>\n",
        "\n",
        "\n",
        "---\n",
        "\n",
        "\n",
        "\n",
        "---\n",
        "\n",
        "\n",
        "  1. [About the Dataset](#1)\n",
        "  2. [Data Understanding](#2)\n",
        "  3. [Expainatory Data Analysis](#3)\n",
        "  4. [Summary & Key Conclusion](#11)\n",
        "  5. [References](#13)"
      ],
      "metadata": {
        "id": "u3Tx2PUNgfKS"
      }
    },
    {
      "cell_type": "markdown",
      "source": [
        "# 1: AboutDataset <a name=\"1\"></a>\n",
        "\n",
        "\n",
        "---\n",
        "<a href=\"#top\" class=\"btn btn-primary btn-sm\" role=\"button\" aria-pressed=\"true\" style=\"color:white\" data-toggle=\"popover\">Go to TOC</a> "
      ],
      "metadata": {
        "id": "dLXdB4yAg8FJ"
      }
    },
    {
      "cell_type": "markdown",
      "source": [
        "The dataset contains information about past loan applicants and whether they ‘defaulted’ or not. The dataset contains around 40k records and 111 featues having details fo customer bheavior and their loan history"
      ],
      "metadata": {
        "id": "zVUSAXxnjLZp"
      }
    },
    {
      "cell_type": "code",
      "source": [
        "import pandas as pd\n",
        "import numpy as np\n",
        "import matplotlib.pyplot as plt\n",
        "import seaborn as sns\n",
        "import zipfile\n",
        "\n",
        "import warnings\n",
        "warnings.simplefilter(action='ignore', category=FutureWarning)"
      ],
      "metadata": {
        "id": "RjarnIrOgQnQ"
      },
      "execution_count": 3,
      "outputs": []
    },
    {
      "cell_type": "code",
      "execution_count": 4,
      "metadata": {
        "id": "q7Omn82FfA9I",
        "outputId": "aed2c939-ac4b-4a08-b6fc-4772ffb3f249",
        "colab": {
          "base_uri": "https://localhost:8080/"
        }
      },
      "outputs": [
        {
          "output_type": "stream",
          "name": "stdout",
          "text": [
            "Cloning into 'Lending-Club-CaseStudy'...\n",
            "remote: Enumerating objects: 87, done.\u001b[K\n",
            "remote: Counting objects: 100% (87/87), done.\u001b[K\n",
            "remote: Compressing objects: 100% (85/85), done.\u001b[K\n",
            "remote: Total 87 (delta 47), reused 0 (delta 0), pack-reused 0\u001b[K\n",
            "Unpacking objects: 100% (87/87), done.\n"
          ]
        }
      ],
      "source": [
        "## Downloading the dataset from github\n",
        "! git clone https://github.com/hargurjeet/Lending-Club-CaseStudy.git"
      ]
    },
    {
      "cell_type": "code",
      "source": [
        "# Unzipping the zipped files\n",
        "with zipfile.ZipFile(\"/content/Lending-Club-CaseStudy/loan.zip\",\"r\") as zip_ref:\n",
        "    zip_ref.extractall(\"/content/Lending-Club-CaseStudy/\")"
      ],
      "metadata": {
        "id": "4rvdKoYshMsJ"
      },
      "execution_count": 5,
      "outputs": []
    },
    {
      "cell_type": "markdown",
      "source": [
        "# 2: Data Understanding <a name=\"2\"></a>\n",
        "\n",
        "\n",
        "---\n",
        "<a href=\"#top\" class=\"btn btn-primary btn-sm\" role=\"button\" aria-pressed=\"true\" style=\"color:white\" data-toggle=\"popover\">Go to TOC</a> "
      ],
      "metadata": {
        "id": "4eaLNDQ5g96v"
      }
    },
    {
      "cell_type": "code",
      "source": [
        "file_path = r'/content/Lending-Club-CaseStudy/loan.csv'\n",
        "df = pd.read_csv(file_path)\n",
        "df.head()"
      ],
      "metadata": {
        "id": "3zAA0x4ahnuQ",
        "outputId": "20be71a7-b606-431a-ead7-ea7fcda38b7a",
        "colab": {
          "base_uri": "https://localhost:8080/",
          "height": 421
        }
      },
      "execution_count": 6,
      "outputs": [
        {
          "output_type": "stream",
          "name": "stderr",
          "text": [
            "/usr/local/lib/python3.7/dist-packages/IPython/core/interactiveshell.py:3326: DtypeWarning: Columns (47) have mixed types.Specify dtype option on import or set low_memory=False.\n",
            "  exec(code_obj, self.user_global_ns, self.user_ns)\n"
          ]
        },
        {
          "output_type": "execute_result",
          "data": {
            "text/plain": [
              "        id  member_id  loan_amnt  funded_amnt  funded_amnt_inv        term  \\\n",
              "0  1077501    1296599       5000         5000           4975.0   36 months   \n",
              "1  1077430    1314167       2500         2500           2500.0   60 months   \n",
              "2  1077175    1313524       2400         2400           2400.0   36 months   \n",
              "3  1076863    1277178      10000        10000          10000.0   36 months   \n",
              "4  1075358    1311748       3000         3000           3000.0   60 months   \n",
              "\n",
              "  int_rate  installment grade sub_grade  ... num_tl_90g_dpd_24m  \\\n",
              "0   10.65%       162.87     B        B2  ...                NaN   \n",
              "1   15.27%        59.83     C        C4  ...                NaN   \n",
              "2   15.96%        84.33     C        C5  ...                NaN   \n",
              "3   13.49%       339.31     C        C1  ...                NaN   \n",
              "4   12.69%        67.79     B        B5  ...                NaN   \n",
              "\n",
              "  num_tl_op_past_12m pct_tl_nvr_dlq  percent_bc_gt_75 pub_rec_bankruptcies  \\\n",
              "0                NaN            NaN               NaN                  0.0   \n",
              "1                NaN            NaN               NaN                  0.0   \n",
              "2                NaN            NaN               NaN                  0.0   \n",
              "3                NaN            NaN               NaN                  0.0   \n",
              "4                NaN            NaN               NaN                  0.0   \n",
              "\n",
              "  tax_liens tot_hi_cred_lim total_bal_ex_mort total_bc_limit  \\\n",
              "0       0.0             NaN               NaN            NaN   \n",
              "1       0.0             NaN               NaN            NaN   \n",
              "2       0.0             NaN               NaN            NaN   \n",
              "3       0.0             NaN               NaN            NaN   \n",
              "4       0.0             NaN               NaN            NaN   \n",
              "\n",
              "  total_il_high_credit_limit  \n",
              "0                        NaN  \n",
              "1                        NaN  \n",
              "2                        NaN  \n",
              "3                        NaN  \n",
              "4                        NaN  \n",
              "\n",
              "[5 rows x 111 columns]"
            ],
            "text/html": [
              "\n",
              "  <div id=\"df-3207d694-c61a-4c43-b087-2e797e6e8359\">\n",
              "    <div class=\"colab-df-container\">\n",
              "      <div>\n",
              "<style scoped>\n",
              "    .dataframe tbody tr th:only-of-type {\n",
              "        vertical-align: middle;\n",
              "    }\n",
              "\n",
              "    .dataframe tbody tr th {\n",
              "        vertical-align: top;\n",
              "    }\n",
              "\n",
              "    .dataframe thead th {\n",
              "        text-align: right;\n",
              "    }\n",
              "</style>\n",
              "<table border=\"1\" class=\"dataframe\">\n",
              "  <thead>\n",
              "    <tr style=\"text-align: right;\">\n",
              "      <th></th>\n",
              "      <th>id</th>\n",
              "      <th>member_id</th>\n",
              "      <th>loan_amnt</th>\n",
              "      <th>funded_amnt</th>\n",
              "      <th>funded_amnt_inv</th>\n",
              "      <th>term</th>\n",
              "      <th>int_rate</th>\n",
              "      <th>installment</th>\n",
              "      <th>grade</th>\n",
              "      <th>sub_grade</th>\n",
              "      <th>...</th>\n",
              "      <th>num_tl_90g_dpd_24m</th>\n",
              "      <th>num_tl_op_past_12m</th>\n",
              "      <th>pct_tl_nvr_dlq</th>\n",
              "      <th>percent_bc_gt_75</th>\n",
              "      <th>pub_rec_bankruptcies</th>\n",
              "      <th>tax_liens</th>\n",
              "      <th>tot_hi_cred_lim</th>\n",
              "      <th>total_bal_ex_mort</th>\n",
              "      <th>total_bc_limit</th>\n",
              "      <th>total_il_high_credit_limit</th>\n",
              "    </tr>\n",
              "  </thead>\n",
              "  <tbody>\n",
              "    <tr>\n",
              "      <th>0</th>\n",
              "      <td>1077501</td>\n",
              "      <td>1296599</td>\n",
              "      <td>5000</td>\n",
              "      <td>5000</td>\n",
              "      <td>4975.0</td>\n",
              "      <td>36 months</td>\n",
              "      <td>10.65%</td>\n",
              "      <td>162.87</td>\n",
              "      <td>B</td>\n",
              "      <td>B2</td>\n",
              "      <td>...</td>\n",
              "      <td>NaN</td>\n",
              "      <td>NaN</td>\n",
              "      <td>NaN</td>\n",
              "      <td>NaN</td>\n",
              "      <td>0.0</td>\n",
              "      <td>0.0</td>\n",
              "      <td>NaN</td>\n",
              "      <td>NaN</td>\n",
              "      <td>NaN</td>\n",
              "      <td>NaN</td>\n",
              "    </tr>\n",
              "    <tr>\n",
              "      <th>1</th>\n",
              "      <td>1077430</td>\n",
              "      <td>1314167</td>\n",
              "      <td>2500</td>\n",
              "      <td>2500</td>\n",
              "      <td>2500.0</td>\n",
              "      <td>60 months</td>\n",
              "      <td>15.27%</td>\n",
              "      <td>59.83</td>\n",
              "      <td>C</td>\n",
              "      <td>C4</td>\n",
              "      <td>...</td>\n",
              "      <td>NaN</td>\n",
              "      <td>NaN</td>\n",
              "      <td>NaN</td>\n",
              "      <td>NaN</td>\n",
              "      <td>0.0</td>\n",
              "      <td>0.0</td>\n",
              "      <td>NaN</td>\n",
              "      <td>NaN</td>\n",
              "      <td>NaN</td>\n",
              "      <td>NaN</td>\n",
              "    </tr>\n",
              "    <tr>\n",
              "      <th>2</th>\n",
              "      <td>1077175</td>\n",
              "      <td>1313524</td>\n",
              "      <td>2400</td>\n",
              "      <td>2400</td>\n",
              "      <td>2400.0</td>\n",
              "      <td>36 months</td>\n",
              "      <td>15.96%</td>\n",
              "      <td>84.33</td>\n",
              "      <td>C</td>\n",
              "      <td>C5</td>\n",
              "      <td>...</td>\n",
              "      <td>NaN</td>\n",
              "      <td>NaN</td>\n",
              "      <td>NaN</td>\n",
              "      <td>NaN</td>\n",
              "      <td>0.0</td>\n",
              "      <td>0.0</td>\n",
              "      <td>NaN</td>\n",
              "      <td>NaN</td>\n",
              "      <td>NaN</td>\n",
              "      <td>NaN</td>\n",
              "    </tr>\n",
              "    <tr>\n",
              "      <th>3</th>\n",
              "      <td>1076863</td>\n",
              "      <td>1277178</td>\n",
              "      <td>10000</td>\n",
              "      <td>10000</td>\n",
              "      <td>10000.0</td>\n",
              "      <td>36 months</td>\n",
              "      <td>13.49%</td>\n",
              "      <td>339.31</td>\n",
              "      <td>C</td>\n",
              "      <td>C1</td>\n",
              "      <td>...</td>\n",
              "      <td>NaN</td>\n",
              "      <td>NaN</td>\n",
              "      <td>NaN</td>\n",
              "      <td>NaN</td>\n",
              "      <td>0.0</td>\n",
              "      <td>0.0</td>\n",
              "      <td>NaN</td>\n",
              "      <td>NaN</td>\n",
              "      <td>NaN</td>\n",
              "      <td>NaN</td>\n",
              "    </tr>\n",
              "    <tr>\n",
              "      <th>4</th>\n",
              "      <td>1075358</td>\n",
              "      <td>1311748</td>\n",
              "      <td>3000</td>\n",
              "      <td>3000</td>\n",
              "      <td>3000.0</td>\n",
              "      <td>60 months</td>\n",
              "      <td>12.69%</td>\n",
              "      <td>67.79</td>\n",
              "      <td>B</td>\n",
              "      <td>B5</td>\n",
              "      <td>...</td>\n",
              "      <td>NaN</td>\n",
              "      <td>NaN</td>\n",
              "      <td>NaN</td>\n",
              "      <td>NaN</td>\n",
              "      <td>0.0</td>\n",
              "      <td>0.0</td>\n",
              "      <td>NaN</td>\n",
              "      <td>NaN</td>\n",
              "      <td>NaN</td>\n",
              "      <td>NaN</td>\n",
              "    </tr>\n",
              "  </tbody>\n",
              "</table>\n",
              "<p>5 rows × 111 columns</p>\n",
              "</div>\n",
              "      <button class=\"colab-df-convert\" onclick=\"convertToInteractive('df-3207d694-c61a-4c43-b087-2e797e6e8359')\"\n",
              "              title=\"Convert this dataframe to an interactive table.\"\n",
              "              style=\"display:none;\">\n",
              "        \n",
              "  <svg xmlns=\"http://www.w3.org/2000/svg\" height=\"24px\"viewBox=\"0 0 24 24\"\n",
              "       width=\"24px\">\n",
              "    <path d=\"M0 0h24v24H0V0z\" fill=\"none\"/>\n",
              "    <path d=\"M18.56 5.44l.94 2.06.94-2.06 2.06-.94-2.06-.94-.94-2.06-.94 2.06-2.06.94zm-11 1L8.5 8.5l.94-2.06 2.06-.94-2.06-.94L8.5 2.5l-.94 2.06-2.06.94zm10 10l.94 2.06.94-2.06 2.06-.94-2.06-.94-.94-2.06-.94 2.06-2.06.94z\"/><path d=\"M17.41 7.96l-1.37-1.37c-.4-.4-.92-.59-1.43-.59-.52 0-1.04.2-1.43.59L10.3 9.45l-7.72 7.72c-.78.78-.78 2.05 0 2.83L4 21.41c.39.39.9.59 1.41.59.51 0 1.02-.2 1.41-.59l7.78-7.78 2.81-2.81c.8-.78.8-2.07 0-2.86zM5.41 20L4 18.59l7.72-7.72 1.47 1.35L5.41 20z\"/>\n",
              "  </svg>\n",
              "      </button>\n",
              "      \n",
              "  <style>\n",
              "    .colab-df-container {\n",
              "      display:flex;\n",
              "      flex-wrap:wrap;\n",
              "      gap: 12px;\n",
              "    }\n",
              "\n",
              "    .colab-df-convert {\n",
              "      background-color: #E8F0FE;\n",
              "      border: none;\n",
              "      border-radius: 50%;\n",
              "      cursor: pointer;\n",
              "      display: none;\n",
              "      fill: #1967D2;\n",
              "      height: 32px;\n",
              "      padding: 0 0 0 0;\n",
              "      width: 32px;\n",
              "    }\n",
              "\n",
              "    .colab-df-convert:hover {\n",
              "      background-color: #E2EBFA;\n",
              "      box-shadow: 0px 1px 2px rgba(60, 64, 67, 0.3), 0px 1px 3px 1px rgba(60, 64, 67, 0.15);\n",
              "      fill: #174EA6;\n",
              "    }\n",
              "\n",
              "    [theme=dark] .colab-df-convert {\n",
              "      background-color: #3B4455;\n",
              "      fill: #D2E3FC;\n",
              "    }\n",
              "\n",
              "    [theme=dark] .colab-df-convert:hover {\n",
              "      background-color: #434B5C;\n",
              "      box-shadow: 0px 1px 3px 1px rgba(0, 0, 0, 0.15);\n",
              "      filter: drop-shadow(0px 1px 2px rgba(0, 0, 0, 0.3));\n",
              "      fill: #FFFFFF;\n",
              "    }\n",
              "  </style>\n",
              "\n",
              "      <script>\n",
              "        const buttonEl =\n",
              "          document.querySelector('#df-3207d694-c61a-4c43-b087-2e797e6e8359 button.colab-df-convert');\n",
              "        buttonEl.style.display =\n",
              "          google.colab.kernel.accessAllowed ? 'block' : 'none';\n",
              "\n",
              "        async function convertToInteractive(key) {\n",
              "          const element = document.querySelector('#df-3207d694-c61a-4c43-b087-2e797e6e8359');\n",
              "          const dataTable =\n",
              "            await google.colab.kernel.invokeFunction('convertToInteractive',\n",
              "                                                     [key], {});\n",
              "          if (!dataTable) return;\n",
              "\n",
              "          const docLinkHtml = 'Like what you see? Visit the ' +\n",
              "            '<a target=\"_blank\" href=https://colab.research.google.com/notebooks/data_table.ipynb>data table notebook</a>'\n",
              "            + ' to learn more about interactive tables.';\n",
              "          element.innerHTML = '';\n",
              "          dataTable['output_type'] = 'display_data';\n",
              "          await google.colab.output.renderOutput(dataTable, element);\n",
              "          const docLink = document.createElement('div');\n",
              "          docLink.innerHTML = docLinkHtml;\n",
              "          element.appendChild(docLink);\n",
              "        }\n",
              "      </script>\n",
              "    </div>\n",
              "  </div>\n",
              "  "
            ]
          },
          "metadata": {},
          "execution_count": 6
        }
      ]
    },
    {
      "cell_type": "code",
      "source": [
        "df.columns"
      ],
      "metadata": {
        "id": "3LCMH3zNh00w",
        "outputId": "13afd83f-0574-4962-dc8c-e57606661b6d",
        "colab": {
          "base_uri": "https://localhost:8080/"
        }
      },
      "execution_count": 7,
      "outputs": [
        {
          "output_type": "execute_result",
          "data": {
            "text/plain": [
              "Index(['id', 'member_id', 'loan_amnt', 'funded_amnt', 'funded_amnt_inv',\n",
              "       'term', 'int_rate', 'installment', 'grade', 'sub_grade',\n",
              "       ...\n",
              "       'num_tl_90g_dpd_24m', 'num_tl_op_past_12m', 'pct_tl_nvr_dlq',\n",
              "       'percent_bc_gt_75', 'pub_rec_bankruptcies', 'tax_liens',\n",
              "       'tot_hi_cred_lim', 'total_bal_ex_mort', 'total_bc_limit',\n",
              "       'total_il_high_credit_limit'],\n",
              "      dtype='object', length=111)"
            ]
          },
          "metadata": {},
          "execution_count": 7
        }
      ]
    },
    {
      "cell_type": "code",
      "source": [
        "df.shape"
      ],
      "metadata": {
        "colab": {
          "base_uri": "https://localhost:8080/"
        },
        "id": "iO9cpVn4jrRV",
        "outputId": "d169b51b-31dd-4612-fba2-76f14bb4719b"
      },
      "execution_count": 8,
      "outputs": [
        {
          "output_type": "execute_result",
          "data": {
            "text/plain": [
              "(39717, 111)"
            ]
          },
          "metadata": {},
          "execution_count": 8
        }
      ]
    },
    {
      "cell_type": "code",
      "source": [
        "df1 = pd.read_excel('/content/Lending-Club-CaseStudy/Data_Dictionary.xlsx')\n",
        "df1"
      ],
      "metadata": {
        "id": "MlkGJHxXh45I",
        "outputId": "007f01a3-bda2-462d-f450-360bda0f4934",
        "colab": {
          "base_uri": "https://localhost:8080/",
          "height": 424
        }
      },
      "execution_count": 9,
      "outputs": [
        {
          "output_type": "execute_result",
          "data": {
            "text/plain": [
              "               LoanStatNew                                        Description\n",
              "0           acc_now_delinq  The number of accounts on which the borrower i...\n",
              "1     acc_open_past_24mths         Number of trades opened in past 24 months.\n",
              "2               addr_state  The state provided by the borrower in the loan...\n",
              "3                 all_util              Balance to credit limit on all trades\n",
              "4               annual_inc  The self-reported annual income provided by th...\n",
              "..                     ...                                                ...\n",
              "112    verification_status  Indicates if income was verified by LC, not ve...\n",
              "113  verified_status_joint  Indicates if the co-borrowers' joint income wa...\n",
              "114               zip_code  The first 3 numbers of the zip code provided b...\n",
              "115                    NaN                                                NaN\n",
              "116                    NaN  * Employer Title replaces Employer Name for al...\n",
              "\n",
              "[117 rows x 2 columns]"
            ],
            "text/html": [
              "\n",
              "  <div id=\"df-d768a662-b2cc-4170-8018-fd145169712b\">\n",
              "    <div class=\"colab-df-container\">\n",
              "      <div>\n",
              "<style scoped>\n",
              "    .dataframe tbody tr th:only-of-type {\n",
              "        vertical-align: middle;\n",
              "    }\n",
              "\n",
              "    .dataframe tbody tr th {\n",
              "        vertical-align: top;\n",
              "    }\n",
              "\n",
              "    .dataframe thead th {\n",
              "        text-align: right;\n",
              "    }\n",
              "</style>\n",
              "<table border=\"1\" class=\"dataframe\">\n",
              "  <thead>\n",
              "    <tr style=\"text-align: right;\">\n",
              "      <th></th>\n",
              "      <th>LoanStatNew</th>\n",
              "      <th>Description</th>\n",
              "    </tr>\n",
              "  </thead>\n",
              "  <tbody>\n",
              "    <tr>\n",
              "      <th>0</th>\n",
              "      <td>acc_now_delinq</td>\n",
              "      <td>The number of accounts on which the borrower i...</td>\n",
              "    </tr>\n",
              "    <tr>\n",
              "      <th>1</th>\n",
              "      <td>acc_open_past_24mths</td>\n",
              "      <td>Number of trades opened in past 24 months.</td>\n",
              "    </tr>\n",
              "    <tr>\n",
              "      <th>2</th>\n",
              "      <td>addr_state</td>\n",
              "      <td>The state provided by the borrower in the loan...</td>\n",
              "    </tr>\n",
              "    <tr>\n",
              "      <th>3</th>\n",
              "      <td>all_util</td>\n",
              "      <td>Balance to credit limit on all trades</td>\n",
              "    </tr>\n",
              "    <tr>\n",
              "      <th>4</th>\n",
              "      <td>annual_inc</td>\n",
              "      <td>The self-reported annual income provided by th...</td>\n",
              "    </tr>\n",
              "    <tr>\n",
              "      <th>...</th>\n",
              "      <td>...</td>\n",
              "      <td>...</td>\n",
              "    </tr>\n",
              "    <tr>\n",
              "      <th>112</th>\n",
              "      <td>verification_status</td>\n",
              "      <td>Indicates if income was verified by LC, not ve...</td>\n",
              "    </tr>\n",
              "    <tr>\n",
              "      <th>113</th>\n",
              "      <td>verified_status_joint</td>\n",
              "      <td>Indicates if the co-borrowers' joint income wa...</td>\n",
              "    </tr>\n",
              "    <tr>\n",
              "      <th>114</th>\n",
              "      <td>zip_code</td>\n",
              "      <td>The first 3 numbers of the zip code provided b...</td>\n",
              "    </tr>\n",
              "    <tr>\n",
              "      <th>115</th>\n",
              "      <td>NaN</td>\n",
              "      <td>NaN</td>\n",
              "    </tr>\n",
              "    <tr>\n",
              "      <th>116</th>\n",
              "      <td>NaN</td>\n",
              "      <td>* Employer Title replaces Employer Name for al...</td>\n",
              "    </tr>\n",
              "  </tbody>\n",
              "</table>\n",
              "<p>117 rows × 2 columns</p>\n",
              "</div>\n",
              "      <button class=\"colab-df-convert\" onclick=\"convertToInteractive('df-d768a662-b2cc-4170-8018-fd145169712b')\"\n",
              "              title=\"Convert this dataframe to an interactive table.\"\n",
              "              style=\"display:none;\">\n",
              "        \n",
              "  <svg xmlns=\"http://www.w3.org/2000/svg\" height=\"24px\"viewBox=\"0 0 24 24\"\n",
              "       width=\"24px\">\n",
              "    <path d=\"M0 0h24v24H0V0z\" fill=\"none\"/>\n",
              "    <path d=\"M18.56 5.44l.94 2.06.94-2.06 2.06-.94-2.06-.94-.94-2.06-.94 2.06-2.06.94zm-11 1L8.5 8.5l.94-2.06 2.06-.94-2.06-.94L8.5 2.5l-.94 2.06-2.06.94zm10 10l.94 2.06.94-2.06 2.06-.94-2.06-.94-.94-2.06-.94 2.06-2.06.94z\"/><path d=\"M17.41 7.96l-1.37-1.37c-.4-.4-.92-.59-1.43-.59-.52 0-1.04.2-1.43.59L10.3 9.45l-7.72 7.72c-.78.78-.78 2.05 0 2.83L4 21.41c.39.39.9.59 1.41.59.51 0 1.02-.2 1.41-.59l7.78-7.78 2.81-2.81c.8-.78.8-2.07 0-2.86zM5.41 20L4 18.59l7.72-7.72 1.47 1.35L5.41 20z\"/>\n",
              "  </svg>\n",
              "      </button>\n",
              "      \n",
              "  <style>\n",
              "    .colab-df-container {\n",
              "      display:flex;\n",
              "      flex-wrap:wrap;\n",
              "      gap: 12px;\n",
              "    }\n",
              "\n",
              "    .colab-df-convert {\n",
              "      background-color: #E8F0FE;\n",
              "      border: none;\n",
              "      border-radius: 50%;\n",
              "      cursor: pointer;\n",
              "      display: none;\n",
              "      fill: #1967D2;\n",
              "      height: 32px;\n",
              "      padding: 0 0 0 0;\n",
              "      width: 32px;\n",
              "    }\n",
              "\n",
              "    .colab-df-convert:hover {\n",
              "      background-color: #E2EBFA;\n",
              "      box-shadow: 0px 1px 2px rgba(60, 64, 67, 0.3), 0px 1px 3px 1px rgba(60, 64, 67, 0.15);\n",
              "      fill: #174EA6;\n",
              "    }\n",
              "\n",
              "    [theme=dark] .colab-df-convert {\n",
              "      background-color: #3B4455;\n",
              "      fill: #D2E3FC;\n",
              "    }\n",
              "\n",
              "    [theme=dark] .colab-df-convert:hover {\n",
              "      background-color: #434B5C;\n",
              "      box-shadow: 0px 1px 3px 1px rgba(0, 0, 0, 0.15);\n",
              "      filter: drop-shadow(0px 1px 2px rgba(0, 0, 0, 0.3));\n",
              "      fill: #FFFFFF;\n",
              "    }\n",
              "  </style>\n",
              "\n",
              "      <script>\n",
              "        const buttonEl =\n",
              "          document.querySelector('#df-d768a662-b2cc-4170-8018-fd145169712b button.colab-df-convert');\n",
              "        buttonEl.style.display =\n",
              "          google.colab.kernel.accessAllowed ? 'block' : 'none';\n",
              "\n",
              "        async function convertToInteractive(key) {\n",
              "          const element = document.querySelector('#df-d768a662-b2cc-4170-8018-fd145169712b');\n",
              "          const dataTable =\n",
              "            await google.colab.kernel.invokeFunction('convertToInteractive',\n",
              "                                                     [key], {});\n",
              "          if (!dataTable) return;\n",
              "\n",
              "          const docLinkHtml = 'Like what you see? Visit the ' +\n",
              "            '<a target=\"_blank\" href=https://colab.research.google.com/notebooks/data_table.ipynb>data table notebook</a>'\n",
              "            + ' to learn more about interactive tables.';\n",
              "          element.innerHTML = '';\n",
              "          dataTable['output_type'] = 'display_data';\n",
              "          await google.colab.output.renderOutput(dataTable, element);\n",
              "          const docLink = document.createElement('div');\n",
              "          docLink.innerHTML = docLinkHtml;\n",
              "          element.appendChild(docLink);\n",
              "        }\n",
              "      </script>\n",
              "    </div>\n",
              "  </div>\n",
              "  "
            ]
          },
          "metadata": {},
          "execution_count": 9
        }
      ]
    },
    {
      "cell_type": "code",
      "source": [
        "df.shape"
      ],
      "metadata": {
        "colab": {
          "base_uri": "https://localhost:8080/"
        },
        "id": "mkcYKo2t2Fjm",
        "outputId": "5b58f3c2-95e4-4515-9d65-8a2f0467495e"
      },
      "execution_count": 10,
      "outputs": [
        {
          "output_type": "execute_result",
          "data": {
            "text/plain": [
              "(39717, 111)"
            ]
          },
          "metadata": {},
          "execution_count": 10
        }
      ]
    },
    {
      "cell_type": "code",
      "source": [
        "def view_all(df):\n",
        "  pd.set_option('display.max_rows', None)\n",
        "  pd.set_option('max_columns', None)\n",
        "  pd.set_option('display.max_colwidth', None)\n",
        "  return df.style.set_properties(**{'text-align': 'left'})\n",
        "\n",
        "view_all(df1)"
      ],
      "metadata": {
        "id": "BXObjz6DiHW4",
        "colab": {
          "base_uri": "https://localhost:8080/",
          "height": 1000
        },
        "outputId": "694959b7-4278-4c1b-dfd5-eaef6289bcc7"
      },
      "execution_count": 11,
      "outputs": [
        {
          "output_type": "execute_result",
          "data": {
            "text/plain": [
              "<pandas.io.formats.style.Styler at 0x7f5e3a621ed0>"
            ],
            "text/html": [
              "<style type=\"text/css\">\n",
              "#T_3231a_row0_col0, #T_3231a_row0_col1, #T_3231a_row1_col0, #T_3231a_row1_col1, #T_3231a_row2_col0, #T_3231a_row2_col1, #T_3231a_row3_col0, #T_3231a_row3_col1, #T_3231a_row4_col0, #T_3231a_row4_col1, #T_3231a_row5_col0, #T_3231a_row5_col1, #T_3231a_row6_col0, #T_3231a_row6_col1, #T_3231a_row7_col0, #T_3231a_row7_col1, #T_3231a_row8_col0, #T_3231a_row8_col1, #T_3231a_row9_col0, #T_3231a_row9_col1, #T_3231a_row10_col0, #T_3231a_row10_col1, #T_3231a_row11_col0, #T_3231a_row11_col1, #T_3231a_row12_col0, #T_3231a_row12_col1, #T_3231a_row13_col0, #T_3231a_row13_col1, #T_3231a_row14_col0, #T_3231a_row14_col1, #T_3231a_row15_col0, #T_3231a_row15_col1, #T_3231a_row16_col0, #T_3231a_row16_col1, #T_3231a_row17_col0, #T_3231a_row17_col1, #T_3231a_row18_col0, #T_3231a_row18_col1, #T_3231a_row19_col0, #T_3231a_row19_col1, #T_3231a_row20_col0, #T_3231a_row20_col1, #T_3231a_row21_col0, #T_3231a_row21_col1, #T_3231a_row22_col0, #T_3231a_row22_col1, #T_3231a_row23_col0, #T_3231a_row23_col1, #T_3231a_row24_col0, #T_3231a_row24_col1, #T_3231a_row25_col0, #T_3231a_row25_col1, #T_3231a_row26_col0, #T_3231a_row26_col1, #T_3231a_row27_col0, #T_3231a_row27_col1, #T_3231a_row28_col0, #T_3231a_row28_col1, #T_3231a_row29_col0, #T_3231a_row29_col1, #T_3231a_row30_col0, #T_3231a_row30_col1, #T_3231a_row31_col0, #T_3231a_row31_col1, #T_3231a_row32_col0, #T_3231a_row32_col1, #T_3231a_row33_col0, #T_3231a_row33_col1, #T_3231a_row34_col0, #T_3231a_row34_col1, #T_3231a_row35_col0, #T_3231a_row35_col1, #T_3231a_row36_col0, #T_3231a_row36_col1, #T_3231a_row37_col0, #T_3231a_row37_col1, #T_3231a_row38_col0, #T_3231a_row38_col1, #T_3231a_row39_col0, #T_3231a_row39_col1, #T_3231a_row40_col0, #T_3231a_row40_col1, #T_3231a_row41_col0, #T_3231a_row41_col1, #T_3231a_row42_col0, #T_3231a_row42_col1, #T_3231a_row43_col0, #T_3231a_row43_col1, #T_3231a_row44_col0, #T_3231a_row44_col1, #T_3231a_row45_col0, #T_3231a_row45_col1, #T_3231a_row46_col0, #T_3231a_row46_col1, #T_3231a_row47_col0, #T_3231a_row47_col1, #T_3231a_row48_col0, #T_3231a_row48_col1, #T_3231a_row49_col0, #T_3231a_row49_col1, #T_3231a_row50_col0, #T_3231a_row50_col1, #T_3231a_row51_col0, #T_3231a_row51_col1, #T_3231a_row52_col0, #T_3231a_row52_col1, #T_3231a_row53_col0, #T_3231a_row53_col1, #T_3231a_row54_col0, #T_3231a_row54_col1, #T_3231a_row55_col0, #T_3231a_row55_col1, #T_3231a_row56_col0, #T_3231a_row56_col1, #T_3231a_row57_col0, #T_3231a_row57_col1, #T_3231a_row58_col0, #T_3231a_row58_col1, #T_3231a_row59_col0, #T_3231a_row59_col1, #T_3231a_row60_col0, #T_3231a_row60_col1, #T_3231a_row61_col0, #T_3231a_row61_col1, #T_3231a_row62_col0, #T_3231a_row62_col1, #T_3231a_row63_col0, #T_3231a_row63_col1, #T_3231a_row64_col0, #T_3231a_row64_col1, #T_3231a_row65_col0, #T_3231a_row65_col1, #T_3231a_row66_col0, #T_3231a_row66_col1, #T_3231a_row67_col0, #T_3231a_row67_col1, #T_3231a_row68_col0, #T_3231a_row68_col1, #T_3231a_row69_col0, #T_3231a_row69_col1, #T_3231a_row70_col0, #T_3231a_row70_col1, #T_3231a_row71_col0, #T_3231a_row71_col1, #T_3231a_row72_col0, #T_3231a_row72_col1, #T_3231a_row73_col0, #T_3231a_row73_col1, #T_3231a_row74_col0, #T_3231a_row74_col1, #T_3231a_row75_col0, #T_3231a_row75_col1, #T_3231a_row76_col0, #T_3231a_row76_col1, #T_3231a_row77_col0, #T_3231a_row77_col1, #T_3231a_row78_col0, #T_3231a_row78_col1, #T_3231a_row79_col0, #T_3231a_row79_col1, #T_3231a_row80_col0, #T_3231a_row80_col1, #T_3231a_row81_col0, #T_3231a_row81_col1, #T_3231a_row82_col0, #T_3231a_row82_col1, #T_3231a_row83_col0, #T_3231a_row83_col1, #T_3231a_row84_col0, #T_3231a_row84_col1, #T_3231a_row85_col0, #T_3231a_row85_col1, #T_3231a_row86_col0, #T_3231a_row86_col1, #T_3231a_row87_col0, #T_3231a_row87_col1, #T_3231a_row88_col0, #T_3231a_row88_col1, #T_3231a_row89_col0, #T_3231a_row89_col1, #T_3231a_row90_col0, #T_3231a_row90_col1, #T_3231a_row91_col0, #T_3231a_row91_col1, #T_3231a_row92_col0, #T_3231a_row92_col1, #T_3231a_row93_col0, #T_3231a_row93_col1, #T_3231a_row94_col0, #T_3231a_row94_col1, #T_3231a_row95_col0, #T_3231a_row95_col1, #T_3231a_row96_col0, #T_3231a_row96_col1, #T_3231a_row97_col0, #T_3231a_row97_col1, #T_3231a_row98_col0, #T_3231a_row98_col1, #T_3231a_row99_col0, #T_3231a_row99_col1, #T_3231a_row100_col0, #T_3231a_row100_col1, #T_3231a_row101_col0, #T_3231a_row101_col1, #T_3231a_row102_col0, #T_3231a_row102_col1, #T_3231a_row103_col0, #T_3231a_row103_col1, #T_3231a_row104_col0, #T_3231a_row104_col1, #T_3231a_row105_col0, #T_3231a_row105_col1, #T_3231a_row106_col0, #T_3231a_row106_col1, #T_3231a_row107_col0, #T_3231a_row107_col1, #T_3231a_row108_col0, #T_3231a_row108_col1, #T_3231a_row109_col0, #T_3231a_row109_col1, #T_3231a_row110_col0, #T_3231a_row110_col1, #T_3231a_row111_col0, #T_3231a_row111_col1, #T_3231a_row112_col0, #T_3231a_row112_col1, #T_3231a_row113_col0, #T_3231a_row113_col1, #T_3231a_row114_col0, #T_3231a_row114_col1, #T_3231a_row115_col0, #T_3231a_row115_col1, #T_3231a_row116_col0, #T_3231a_row116_col1 {\n",
              "  text-align: left;\n",
              "}\n",
              "</style>\n",
              "<table id=\"T_3231a_\" class=\"dataframe\">\n",
              "  <thead>\n",
              "    <tr>\n",
              "      <th class=\"blank level0\" >&nbsp;</th>\n",
              "      <th class=\"col_heading level0 col0\" >LoanStatNew</th>\n",
              "      <th class=\"col_heading level0 col1\" >Description</th>\n",
              "    </tr>\n",
              "  </thead>\n",
              "  <tbody>\n",
              "    <tr>\n",
              "      <th id=\"T_3231a_level0_row0\" class=\"row_heading level0 row0\" >0</th>\n",
              "      <td id=\"T_3231a_row0_col0\" class=\"data row0 col0\" >acc_now_delinq</td>\n",
              "      <td id=\"T_3231a_row0_col1\" class=\"data row0 col1\" >The number of accounts on which the borrower is now delinquent.</td>\n",
              "    </tr>\n",
              "    <tr>\n",
              "      <th id=\"T_3231a_level0_row1\" class=\"row_heading level0 row1\" >1</th>\n",
              "      <td id=\"T_3231a_row1_col0\" class=\"data row1 col0\" >acc_open_past_24mths</td>\n",
              "      <td id=\"T_3231a_row1_col1\" class=\"data row1 col1\" >Number of trades opened in past 24 months.</td>\n",
              "    </tr>\n",
              "    <tr>\n",
              "      <th id=\"T_3231a_level0_row2\" class=\"row_heading level0 row2\" >2</th>\n",
              "      <td id=\"T_3231a_row2_col0\" class=\"data row2 col0\" >addr_state</td>\n",
              "      <td id=\"T_3231a_row2_col1\" class=\"data row2 col1\" >The state provided by the borrower in the loan application</td>\n",
              "    </tr>\n",
              "    <tr>\n",
              "      <th id=\"T_3231a_level0_row3\" class=\"row_heading level0 row3\" >3</th>\n",
              "      <td id=\"T_3231a_row3_col0\" class=\"data row3 col0\" >all_util</td>\n",
              "      <td id=\"T_3231a_row3_col1\" class=\"data row3 col1\" >Balance to credit limit on all trades</td>\n",
              "    </tr>\n",
              "    <tr>\n",
              "      <th id=\"T_3231a_level0_row4\" class=\"row_heading level0 row4\" >4</th>\n",
              "      <td id=\"T_3231a_row4_col0\" class=\"data row4 col0\" >annual_inc</td>\n",
              "      <td id=\"T_3231a_row4_col1\" class=\"data row4 col1\" >The self-reported annual income provided by the borrower during registration.</td>\n",
              "    </tr>\n",
              "    <tr>\n",
              "      <th id=\"T_3231a_level0_row5\" class=\"row_heading level0 row5\" >5</th>\n",
              "      <td id=\"T_3231a_row5_col0\" class=\"data row5 col0\" >annual_inc_joint</td>\n",
              "      <td id=\"T_3231a_row5_col1\" class=\"data row5 col1\" >The combined self-reported annual income provided by the co-borrowers during registration</td>\n",
              "    </tr>\n",
              "    <tr>\n",
              "      <th id=\"T_3231a_level0_row6\" class=\"row_heading level0 row6\" >6</th>\n",
              "      <td id=\"T_3231a_row6_col0\" class=\"data row6 col0\" >application_type</td>\n",
              "      <td id=\"T_3231a_row6_col1\" class=\"data row6 col1\" >Indicates whether the loan is an individual application or a joint application with two co-borrowers</td>\n",
              "    </tr>\n",
              "    <tr>\n",
              "      <th id=\"T_3231a_level0_row7\" class=\"row_heading level0 row7\" >7</th>\n",
              "      <td id=\"T_3231a_row7_col0\" class=\"data row7 col0\" >avg_cur_bal</td>\n",
              "      <td id=\"T_3231a_row7_col1\" class=\"data row7 col1\" >Average current balance of all accounts</td>\n",
              "    </tr>\n",
              "    <tr>\n",
              "      <th id=\"T_3231a_level0_row8\" class=\"row_heading level0 row8\" >8</th>\n",
              "      <td id=\"T_3231a_row8_col0\" class=\"data row8 col0\" >bc_open_to_buy</td>\n",
              "      <td id=\"T_3231a_row8_col1\" class=\"data row8 col1\" >Total open to buy on revolving bankcards.</td>\n",
              "    </tr>\n",
              "    <tr>\n",
              "      <th id=\"T_3231a_level0_row9\" class=\"row_heading level0 row9\" >9</th>\n",
              "      <td id=\"T_3231a_row9_col0\" class=\"data row9 col0\" >bc_util</td>\n",
              "      <td id=\"T_3231a_row9_col1\" class=\"data row9 col1\" >Ratio of total current balance to high credit/credit limit for all bankcard accounts.</td>\n",
              "    </tr>\n",
              "    <tr>\n",
              "      <th id=\"T_3231a_level0_row10\" class=\"row_heading level0 row10\" >10</th>\n",
              "      <td id=\"T_3231a_row10_col0\" class=\"data row10 col0\" >chargeoff_within_12_mths</td>\n",
              "      <td id=\"T_3231a_row10_col1\" class=\"data row10 col1\" >Number of charge-offs within 12 months</td>\n",
              "    </tr>\n",
              "    <tr>\n",
              "      <th id=\"T_3231a_level0_row11\" class=\"row_heading level0 row11\" >11</th>\n",
              "      <td id=\"T_3231a_row11_col0\" class=\"data row11 col0\" >collection_recovery_fee</td>\n",
              "      <td id=\"T_3231a_row11_col1\" class=\"data row11 col1\" >post charge off collection fee</td>\n",
              "    </tr>\n",
              "    <tr>\n",
              "      <th id=\"T_3231a_level0_row12\" class=\"row_heading level0 row12\" >12</th>\n",
              "      <td id=\"T_3231a_row12_col0\" class=\"data row12 col0\" >collections_12_mths_ex_med</td>\n",
              "      <td id=\"T_3231a_row12_col1\" class=\"data row12 col1\" >Number of collections in 12 months excluding medical collections</td>\n",
              "    </tr>\n",
              "    <tr>\n",
              "      <th id=\"T_3231a_level0_row13\" class=\"row_heading level0 row13\" >13</th>\n",
              "      <td id=\"T_3231a_row13_col0\" class=\"data row13 col0\" >delinq_2yrs</td>\n",
              "      <td id=\"T_3231a_row13_col1\" class=\"data row13 col1\" >The number of 30+ days past-due incidences of delinquency in the borrower's credit file for the past 2 years</td>\n",
              "    </tr>\n",
              "    <tr>\n",
              "      <th id=\"T_3231a_level0_row14\" class=\"row_heading level0 row14\" >14</th>\n",
              "      <td id=\"T_3231a_row14_col0\" class=\"data row14 col0\" >delinq_amnt</td>\n",
              "      <td id=\"T_3231a_row14_col1\" class=\"data row14 col1\" >The past-due amount owed for the accounts on which the borrower is now delinquent.</td>\n",
              "    </tr>\n",
              "    <tr>\n",
              "      <th id=\"T_3231a_level0_row15\" class=\"row_heading level0 row15\" >15</th>\n",
              "      <td id=\"T_3231a_row15_col0\" class=\"data row15 col0\" >desc</td>\n",
              "      <td id=\"T_3231a_row15_col1\" class=\"data row15 col1\" >Loan description provided by the borrower</td>\n",
              "    </tr>\n",
              "    <tr>\n",
              "      <th id=\"T_3231a_level0_row16\" class=\"row_heading level0 row16\" >16</th>\n",
              "      <td id=\"T_3231a_row16_col0\" class=\"data row16 col0\" >dti</td>\n",
              "      <td id=\"T_3231a_row16_col1\" class=\"data row16 col1\" >A ratio calculated using the borrower’s total monthly debt payments on the total debt obligations, excluding mortgage and the requested LC loan, divided by the borrower’s self-reported monthly income.</td>\n",
              "    </tr>\n",
              "    <tr>\n",
              "      <th id=\"T_3231a_level0_row17\" class=\"row_heading level0 row17\" >17</th>\n",
              "      <td id=\"T_3231a_row17_col0\" class=\"data row17 col0\" >dti_joint</td>\n",
              "      <td id=\"T_3231a_row17_col1\" class=\"data row17 col1\" >A ratio calculated using the co-borrowers' total monthly payments on the total debt obligations, excluding mortgages and the requested LC loan, divided by the co-borrowers' combined self-reported monthly income</td>\n",
              "    </tr>\n",
              "    <tr>\n",
              "      <th id=\"T_3231a_level0_row18\" class=\"row_heading level0 row18\" >18</th>\n",
              "      <td id=\"T_3231a_row18_col0\" class=\"data row18 col0\" >earliest_cr_line</td>\n",
              "      <td id=\"T_3231a_row18_col1\" class=\"data row18 col1\" >The month the borrower's earliest reported credit line was opened</td>\n",
              "    </tr>\n",
              "    <tr>\n",
              "      <th id=\"T_3231a_level0_row19\" class=\"row_heading level0 row19\" >19</th>\n",
              "      <td id=\"T_3231a_row19_col0\" class=\"data row19 col0\" >emp_length</td>\n",
              "      <td id=\"T_3231a_row19_col1\" class=\"data row19 col1\" >Employment length in years. Possible values are between 0 and 10 where 0 means less than one year and 10 means ten or more years. </td>\n",
              "    </tr>\n",
              "    <tr>\n",
              "      <th id=\"T_3231a_level0_row20\" class=\"row_heading level0 row20\" >20</th>\n",
              "      <td id=\"T_3231a_row20_col0\" class=\"data row20 col0\" >emp_title</td>\n",
              "      <td id=\"T_3231a_row20_col1\" class=\"data row20 col1\" >The job title supplied by the Borrower when applying for the loan.*</td>\n",
              "    </tr>\n",
              "    <tr>\n",
              "      <th id=\"T_3231a_level0_row21\" class=\"row_heading level0 row21\" >21</th>\n",
              "      <td id=\"T_3231a_row21_col0\" class=\"data row21 col0\" >fico_range_high</td>\n",
              "      <td id=\"T_3231a_row21_col1\" class=\"data row21 col1\" >The upper boundary range the borrower’s FICO at loan origination belongs to.</td>\n",
              "    </tr>\n",
              "    <tr>\n",
              "      <th id=\"T_3231a_level0_row22\" class=\"row_heading level0 row22\" >22</th>\n",
              "      <td id=\"T_3231a_row22_col0\" class=\"data row22 col0\" >fico_range_low</td>\n",
              "      <td id=\"T_3231a_row22_col1\" class=\"data row22 col1\" >The lower boundary range the borrower’s FICO at loan origination belongs to.</td>\n",
              "    </tr>\n",
              "    <tr>\n",
              "      <th id=\"T_3231a_level0_row23\" class=\"row_heading level0 row23\" >23</th>\n",
              "      <td id=\"T_3231a_row23_col0\" class=\"data row23 col0\" >funded_amnt</td>\n",
              "      <td id=\"T_3231a_row23_col1\" class=\"data row23 col1\" >The total amount committed to that loan at that point in time.</td>\n",
              "    </tr>\n",
              "    <tr>\n",
              "      <th id=\"T_3231a_level0_row24\" class=\"row_heading level0 row24\" >24</th>\n",
              "      <td id=\"T_3231a_row24_col0\" class=\"data row24 col0\" >funded_amnt_inv</td>\n",
              "      <td id=\"T_3231a_row24_col1\" class=\"data row24 col1\" >The total amount committed by investors for that loan at that point in time.</td>\n",
              "    </tr>\n",
              "    <tr>\n",
              "      <th id=\"T_3231a_level0_row25\" class=\"row_heading level0 row25\" >25</th>\n",
              "      <td id=\"T_3231a_row25_col0\" class=\"data row25 col0\" >grade</td>\n",
              "      <td id=\"T_3231a_row25_col1\" class=\"data row25 col1\" >LC assigned loan grade</td>\n",
              "    </tr>\n",
              "    <tr>\n",
              "      <th id=\"T_3231a_level0_row26\" class=\"row_heading level0 row26\" >26</th>\n",
              "      <td id=\"T_3231a_row26_col0\" class=\"data row26 col0\" >home_ownership</td>\n",
              "      <td id=\"T_3231a_row26_col1\" class=\"data row26 col1\" >The home ownership status provided by the borrower during registration. Our values are: RENT, OWN, MORTGAGE, OTHER.</td>\n",
              "    </tr>\n",
              "    <tr>\n",
              "      <th id=\"T_3231a_level0_row27\" class=\"row_heading level0 row27\" >27</th>\n",
              "      <td id=\"T_3231a_row27_col0\" class=\"data row27 col0\" >id</td>\n",
              "      <td id=\"T_3231a_row27_col1\" class=\"data row27 col1\" >A unique LC assigned ID for the loan listing.</td>\n",
              "    </tr>\n",
              "    <tr>\n",
              "      <th id=\"T_3231a_level0_row28\" class=\"row_heading level0 row28\" >28</th>\n",
              "      <td id=\"T_3231a_row28_col0\" class=\"data row28 col0\" >il_util</td>\n",
              "      <td id=\"T_3231a_row28_col1\" class=\"data row28 col1\" >Ratio of total current balance to high credit/credit limit on all install acct</td>\n",
              "    </tr>\n",
              "    <tr>\n",
              "      <th id=\"T_3231a_level0_row29\" class=\"row_heading level0 row29\" >29</th>\n",
              "      <td id=\"T_3231a_row29_col0\" class=\"data row29 col0\" >initial_list_status</td>\n",
              "      <td id=\"T_3231a_row29_col1\" class=\"data row29 col1\" >The initial listing status of the loan. Possible values are – W, F</td>\n",
              "    </tr>\n",
              "    <tr>\n",
              "      <th id=\"T_3231a_level0_row30\" class=\"row_heading level0 row30\" >30</th>\n",
              "      <td id=\"T_3231a_row30_col0\" class=\"data row30 col0\" >inq_fi</td>\n",
              "      <td id=\"T_3231a_row30_col1\" class=\"data row30 col1\" >Number of personal finance inquiries</td>\n",
              "    </tr>\n",
              "    <tr>\n",
              "      <th id=\"T_3231a_level0_row31\" class=\"row_heading level0 row31\" >31</th>\n",
              "      <td id=\"T_3231a_row31_col0\" class=\"data row31 col0\" >inq_last_12m</td>\n",
              "      <td id=\"T_3231a_row31_col1\" class=\"data row31 col1\" >Number of credit inquiries in past 12 months</td>\n",
              "    </tr>\n",
              "    <tr>\n",
              "      <th id=\"T_3231a_level0_row32\" class=\"row_heading level0 row32\" >32</th>\n",
              "      <td id=\"T_3231a_row32_col0\" class=\"data row32 col0\" >inq_last_6mths</td>\n",
              "      <td id=\"T_3231a_row32_col1\" class=\"data row32 col1\" >The number of inquiries in past 6 months (excluding auto and mortgage inquiries)</td>\n",
              "    </tr>\n",
              "    <tr>\n",
              "      <th id=\"T_3231a_level0_row33\" class=\"row_heading level0 row33\" >33</th>\n",
              "      <td id=\"T_3231a_row33_col0\" class=\"data row33 col0\" >installment</td>\n",
              "      <td id=\"T_3231a_row33_col1\" class=\"data row33 col1\" >The monthly payment owed by the borrower if the loan originates.</td>\n",
              "    </tr>\n",
              "    <tr>\n",
              "      <th id=\"T_3231a_level0_row34\" class=\"row_heading level0 row34\" >34</th>\n",
              "      <td id=\"T_3231a_row34_col0\" class=\"data row34 col0\" >int_rate</td>\n",
              "      <td id=\"T_3231a_row34_col1\" class=\"data row34 col1\" >Interest Rate on the loan</td>\n",
              "    </tr>\n",
              "    <tr>\n",
              "      <th id=\"T_3231a_level0_row35\" class=\"row_heading level0 row35\" >35</th>\n",
              "      <td id=\"T_3231a_row35_col0\" class=\"data row35 col0\" >issue_d</td>\n",
              "      <td id=\"T_3231a_row35_col1\" class=\"data row35 col1\" >The month which the loan was funded</td>\n",
              "    </tr>\n",
              "    <tr>\n",
              "      <th id=\"T_3231a_level0_row36\" class=\"row_heading level0 row36\" >36</th>\n",
              "      <td id=\"T_3231a_row36_col0\" class=\"data row36 col0\" >last_credit_pull_d</td>\n",
              "      <td id=\"T_3231a_row36_col1\" class=\"data row36 col1\" >The most recent month LC pulled credit for this loan</td>\n",
              "    </tr>\n",
              "    <tr>\n",
              "      <th id=\"T_3231a_level0_row37\" class=\"row_heading level0 row37\" >37</th>\n",
              "      <td id=\"T_3231a_row37_col0\" class=\"data row37 col0\" >last_fico_range_high</td>\n",
              "      <td id=\"T_3231a_row37_col1\" class=\"data row37 col1\" >The upper boundary range the borrower’s last FICO pulled belongs to.</td>\n",
              "    </tr>\n",
              "    <tr>\n",
              "      <th id=\"T_3231a_level0_row38\" class=\"row_heading level0 row38\" >38</th>\n",
              "      <td id=\"T_3231a_row38_col0\" class=\"data row38 col0\" >last_fico_range_low</td>\n",
              "      <td id=\"T_3231a_row38_col1\" class=\"data row38 col1\" >The lower boundary range the borrower’s last FICO pulled belongs to.</td>\n",
              "    </tr>\n",
              "    <tr>\n",
              "      <th id=\"T_3231a_level0_row39\" class=\"row_heading level0 row39\" >39</th>\n",
              "      <td id=\"T_3231a_row39_col0\" class=\"data row39 col0\" >last_pymnt_amnt</td>\n",
              "      <td id=\"T_3231a_row39_col1\" class=\"data row39 col1\" >Last total payment amount received</td>\n",
              "    </tr>\n",
              "    <tr>\n",
              "      <th id=\"T_3231a_level0_row40\" class=\"row_heading level0 row40\" >40</th>\n",
              "      <td id=\"T_3231a_row40_col0\" class=\"data row40 col0\" >last_pymnt_d</td>\n",
              "      <td id=\"T_3231a_row40_col1\" class=\"data row40 col1\" >Last month payment was received</td>\n",
              "    </tr>\n",
              "    <tr>\n",
              "      <th id=\"T_3231a_level0_row41\" class=\"row_heading level0 row41\" >41</th>\n",
              "      <td id=\"T_3231a_row41_col0\" class=\"data row41 col0\" >loan_amnt</td>\n",
              "      <td id=\"T_3231a_row41_col1\" class=\"data row41 col1\" >The listed amount of the loan applied for by the borrower. If at some point in time, the credit department reduces the loan amount, then it will be reflected in this value.</td>\n",
              "    </tr>\n",
              "    <tr>\n",
              "      <th id=\"T_3231a_level0_row42\" class=\"row_heading level0 row42\" >42</th>\n",
              "      <td id=\"T_3231a_row42_col0\" class=\"data row42 col0\" >loan_status</td>\n",
              "      <td id=\"T_3231a_row42_col1\" class=\"data row42 col1\" >Current status of the loan</td>\n",
              "    </tr>\n",
              "    <tr>\n",
              "      <th id=\"T_3231a_level0_row43\" class=\"row_heading level0 row43\" >43</th>\n",
              "      <td id=\"T_3231a_row43_col0\" class=\"data row43 col0\" >max_bal_bc</td>\n",
              "      <td id=\"T_3231a_row43_col1\" class=\"data row43 col1\" >Maximum current balance owed on all revolving accounts</td>\n",
              "    </tr>\n",
              "    <tr>\n",
              "      <th id=\"T_3231a_level0_row44\" class=\"row_heading level0 row44\" >44</th>\n",
              "      <td id=\"T_3231a_row44_col0\" class=\"data row44 col0\" >member_id</td>\n",
              "      <td id=\"T_3231a_row44_col1\" class=\"data row44 col1\" >A unique LC assigned Id for the borrower member.</td>\n",
              "    </tr>\n",
              "    <tr>\n",
              "      <th id=\"T_3231a_level0_row45\" class=\"row_heading level0 row45\" >45</th>\n",
              "      <td id=\"T_3231a_row45_col0\" class=\"data row45 col0\" >mo_sin_old_il_acct</td>\n",
              "      <td id=\"T_3231a_row45_col1\" class=\"data row45 col1\" >Months since oldest bank installment account opened</td>\n",
              "    </tr>\n",
              "    <tr>\n",
              "      <th id=\"T_3231a_level0_row46\" class=\"row_heading level0 row46\" >46</th>\n",
              "      <td id=\"T_3231a_row46_col0\" class=\"data row46 col0\" >mo_sin_old_rev_tl_op</td>\n",
              "      <td id=\"T_3231a_row46_col1\" class=\"data row46 col1\" >Months since oldest revolving account opened</td>\n",
              "    </tr>\n",
              "    <tr>\n",
              "      <th id=\"T_3231a_level0_row47\" class=\"row_heading level0 row47\" >47</th>\n",
              "      <td id=\"T_3231a_row47_col0\" class=\"data row47 col0\" >mo_sin_rcnt_rev_tl_op</td>\n",
              "      <td id=\"T_3231a_row47_col1\" class=\"data row47 col1\" >Months since most recent revolving account opened</td>\n",
              "    </tr>\n",
              "    <tr>\n",
              "      <th id=\"T_3231a_level0_row48\" class=\"row_heading level0 row48\" >48</th>\n",
              "      <td id=\"T_3231a_row48_col0\" class=\"data row48 col0\" >mo_sin_rcnt_tl</td>\n",
              "      <td id=\"T_3231a_row48_col1\" class=\"data row48 col1\" >Months since most recent account opened</td>\n",
              "    </tr>\n",
              "    <tr>\n",
              "      <th id=\"T_3231a_level0_row49\" class=\"row_heading level0 row49\" >49</th>\n",
              "      <td id=\"T_3231a_row49_col0\" class=\"data row49 col0\" >mort_acc</td>\n",
              "      <td id=\"T_3231a_row49_col1\" class=\"data row49 col1\" >Number of mortgage accounts.</td>\n",
              "    </tr>\n",
              "    <tr>\n",
              "      <th id=\"T_3231a_level0_row50\" class=\"row_heading level0 row50\" >50</th>\n",
              "      <td id=\"T_3231a_row50_col0\" class=\"data row50 col0\" >mths_since_last_delinq</td>\n",
              "      <td id=\"T_3231a_row50_col1\" class=\"data row50 col1\" >The number of months since the borrower's last delinquency.</td>\n",
              "    </tr>\n",
              "    <tr>\n",
              "      <th id=\"T_3231a_level0_row51\" class=\"row_heading level0 row51\" >51</th>\n",
              "      <td id=\"T_3231a_row51_col0\" class=\"data row51 col0\" >mths_since_last_major_derog</td>\n",
              "      <td id=\"T_3231a_row51_col1\" class=\"data row51 col1\" >Months since most recent 90-day or worse rating</td>\n",
              "    </tr>\n",
              "    <tr>\n",
              "      <th id=\"T_3231a_level0_row52\" class=\"row_heading level0 row52\" >52</th>\n",
              "      <td id=\"T_3231a_row52_col0\" class=\"data row52 col0\" >mths_since_last_record</td>\n",
              "      <td id=\"T_3231a_row52_col1\" class=\"data row52 col1\" >The number of months since the last public record.</td>\n",
              "    </tr>\n",
              "    <tr>\n",
              "      <th id=\"T_3231a_level0_row53\" class=\"row_heading level0 row53\" >53</th>\n",
              "      <td id=\"T_3231a_row53_col0\" class=\"data row53 col0\" >mths_since_rcnt_il</td>\n",
              "      <td id=\"T_3231a_row53_col1\" class=\"data row53 col1\" >Months since most recent installment accounts opened</td>\n",
              "    </tr>\n",
              "    <tr>\n",
              "      <th id=\"T_3231a_level0_row54\" class=\"row_heading level0 row54\" >54</th>\n",
              "      <td id=\"T_3231a_row54_col0\" class=\"data row54 col0\" >mths_since_recent_bc</td>\n",
              "      <td id=\"T_3231a_row54_col1\" class=\"data row54 col1\" >Months since most recent bankcard account opened.</td>\n",
              "    </tr>\n",
              "    <tr>\n",
              "      <th id=\"T_3231a_level0_row55\" class=\"row_heading level0 row55\" >55</th>\n",
              "      <td id=\"T_3231a_row55_col0\" class=\"data row55 col0\" >mths_since_recent_bc_dlq</td>\n",
              "      <td id=\"T_3231a_row55_col1\" class=\"data row55 col1\" >Months since most recent bankcard delinquency</td>\n",
              "    </tr>\n",
              "    <tr>\n",
              "      <th id=\"T_3231a_level0_row56\" class=\"row_heading level0 row56\" >56</th>\n",
              "      <td id=\"T_3231a_row56_col0\" class=\"data row56 col0\" >mths_since_recent_inq</td>\n",
              "      <td id=\"T_3231a_row56_col1\" class=\"data row56 col1\" >Months since most recent inquiry.</td>\n",
              "    </tr>\n",
              "    <tr>\n",
              "      <th id=\"T_3231a_level0_row57\" class=\"row_heading level0 row57\" >57</th>\n",
              "      <td id=\"T_3231a_row57_col0\" class=\"data row57 col0\" >mths_since_recent_revol_delinq</td>\n",
              "      <td id=\"T_3231a_row57_col1\" class=\"data row57 col1\" >Months since most recent revolving delinquency.</td>\n",
              "    </tr>\n",
              "    <tr>\n",
              "      <th id=\"T_3231a_level0_row58\" class=\"row_heading level0 row58\" >58</th>\n",
              "      <td id=\"T_3231a_row58_col0\" class=\"data row58 col0\" >next_pymnt_d</td>\n",
              "      <td id=\"T_3231a_row58_col1\" class=\"data row58 col1\" >Next scheduled payment date</td>\n",
              "    </tr>\n",
              "    <tr>\n",
              "      <th id=\"T_3231a_level0_row59\" class=\"row_heading level0 row59\" >59</th>\n",
              "      <td id=\"T_3231a_row59_col0\" class=\"data row59 col0\" >num_accts_ever_120_pd</td>\n",
              "      <td id=\"T_3231a_row59_col1\" class=\"data row59 col1\" >Number of accounts ever 120 or more days past due</td>\n",
              "    </tr>\n",
              "    <tr>\n",
              "      <th id=\"T_3231a_level0_row60\" class=\"row_heading level0 row60\" >60</th>\n",
              "      <td id=\"T_3231a_row60_col0\" class=\"data row60 col0\" >num_actv_bc_tl</td>\n",
              "      <td id=\"T_3231a_row60_col1\" class=\"data row60 col1\" >Number of currently active bankcard accounts</td>\n",
              "    </tr>\n",
              "    <tr>\n",
              "      <th id=\"T_3231a_level0_row61\" class=\"row_heading level0 row61\" >61</th>\n",
              "      <td id=\"T_3231a_row61_col0\" class=\"data row61 col0\" >num_actv_rev_tl</td>\n",
              "      <td id=\"T_3231a_row61_col1\" class=\"data row61 col1\" >Number of currently active revolving trades</td>\n",
              "    </tr>\n",
              "    <tr>\n",
              "      <th id=\"T_3231a_level0_row62\" class=\"row_heading level0 row62\" >62</th>\n",
              "      <td id=\"T_3231a_row62_col0\" class=\"data row62 col0\" >num_bc_sats</td>\n",
              "      <td id=\"T_3231a_row62_col1\" class=\"data row62 col1\" >Number of satisfactory bankcard accounts</td>\n",
              "    </tr>\n",
              "    <tr>\n",
              "      <th id=\"T_3231a_level0_row63\" class=\"row_heading level0 row63\" >63</th>\n",
              "      <td id=\"T_3231a_row63_col0\" class=\"data row63 col0\" >num_bc_tl</td>\n",
              "      <td id=\"T_3231a_row63_col1\" class=\"data row63 col1\" >Number of bankcard accounts</td>\n",
              "    </tr>\n",
              "    <tr>\n",
              "      <th id=\"T_3231a_level0_row64\" class=\"row_heading level0 row64\" >64</th>\n",
              "      <td id=\"T_3231a_row64_col0\" class=\"data row64 col0\" >num_il_tl</td>\n",
              "      <td id=\"T_3231a_row64_col1\" class=\"data row64 col1\" >Number of installment accounts</td>\n",
              "    </tr>\n",
              "    <tr>\n",
              "      <th id=\"T_3231a_level0_row65\" class=\"row_heading level0 row65\" >65</th>\n",
              "      <td id=\"T_3231a_row65_col0\" class=\"data row65 col0\" >num_op_rev_tl</td>\n",
              "      <td id=\"T_3231a_row65_col1\" class=\"data row65 col1\" >Number of open revolving accounts</td>\n",
              "    </tr>\n",
              "    <tr>\n",
              "      <th id=\"T_3231a_level0_row66\" class=\"row_heading level0 row66\" >66</th>\n",
              "      <td id=\"T_3231a_row66_col0\" class=\"data row66 col0\" >num_rev_accts</td>\n",
              "      <td id=\"T_3231a_row66_col1\" class=\"data row66 col1\" >Number of revolving accounts</td>\n",
              "    </tr>\n",
              "    <tr>\n",
              "      <th id=\"T_3231a_level0_row67\" class=\"row_heading level0 row67\" >67</th>\n",
              "      <td id=\"T_3231a_row67_col0\" class=\"data row67 col0\" >num_rev_tl_bal_gt_0</td>\n",
              "      <td id=\"T_3231a_row67_col1\" class=\"data row67 col1\" >Number of revolving trades with balance >0</td>\n",
              "    </tr>\n",
              "    <tr>\n",
              "      <th id=\"T_3231a_level0_row68\" class=\"row_heading level0 row68\" >68</th>\n",
              "      <td id=\"T_3231a_row68_col0\" class=\"data row68 col0\" >num_sats</td>\n",
              "      <td id=\"T_3231a_row68_col1\" class=\"data row68 col1\" >Number of satisfactory accounts</td>\n",
              "    </tr>\n",
              "    <tr>\n",
              "      <th id=\"T_3231a_level0_row69\" class=\"row_heading level0 row69\" >69</th>\n",
              "      <td id=\"T_3231a_row69_col0\" class=\"data row69 col0\" >num_tl_120dpd_2m</td>\n",
              "      <td id=\"T_3231a_row69_col1\" class=\"data row69 col1\" >Number of accounts currently 120 days past due (updated in past 2 months)</td>\n",
              "    </tr>\n",
              "    <tr>\n",
              "      <th id=\"T_3231a_level0_row70\" class=\"row_heading level0 row70\" >70</th>\n",
              "      <td id=\"T_3231a_row70_col0\" class=\"data row70 col0\" >num_tl_30dpd</td>\n",
              "      <td id=\"T_3231a_row70_col1\" class=\"data row70 col1\" >Number of accounts currently 30 days past due (updated in past 2 months)</td>\n",
              "    </tr>\n",
              "    <tr>\n",
              "      <th id=\"T_3231a_level0_row71\" class=\"row_heading level0 row71\" >71</th>\n",
              "      <td id=\"T_3231a_row71_col0\" class=\"data row71 col0\" >num_tl_90g_dpd_24m</td>\n",
              "      <td id=\"T_3231a_row71_col1\" class=\"data row71 col1\" >Number of accounts 90 or more days past due in last 24 months</td>\n",
              "    </tr>\n",
              "    <tr>\n",
              "      <th id=\"T_3231a_level0_row72\" class=\"row_heading level0 row72\" >72</th>\n",
              "      <td id=\"T_3231a_row72_col0\" class=\"data row72 col0\" >num_tl_op_past_12m</td>\n",
              "      <td id=\"T_3231a_row72_col1\" class=\"data row72 col1\" >Number of accounts opened in past 12 months</td>\n",
              "    </tr>\n",
              "    <tr>\n",
              "      <th id=\"T_3231a_level0_row73\" class=\"row_heading level0 row73\" >73</th>\n",
              "      <td id=\"T_3231a_row73_col0\" class=\"data row73 col0\" >open_acc</td>\n",
              "      <td id=\"T_3231a_row73_col1\" class=\"data row73 col1\" >The number of open credit lines in the borrower's credit file.</td>\n",
              "    </tr>\n",
              "    <tr>\n",
              "      <th id=\"T_3231a_level0_row74\" class=\"row_heading level0 row74\" >74</th>\n",
              "      <td id=\"T_3231a_row74_col0\" class=\"data row74 col0\" >open_acc_6m</td>\n",
              "      <td id=\"T_3231a_row74_col1\" class=\"data row74 col1\" >Number of open trades in last 6 months</td>\n",
              "    </tr>\n",
              "    <tr>\n",
              "      <th id=\"T_3231a_level0_row75\" class=\"row_heading level0 row75\" >75</th>\n",
              "      <td id=\"T_3231a_row75_col0\" class=\"data row75 col0\" >open_il_12m</td>\n",
              "      <td id=\"T_3231a_row75_col1\" class=\"data row75 col1\" >Number of installment accounts opened in past 12 months</td>\n",
              "    </tr>\n",
              "    <tr>\n",
              "      <th id=\"T_3231a_level0_row76\" class=\"row_heading level0 row76\" >76</th>\n",
              "      <td id=\"T_3231a_row76_col0\" class=\"data row76 col0\" >open_il_24m</td>\n",
              "      <td id=\"T_3231a_row76_col1\" class=\"data row76 col1\" >Number of installment accounts opened in past 24 months</td>\n",
              "    </tr>\n",
              "    <tr>\n",
              "      <th id=\"T_3231a_level0_row77\" class=\"row_heading level0 row77\" >77</th>\n",
              "      <td id=\"T_3231a_row77_col0\" class=\"data row77 col0\" >open_il_6m</td>\n",
              "      <td id=\"T_3231a_row77_col1\" class=\"data row77 col1\" >Number of currently active installment trades</td>\n",
              "    </tr>\n",
              "    <tr>\n",
              "      <th id=\"T_3231a_level0_row78\" class=\"row_heading level0 row78\" >78</th>\n",
              "      <td id=\"T_3231a_row78_col0\" class=\"data row78 col0\" >open_rv_12m</td>\n",
              "      <td id=\"T_3231a_row78_col1\" class=\"data row78 col1\" >Number of revolving trades opened in past 12 months</td>\n",
              "    </tr>\n",
              "    <tr>\n",
              "      <th id=\"T_3231a_level0_row79\" class=\"row_heading level0 row79\" >79</th>\n",
              "      <td id=\"T_3231a_row79_col0\" class=\"data row79 col0\" >open_rv_24m</td>\n",
              "      <td id=\"T_3231a_row79_col1\" class=\"data row79 col1\" >Number of revolving trades opened in past 24 months</td>\n",
              "    </tr>\n",
              "    <tr>\n",
              "      <th id=\"T_3231a_level0_row80\" class=\"row_heading level0 row80\" >80</th>\n",
              "      <td id=\"T_3231a_row80_col0\" class=\"data row80 col0\" >out_prncp</td>\n",
              "      <td id=\"T_3231a_row80_col1\" class=\"data row80 col1\" >Remaining outstanding principal for total amount funded</td>\n",
              "    </tr>\n",
              "    <tr>\n",
              "      <th id=\"T_3231a_level0_row81\" class=\"row_heading level0 row81\" >81</th>\n",
              "      <td id=\"T_3231a_row81_col0\" class=\"data row81 col0\" >out_prncp_inv</td>\n",
              "      <td id=\"T_3231a_row81_col1\" class=\"data row81 col1\" >Remaining outstanding principal for portion of total amount funded by investors</td>\n",
              "    </tr>\n",
              "    <tr>\n",
              "      <th id=\"T_3231a_level0_row82\" class=\"row_heading level0 row82\" >82</th>\n",
              "      <td id=\"T_3231a_row82_col0\" class=\"data row82 col0\" >pct_tl_nvr_dlq</td>\n",
              "      <td id=\"T_3231a_row82_col1\" class=\"data row82 col1\" >Percent of trades never delinquent</td>\n",
              "    </tr>\n",
              "    <tr>\n",
              "      <th id=\"T_3231a_level0_row83\" class=\"row_heading level0 row83\" >83</th>\n",
              "      <td id=\"T_3231a_row83_col0\" class=\"data row83 col0\" >percent_bc_gt_75</td>\n",
              "      <td id=\"T_3231a_row83_col1\" class=\"data row83 col1\" >Percentage of all bankcard accounts > 75% of limit.</td>\n",
              "    </tr>\n",
              "    <tr>\n",
              "      <th id=\"T_3231a_level0_row84\" class=\"row_heading level0 row84\" >84</th>\n",
              "      <td id=\"T_3231a_row84_col0\" class=\"data row84 col0\" >policy_code</td>\n",
              "      <td id=\"T_3231a_row84_col1\" class=\"data row84 col1\" >publicly available policy_code=1\n",
              "new products not publicly available policy_code=2</td>\n",
              "    </tr>\n",
              "    <tr>\n",
              "      <th id=\"T_3231a_level0_row85\" class=\"row_heading level0 row85\" >85</th>\n",
              "      <td id=\"T_3231a_row85_col0\" class=\"data row85 col0\" >pub_rec</td>\n",
              "      <td id=\"T_3231a_row85_col1\" class=\"data row85 col1\" >Number of derogatory public records</td>\n",
              "    </tr>\n",
              "    <tr>\n",
              "      <th id=\"T_3231a_level0_row86\" class=\"row_heading level0 row86\" >86</th>\n",
              "      <td id=\"T_3231a_row86_col0\" class=\"data row86 col0\" >pub_rec_bankruptcies</td>\n",
              "      <td id=\"T_3231a_row86_col1\" class=\"data row86 col1\" >Number of public record bankruptcies</td>\n",
              "    </tr>\n",
              "    <tr>\n",
              "      <th id=\"T_3231a_level0_row87\" class=\"row_heading level0 row87\" >87</th>\n",
              "      <td id=\"T_3231a_row87_col0\" class=\"data row87 col0\" >purpose</td>\n",
              "      <td id=\"T_3231a_row87_col1\" class=\"data row87 col1\" >A category provided by the borrower for the loan request. </td>\n",
              "    </tr>\n",
              "    <tr>\n",
              "      <th id=\"T_3231a_level0_row88\" class=\"row_heading level0 row88\" >88</th>\n",
              "      <td id=\"T_3231a_row88_col0\" class=\"data row88 col0\" >pymnt_plan</td>\n",
              "      <td id=\"T_3231a_row88_col1\" class=\"data row88 col1\" >Indicates if a payment plan has been put in place for the loan</td>\n",
              "    </tr>\n",
              "    <tr>\n",
              "      <th id=\"T_3231a_level0_row89\" class=\"row_heading level0 row89\" >89</th>\n",
              "      <td id=\"T_3231a_row89_col0\" class=\"data row89 col0\" >recoveries</td>\n",
              "      <td id=\"T_3231a_row89_col1\" class=\"data row89 col1\" >post charge off gross recovery</td>\n",
              "    </tr>\n",
              "    <tr>\n",
              "      <th id=\"T_3231a_level0_row90\" class=\"row_heading level0 row90\" >90</th>\n",
              "      <td id=\"T_3231a_row90_col0\" class=\"data row90 col0\" >revol_bal</td>\n",
              "      <td id=\"T_3231a_row90_col1\" class=\"data row90 col1\" >Total credit revolving balance</td>\n",
              "    </tr>\n",
              "    <tr>\n",
              "      <th id=\"T_3231a_level0_row91\" class=\"row_heading level0 row91\" >91</th>\n",
              "      <td id=\"T_3231a_row91_col0\" class=\"data row91 col0\" >revol_util</td>\n",
              "      <td id=\"T_3231a_row91_col1\" class=\"data row91 col1\" >Revolving line utilization rate, or the amount of credit the borrower is using relative to all available revolving credit.</td>\n",
              "    </tr>\n",
              "    <tr>\n",
              "      <th id=\"T_3231a_level0_row92\" class=\"row_heading level0 row92\" >92</th>\n",
              "      <td id=\"T_3231a_row92_col0\" class=\"data row92 col0\" >sub_grade</td>\n",
              "      <td id=\"T_3231a_row92_col1\" class=\"data row92 col1\" >LC assigned loan subgrade</td>\n",
              "    </tr>\n",
              "    <tr>\n",
              "      <th id=\"T_3231a_level0_row93\" class=\"row_heading level0 row93\" >93</th>\n",
              "      <td id=\"T_3231a_row93_col0\" class=\"data row93 col0\" >tax_liens</td>\n",
              "      <td id=\"T_3231a_row93_col1\" class=\"data row93 col1\" >Number of tax liens</td>\n",
              "    </tr>\n",
              "    <tr>\n",
              "      <th id=\"T_3231a_level0_row94\" class=\"row_heading level0 row94\" >94</th>\n",
              "      <td id=\"T_3231a_row94_col0\" class=\"data row94 col0\" >term</td>\n",
              "      <td id=\"T_3231a_row94_col1\" class=\"data row94 col1\" >The number of payments on the loan. Values are in months and can be either 36 or 60.</td>\n",
              "    </tr>\n",
              "    <tr>\n",
              "      <th id=\"T_3231a_level0_row95\" class=\"row_heading level0 row95\" >95</th>\n",
              "      <td id=\"T_3231a_row95_col0\" class=\"data row95 col0\" >title</td>\n",
              "      <td id=\"T_3231a_row95_col1\" class=\"data row95 col1\" >The loan title provided by the borrower</td>\n",
              "    </tr>\n",
              "    <tr>\n",
              "      <th id=\"T_3231a_level0_row96\" class=\"row_heading level0 row96\" >96</th>\n",
              "      <td id=\"T_3231a_row96_col0\" class=\"data row96 col0\" >tot_coll_amt</td>\n",
              "      <td id=\"T_3231a_row96_col1\" class=\"data row96 col1\" >Total collection amounts ever owed</td>\n",
              "    </tr>\n",
              "    <tr>\n",
              "      <th id=\"T_3231a_level0_row97\" class=\"row_heading level0 row97\" >97</th>\n",
              "      <td id=\"T_3231a_row97_col0\" class=\"data row97 col0\" >tot_cur_bal</td>\n",
              "      <td id=\"T_3231a_row97_col1\" class=\"data row97 col1\" >Total current balance of all accounts</td>\n",
              "    </tr>\n",
              "    <tr>\n",
              "      <th id=\"T_3231a_level0_row98\" class=\"row_heading level0 row98\" >98</th>\n",
              "      <td id=\"T_3231a_row98_col0\" class=\"data row98 col0\" >tot_hi_cred_lim</td>\n",
              "      <td id=\"T_3231a_row98_col1\" class=\"data row98 col1\" >Total high credit/credit limit</td>\n",
              "    </tr>\n",
              "    <tr>\n",
              "      <th id=\"T_3231a_level0_row99\" class=\"row_heading level0 row99\" >99</th>\n",
              "      <td id=\"T_3231a_row99_col0\" class=\"data row99 col0\" >total_acc</td>\n",
              "      <td id=\"T_3231a_row99_col1\" class=\"data row99 col1\" >The total number of credit lines currently in the borrower's credit file</td>\n",
              "    </tr>\n",
              "    <tr>\n",
              "      <th id=\"T_3231a_level0_row100\" class=\"row_heading level0 row100\" >100</th>\n",
              "      <td id=\"T_3231a_row100_col0\" class=\"data row100 col0\" >total_bal_ex_mort</td>\n",
              "      <td id=\"T_3231a_row100_col1\" class=\"data row100 col1\" >Total credit balance excluding mortgage</td>\n",
              "    </tr>\n",
              "    <tr>\n",
              "      <th id=\"T_3231a_level0_row101\" class=\"row_heading level0 row101\" >101</th>\n",
              "      <td id=\"T_3231a_row101_col0\" class=\"data row101 col0\" >total_bal_il</td>\n",
              "      <td id=\"T_3231a_row101_col1\" class=\"data row101 col1\" >Total current balance of all installment accounts</td>\n",
              "    </tr>\n",
              "    <tr>\n",
              "      <th id=\"T_3231a_level0_row102\" class=\"row_heading level0 row102\" >102</th>\n",
              "      <td id=\"T_3231a_row102_col0\" class=\"data row102 col0\" >total_bc_limit</td>\n",
              "      <td id=\"T_3231a_row102_col1\" class=\"data row102 col1\" >Total bankcard high credit/credit limit</td>\n",
              "    </tr>\n",
              "    <tr>\n",
              "      <th id=\"T_3231a_level0_row103\" class=\"row_heading level0 row103\" >103</th>\n",
              "      <td id=\"T_3231a_row103_col0\" class=\"data row103 col0\" >total_cu_tl</td>\n",
              "      <td id=\"T_3231a_row103_col1\" class=\"data row103 col1\" >Number of finance trades</td>\n",
              "    </tr>\n",
              "    <tr>\n",
              "      <th id=\"T_3231a_level0_row104\" class=\"row_heading level0 row104\" >104</th>\n",
              "      <td id=\"T_3231a_row104_col0\" class=\"data row104 col0\" >total_il_high_credit_limit</td>\n",
              "      <td id=\"T_3231a_row104_col1\" class=\"data row104 col1\" >Total installment high credit/credit limit</td>\n",
              "    </tr>\n",
              "    <tr>\n",
              "      <th id=\"T_3231a_level0_row105\" class=\"row_heading level0 row105\" >105</th>\n",
              "      <td id=\"T_3231a_row105_col0\" class=\"data row105 col0\" >total_pymnt</td>\n",
              "      <td id=\"T_3231a_row105_col1\" class=\"data row105 col1\" >Payments received to date for total amount funded</td>\n",
              "    </tr>\n",
              "    <tr>\n",
              "      <th id=\"T_3231a_level0_row106\" class=\"row_heading level0 row106\" >106</th>\n",
              "      <td id=\"T_3231a_row106_col0\" class=\"data row106 col0\" >total_pymnt_inv</td>\n",
              "      <td id=\"T_3231a_row106_col1\" class=\"data row106 col1\" >Payments received to date for portion of total amount funded by investors</td>\n",
              "    </tr>\n",
              "    <tr>\n",
              "      <th id=\"T_3231a_level0_row107\" class=\"row_heading level0 row107\" >107</th>\n",
              "      <td id=\"T_3231a_row107_col0\" class=\"data row107 col0\" >total_rec_int</td>\n",
              "      <td id=\"T_3231a_row107_col1\" class=\"data row107 col1\" >Interest received to date</td>\n",
              "    </tr>\n",
              "    <tr>\n",
              "      <th id=\"T_3231a_level0_row108\" class=\"row_heading level0 row108\" >108</th>\n",
              "      <td id=\"T_3231a_row108_col0\" class=\"data row108 col0\" >total_rec_late_fee</td>\n",
              "      <td id=\"T_3231a_row108_col1\" class=\"data row108 col1\" >Late fees received to date</td>\n",
              "    </tr>\n",
              "    <tr>\n",
              "      <th id=\"T_3231a_level0_row109\" class=\"row_heading level0 row109\" >109</th>\n",
              "      <td id=\"T_3231a_row109_col0\" class=\"data row109 col0\" >total_rec_prncp</td>\n",
              "      <td id=\"T_3231a_row109_col1\" class=\"data row109 col1\" >Principal received to date</td>\n",
              "    </tr>\n",
              "    <tr>\n",
              "      <th id=\"T_3231a_level0_row110\" class=\"row_heading level0 row110\" >110</th>\n",
              "      <td id=\"T_3231a_row110_col0\" class=\"data row110 col0\" >total_rev_hi_lim  </td>\n",
              "      <td id=\"T_3231a_row110_col1\" class=\"data row110 col1\" >Total revolving high credit/credit limit</td>\n",
              "    </tr>\n",
              "    <tr>\n",
              "      <th id=\"T_3231a_level0_row111\" class=\"row_heading level0 row111\" >111</th>\n",
              "      <td id=\"T_3231a_row111_col0\" class=\"data row111 col0\" >url</td>\n",
              "      <td id=\"T_3231a_row111_col1\" class=\"data row111 col1\" >URL for the LC page with listing data.</td>\n",
              "    </tr>\n",
              "    <tr>\n",
              "      <th id=\"T_3231a_level0_row112\" class=\"row_heading level0 row112\" >112</th>\n",
              "      <td id=\"T_3231a_row112_col0\" class=\"data row112 col0\" >verification_status</td>\n",
              "      <td id=\"T_3231a_row112_col1\" class=\"data row112 col1\" >Indicates if income was verified by LC, not verified, or if the income source was verified</td>\n",
              "    </tr>\n",
              "    <tr>\n",
              "      <th id=\"T_3231a_level0_row113\" class=\"row_heading level0 row113\" >113</th>\n",
              "      <td id=\"T_3231a_row113_col0\" class=\"data row113 col0\" >verified_status_joint</td>\n",
              "      <td id=\"T_3231a_row113_col1\" class=\"data row113 col1\" >Indicates if the co-borrowers' joint income was verified by LC, not verified, or if the income source was verified</td>\n",
              "    </tr>\n",
              "    <tr>\n",
              "      <th id=\"T_3231a_level0_row114\" class=\"row_heading level0 row114\" >114</th>\n",
              "      <td id=\"T_3231a_row114_col0\" class=\"data row114 col0\" >zip_code</td>\n",
              "      <td id=\"T_3231a_row114_col1\" class=\"data row114 col1\" >The first 3 numbers of the zip code provided by the borrower in the loan application.</td>\n",
              "    </tr>\n",
              "    <tr>\n",
              "      <th id=\"T_3231a_level0_row115\" class=\"row_heading level0 row115\" >115</th>\n",
              "      <td id=\"T_3231a_row115_col0\" class=\"data row115 col0\" >nan</td>\n",
              "      <td id=\"T_3231a_row115_col1\" class=\"data row115 col1\" >nan</td>\n",
              "    </tr>\n",
              "    <tr>\n",
              "      <th id=\"T_3231a_level0_row116\" class=\"row_heading level0 row116\" >116</th>\n",
              "      <td id=\"T_3231a_row116_col0\" class=\"data row116 col0\" >nan</td>\n",
              "      <td id=\"T_3231a_row116_col1\" class=\"data row116 col1\" >* Employer Title replaces Employer Name for all loans listed after 9/23/2013</td>\n",
              "    </tr>\n",
              "  </tbody>\n",
              "</table>\n"
            ]
          },
          "metadata": {},
          "execution_count": 11
        }
      ]
    },
    {
      "cell_type": "markdown",
      "source": [
        "## 2.1 Data Cleaning and Manipulation\n",
        "\n",
        "Understanding the scope of data cleaning, identifying missing values and standardization of data"
      ],
      "metadata": {
        "id": "RDI5Aozevmps"
      }
    },
    {
      "cell_type": "code",
      "source": [
        "df.info()"
      ],
      "metadata": {
        "colab": {
          "base_uri": "https://localhost:8080/"
        },
        "id": "p2sGTFiY0Lsz",
        "outputId": "8e77b7e3-76f8-43f1-d6be-c444ae4f1117"
      },
      "execution_count": 12,
      "outputs": [
        {
          "output_type": "stream",
          "name": "stdout",
          "text": [
            "<class 'pandas.core.frame.DataFrame'>\n",
            "RangeIndex: 39717 entries, 0 to 39716\n",
            "Columns: 111 entries, id to total_il_high_credit_limit\n",
            "dtypes: float64(74), int64(13), object(24)\n",
            "memory usage: 33.6+ MB\n"
          ]
        }
      ]
    },
    {
      "cell_type": "markdown",
      "source": [
        "## 2.2 Identifying missing values"
      ],
      "metadata": {
        "id": "PndzGsiRy7Va"
      }
    },
    {
      "cell_type": "code",
      "source": [
        "# Checking the missing values\n",
        "df.isnull().sum()"
      ],
      "metadata": {
        "colab": {
          "base_uri": "https://localhost:8080/"
        },
        "id": "2x0uvGrk2Jz-",
        "outputId": "ab63ed4a-a4c0-4d34-89c2-f927a00a3331"
      },
      "execution_count": 13,
      "outputs": [
        {
          "output_type": "execute_result",
          "data": {
            "text/plain": [
              "id                                    0\n",
              "member_id                             0\n",
              "loan_amnt                             0\n",
              "funded_amnt                           0\n",
              "funded_amnt_inv                       0\n",
              "term                                  0\n",
              "int_rate                              0\n",
              "installment                           0\n",
              "grade                                 0\n",
              "sub_grade                             0\n",
              "emp_title                          2459\n",
              "emp_length                         1075\n",
              "home_ownership                        0\n",
              "annual_inc                            0\n",
              "verification_status                   0\n",
              "issue_d                               0\n",
              "loan_status                           0\n",
              "pymnt_plan                            0\n",
              "url                                   0\n",
              "desc                              12940\n",
              "purpose                               0\n",
              "title                                11\n",
              "zip_code                              0\n",
              "addr_state                            0\n",
              "dti                                   0\n",
              "delinq_2yrs                           0\n",
              "earliest_cr_line                      0\n",
              "inq_last_6mths                        0\n",
              "mths_since_last_delinq            25682\n",
              "mths_since_last_record            36931\n",
              "open_acc                              0\n",
              "pub_rec                               0\n",
              "revol_bal                             0\n",
              "revol_util                           50\n",
              "total_acc                             0\n",
              "initial_list_status                   0\n",
              "out_prncp                             0\n",
              "out_prncp_inv                         0\n",
              "total_pymnt                           0\n",
              "total_pymnt_inv                       0\n",
              "total_rec_prncp                       0\n",
              "total_rec_int                         0\n",
              "total_rec_late_fee                    0\n",
              "recoveries                            0\n",
              "collection_recovery_fee               0\n",
              "last_pymnt_d                         71\n",
              "last_pymnt_amnt                       0\n",
              "next_pymnt_d                      38577\n",
              "last_credit_pull_d                    2\n",
              "collections_12_mths_ex_med           56\n",
              "mths_since_last_major_derog       39717\n",
              "policy_code                           0\n",
              "application_type                      0\n",
              "annual_inc_joint                  39717\n",
              "dti_joint                         39717\n",
              "verification_status_joint         39717\n",
              "acc_now_delinq                        0\n",
              "tot_coll_amt                      39717\n",
              "tot_cur_bal                       39717\n",
              "open_acc_6m                       39717\n",
              "open_il_6m                        39717\n",
              "open_il_12m                       39717\n",
              "open_il_24m                       39717\n",
              "mths_since_rcnt_il                39717\n",
              "total_bal_il                      39717\n",
              "il_util                           39717\n",
              "open_rv_12m                       39717\n",
              "open_rv_24m                       39717\n",
              "max_bal_bc                        39717\n",
              "all_util                          39717\n",
              "total_rev_hi_lim                  39717\n",
              "inq_fi                            39717\n",
              "total_cu_tl                       39717\n",
              "inq_last_12m                      39717\n",
              "acc_open_past_24mths              39717\n",
              "avg_cur_bal                       39717\n",
              "bc_open_to_buy                    39717\n",
              "bc_util                           39717\n",
              "chargeoff_within_12_mths             56\n",
              "delinq_amnt                           0\n",
              "mo_sin_old_il_acct                39717\n",
              "mo_sin_old_rev_tl_op              39717\n",
              "mo_sin_rcnt_rev_tl_op             39717\n",
              "mo_sin_rcnt_tl                    39717\n",
              "mort_acc                          39717\n",
              "mths_since_recent_bc              39717\n",
              "mths_since_recent_bc_dlq          39717\n",
              "mths_since_recent_inq             39717\n",
              "mths_since_recent_revol_delinq    39717\n",
              "num_accts_ever_120_pd             39717\n",
              "num_actv_bc_tl                    39717\n",
              "num_actv_rev_tl                   39717\n",
              "num_bc_sats                       39717\n",
              "num_bc_tl                         39717\n",
              "num_il_tl                         39717\n",
              "num_op_rev_tl                     39717\n",
              "num_rev_accts                     39717\n",
              "num_rev_tl_bal_gt_0               39717\n",
              "num_sats                          39717\n",
              "num_tl_120dpd_2m                  39717\n",
              "num_tl_30dpd                      39717\n",
              "num_tl_90g_dpd_24m                39717\n",
              "num_tl_op_past_12m                39717\n",
              "pct_tl_nvr_dlq                    39717\n",
              "percent_bc_gt_75                  39717\n",
              "pub_rec_bankruptcies                697\n",
              "tax_liens                            39\n",
              "tot_hi_cred_lim                   39717\n",
              "total_bal_ex_mort                 39717\n",
              "total_bc_limit                    39717\n",
              "total_il_high_credit_limit        39717\n",
              "dtype: int64"
            ]
          },
          "metadata": {},
          "execution_count": 13
        }
      ]
    },
    {
      "cell_type": "code",
      "source": [
        "# Funtion to remove the columns where 50% of values are missing\n",
        "def columns_with_high_missing_values_removed(df):\n",
        "  missing_percent = (df.isnull().sum()/len(df))*100\n",
        "  for feature, values in zip(missing_percent.index, missing_percent):\n",
        "    if values >= 50:\n",
        "      missing_percent.drop(feature, inplace=True)\n",
        "  return missing_percent\n",
        "\n",
        "df2 = columns_with_high_missing_values_removed(df)\n",
        "df2"
      ],
      "metadata": {
        "colab": {
          "base_uri": "https://localhost:8080/"
        },
        "id": "uUejZkiz01Xy",
        "outputId": "82e427f8-5a11-4100-8eb9-1c0353afdef4"
      },
      "execution_count": 14,
      "outputs": [
        {
          "output_type": "execute_result",
          "data": {
            "text/plain": [
              "id                             0.000000\n",
              "member_id                      0.000000\n",
              "loan_amnt                      0.000000\n",
              "funded_amnt                    0.000000\n",
              "funded_amnt_inv                0.000000\n",
              "term                           0.000000\n",
              "int_rate                       0.000000\n",
              "installment                    0.000000\n",
              "grade                          0.000000\n",
              "sub_grade                      0.000000\n",
              "emp_title                      6.191303\n",
              "emp_length                     2.706650\n",
              "home_ownership                 0.000000\n",
              "annual_inc                     0.000000\n",
              "verification_status            0.000000\n",
              "issue_d                        0.000000\n",
              "loan_status                    0.000000\n",
              "pymnt_plan                     0.000000\n",
              "url                            0.000000\n",
              "desc                          32.580507\n",
              "purpose                        0.000000\n",
              "title                          0.027696\n",
              "zip_code                       0.000000\n",
              "addr_state                     0.000000\n",
              "dti                            0.000000\n",
              "delinq_2yrs                    0.000000\n",
              "earliest_cr_line               0.000000\n",
              "inq_last_6mths                 0.000000\n",
              "open_acc                       0.000000\n",
              "pub_rec                        0.000000\n",
              "revol_bal                      0.000000\n",
              "revol_util                     0.125891\n",
              "total_acc                      0.000000\n",
              "initial_list_status            0.000000\n",
              "out_prncp                      0.000000\n",
              "out_prncp_inv                  0.000000\n",
              "total_pymnt                    0.000000\n",
              "total_pymnt_inv                0.000000\n",
              "total_rec_prncp                0.000000\n",
              "total_rec_int                  0.000000\n",
              "total_rec_late_fee             0.000000\n",
              "recoveries                     0.000000\n",
              "collection_recovery_fee        0.000000\n",
              "last_pymnt_d                   0.178765\n",
              "last_pymnt_amnt                0.000000\n",
              "last_credit_pull_d             0.005036\n",
              "collections_12_mths_ex_med     0.140998\n",
              "policy_code                    0.000000\n",
              "application_type               0.000000\n",
              "acc_now_delinq                 0.000000\n",
              "chargeoff_within_12_mths       0.140998\n",
              "delinq_amnt                    0.000000\n",
              "pub_rec_bankruptcies           1.754916\n",
              "tax_liens                      0.098195\n",
              "dtype: float64"
            ]
          },
          "metadata": {},
          "execution_count": 14
        }
      ]
    },
    {
      "cell_type": "code",
      "source": [
        "# Left over column after removing the columns with high missing values\n",
        "df2.shape"
      ],
      "metadata": {
        "colab": {
          "base_uri": "https://localhost:8080/"
        },
        "id": "oFgaHhES6EMO",
        "outputId": "4bc9b72d-6cfd-4a36-f3b6-b740eef34e6a"
      },
      "execution_count": 15,
      "outputs": [
        {
          "output_type": "execute_result",
          "data": {
            "text/plain": [
              "(54,)"
            ]
          },
          "metadata": {},
          "execution_count": 15
        }
      ]
    },
    {
      "cell_type": "code",
      "source": [
        "# Filtering columns with low missing values\n",
        "low_missing_values_col = df2.loc[lambda x:(x<50) & (x>0)].sort_values(ascending=False).index\n",
        "low_missing_values_col"
      ],
      "metadata": {
        "colab": {
          "base_uri": "https://localhost:8080/"
        },
        "id": "7DWmeoVp3nDa",
        "outputId": "0fb04dcc-51e9-4ad9-ad53-6eaf5f51917b"
      },
      "execution_count": 16,
      "outputs": [
        {
          "output_type": "execute_result",
          "data": {
            "text/plain": [
              "Index(['desc', 'emp_title', 'emp_length', 'pub_rec_bankruptcies',\n",
              "       'last_pymnt_d', 'collections_12_mths_ex_med',\n",
              "       'chargeoff_within_12_mths', 'revol_util', 'tax_liens', 'title',\n",
              "       'last_credit_pull_d'],\n",
              "      dtype='object')"
            ]
          },
          "metadata": {},
          "execution_count": 16
        }
      ]
    },
    {
      "cell_type": "code",
      "source": [
        "df[low_missing_values_col].info()"
      ],
      "metadata": {
        "colab": {
          "base_uri": "https://localhost:8080/"
        },
        "id": "tdhI54lj1SB6",
        "outputId": "e34fc300-4e01-455d-ae47-206779bfcd44"
      },
      "execution_count": 17,
      "outputs": [
        {
          "output_type": "stream",
          "name": "stdout",
          "text": [
            "<class 'pandas.core.frame.DataFrame'>\n",
            "RangeIndex: 39717 entries, 0 to 39716\n",
            "Data columns (total 11 columns):\n",
            " #   Column                      Non-Null Count  Dtype  \n",
            "---  ------                      --------------  -----  \n",
            " 0   desc                        26777 non-null  object \n",
            " 1   emp_title                   37258 non-null  object \n",
            " 2   emp_length                  38642 non-null  object \n",
            " 3   pub_rec_bankruptcies        39020 non-null  float64\n",
            " 4   last_pymnt_d                39646 non-null  object \n",
            " 5   collections_12_mths_ex_med  39661 non-null  float64\n",
            " 6   chargeoff_within_12_mths    39661 non-null  float64\n",
            " 7   revol_util                  39667 non-null  object \n",
            " 8   tax_liens                   39678 non-null  float64\n",
            " 9   title                       39706 non-null  object \n",
            " 10  last_credit_pull_d          39715 non-null  object \n",
            "dtypes: float64(4), object(7)\n",
            "memory usage: 3.3+ MB\n"
          ]
        }
      ]
    },
    {
      "cell_type": "code",
      "source": [
        "df[low_missing_values_col].head()"
      ],
      "metadata": {
        "colab": {
          "base_uri": "https://localhost:8080/",
          "height": 0
        },
        "id": "KsbqKtX31b7p",
        "outputId": "314a582e-3076-4a0b-fb6b-5750f79fea9b"
      },
      "execution_count": 18,
      "outputs": [
        {
          "output_type": "execute_result",
          "data": {
            "text/plain": [
              "                                                                                                                                                                                                                                                                                                                                                                                                                                                                                                                                                                                                             desc  \\\n",
              "0                                                                                                                                                                                                                                                                                                                                                                                                                                                                                                                                    Borrower added on 12/22/11 > I need to upgrade my business technologies.<br>   \n",
              "1    Borrower added on 12/22/11 > I plan to use this money to finance the motorcycle i am looking at. I plan to have it paid off as soon as possible/when i sell my old bike. I only need this money because the deal im looking at is to good to pass up.<br><br>  Borrower added on 12/22/11 > I plan to use this money to finance the motorcycle i am looking at. I plan to have it paid off as soon as possible/when i sell my old bike.I only need this money because the deal im looking at is to good to pass up. I have finished college with an associates degree in business and its takingmeplaces<br>   \n",
              "2                                                                                                                                                                                                                                                                                                                                                                                                                                                                                                                                                                                                             NaN   \n",
              "3                                                                                                                                                                                                                                                                                                                                                                                                                              Borrower added on 12/21/11 > to pay for property tax (borrow from friend, need to pay back) & central A/C need to be replace. I'm very sorry to let my loan expired last time.<br>   \n",
              "4                                                                                                                                                                                                                                                                                                Borrower added on 12/21/11 > I plan on combining three large interest bills together and freeing up some extra each month to pay toward other bills.  I've always been a good payor but have found myself needing to make adjustments to my budget due to a medical scare. My job is very stable, I love it.<br>   \n",
              "\n",
              "                  emp_title emp_length  pub_rec_bankruptcies last_pymnt_d  \\\n",
              "0                       NaN  10+ years                   0.0       Jan-15   \n",
              "1                     Ryder   < 1 year                   0.0       Apr-13   \n",
              "2                       NaN  10+ years                   0.0       Jun-14   \n",
              "3       AIR RESOURCES BOARD  10+ years                   0.0       Jan-15   \n",
              "4  University Medical Group     1 year                   0.0       May-16   \n",
              "\n",
              "   collections_12_mths_ex_med  chargeoff_within_12_mths revol_util  tax_liens  \\\n",
              "0                         0.0                       0.0     83.70%        0.0   \n",
              "1                         0.0                       0.0      9.40%        0.0   \n",
              "2                         0.0                       0.0     98.50%        0.0   \n",
              "3                         0.0                       0.0        21%        0.0   \n",
              "4                         0.0                       0.0     53.90%        0.0   \n",
              "\n",
              "                  title last_credit_pull_d  \n",
              "0              Computer             May-16  \n",
              "1                  bike             Sep-13  \n",
              "2  real estate business             May-16  \n",
              "3              personel             Apr-16  \n",
              "4              Personal             May-16  "
            ],
            "text/html": [
              "\n",
              "  <div id=\"df-37c94765-b3a1-4991-a43d-35829dff5b5d\">\n",
              "    <div class=\"colab-df-container\">\n",
              "      <div>\n",
              "<style scoped>\n",
              "    .dataframe tbody tr th:only-of-type {\n",
              "        vertical-align: middle;\n",
              "    }\n",
              "\n",
              "    .dataframe tbody tr th {\n",
              "        vertical-align: top;\n",
              "    }\n",
              "\n",
              "    .dataframe thead th {\n",
              "        text-align: right;\n",
              "    }\n",
              "</style>\n",
              "<table border=\"1\" class=\"dataframe\">\n",
              "  <thead>\n",
              "    <tr style=\"text-align: right;\">\n",
              "      <th></th>\n",
              "      <th>desc</th>\n",
              "      <th>emp_title</th>\n",
              "      <th>emp_length</th>\n",
              "      <th>pub_rec_bankruptcies</th>\n",
              "      <th>last_pymnt_d</th>\n",
              "      <th>collections_12_mths_ex_med</th>\n",
              "      <th>chargeoff_within_12_mths</th>\n",
              "      <th>revol_util</th>\n",
              "      <th>tax_liens</th>\n",
              "      <th>title</th>\n",
              "      <th>last_credit_pull_d</th>\n",
              "    </tr>\n",
              "  </thead>\n",
              "  <tbody>\n",
              "    <tr>\n",
              "      <th>0</th>\n",
              "      <td>Borrower added on 12/22/11 &gt; I need to upgrade my business technologies.&lt;br&gt;</td>\n",
              "      <td>NaN</td>\n",
              "      <td>10+ years</td>\n",
              "      <td>0.0</td>\n",
              "      <td>Jan-15</td>\n",
              "      <td>0.0</td>\n",
              "      <td>0.0</td>\n",
              "      <td>83.70%</td>\n",
              "      <td>0.0</td>\n",
              "      <td>Computer</td>\n",
              "      <td>May-16</td>\n",
              "    </tr>\n",
              "    <tr>\n",
              "      <th>1</th>\n",
              "      <td>Borrower added on 12/22/11 &gt; I plan to use this money to finance the motorcycle i am looking at. I plan to have it paid off as soon as possible/when i sell my old bike. I only need this money because the deal im looking at is to good to pass up.&lt;br&gt;&lt;br&gt;  Borrower added on 12/22/11 &gt; I plan to use this money to finance the motorcycle i am looking at. I plan to have it paid off as soon as possible/when i sell my old bike.I only need this money because the deal im looking at is to good to pass up. I have finished college with an associates degree in business and its takingmeplaces&lt;br&gt;</td>\n",
              "      <td>Ryder</td>\n",
              "      <td>&lt; 1 year</td>\n",
              "      <td>0.0</td>\n",
              "      <td>Apr-13</td>\n",
              "      <td>0.0</td>\n",
              "      <td>0.0</td>\n",
              "      <td>9.40%</td>\n",
              "      <td>0.0</td>\n",
              "      <td>bike</td>\n",
              "      <td>Sep-13</td>\n",
              "    </tr>\n",
              "    <tr>\n",
              "      <th>2</th>\n",
              "      <td>NaN</td>\n",
              "      <td>NaN</td>\n",
              "      <td>10+ years</td>\n",
              "      <td>0.0</td>\n",
              "      <td>Jun-14</td>\n",
              "      <td>0.0</td>\n",
              "      <td>0.0</td>\n",
              "      <td>98.50%</td>\n",
              "      <td>0.0</td>\n",
              "      <td>real estate business</td>\n",
              "      <td>May-16</td>\n",
              "    </tr>\n",
              "    <tr>\n",
              "      <th>3</th>\n",
              "      <td>Borrower added on 12/21/11 &gt; to pay for property tax (borrow from friend, need to pay back) &amp; central A/C need to be replace. I'm very sorry to let my loan expired last time.&lt;br&gt;</td>\n",
              "      <td>AIR RESOURCES BOARD</td>\n",
              "      <td>10+ years</td>\n",
              "      <td>0.0</td>\n",
              "      <td>Jan-15</td>\n",
              "      <td>0.0</td>\n",
              "      <td>0.0</td>\n",
              "      <td>21%</td>\n",
              "      <td>0.0</td>\n",
              "      <td>personel</td>\n",
              "      <td>Apr-16</td>\n",
              "    </tr>\n",
              "    <tr>\n",
              "      <th>4</th>\n",
              "      <td>Borrower added on 12/21/11 &gt; I plan on combining three large interest bills together and freeing up some extra each month to pay toward other bills.  I've always been a good payor but have found myself needing to make adjustments to my budget due to a medical scare. My job is very stable, I love it.&lt;br&gt;</td>\n",
              "      <td>University Medical Group</td>\n",
              "      <td>1 year</td>\n",
              "      <td>0.0</td>\n",
              "      <td>May-16</td>\n",
              "      <td>0.0</td>\n",
              "      <td>0.0</td>\n",
              "      <td>53.90%</td>\n",
              "      <td>0.0</td>\n",
              "      <td>Personal</td>\n",
              "      <td>May-16</td>\n",
              "    </tr>\n",
              "  </tbody>\n",
              "</table>\n",
              "</div>\n",
              "      <button class=\"colab-df-convert\" onclick=\"convertToInteractive('df-37c94765-b3a1-4991-a43d-35829dff5b5d')\"\n",
              "              title=\"Convert this dataframe to an interactive table.\"\n",
              "              style=\"display:none;\">\n",
              "        \n",
              "  <svg xmlns=\"http://www.w3.org/2000/svg\" height=\"24px\"viewBox=\"0 0 24 24\"\n",
              "       width=\"24px\">\n",
              "    <path d=\"M0 0h24v24H0V0z\" fill=\"none\"/>\n",
              "    <path d=\"M18.56 5.44l.94 2.06.94-2.06 2.06-.94-2.06-.94-.94-2.06-.94 2.06-2.06.94zm-11 1L8.5 8.5l.94-2.06 2.06-.94-2.06-.94L8.5 2.5l-.94 2.06-2.06.94zm10 10l.94 2.06.94-2.06 2.06-.94-2.06-.94-.94-2.06-.94 2.06-2.06.94z\"/><path d=\"M17.41 7.96l-1.37-1.37c-.4-.4-.92-.59-1.43-.59-.52 0-1.04.2-1.43.59L10.3 9.45l-7.72 7.72c-.78.78-.78 2.05 0 2.83L4 21.41c.39.39.9.59 1.41.59.51 0 1.02-.2 1.41-.59l7.78-7.78 2.81-2.81c.8-.78.8-2.07 0-2.86zM5.41 20L4 18.59l7.72-7.72 1.47 1.35L5.41 20z\"/>\n",
              "  </svg>\n",
              "      </button>\n",
              "      \n",
              "  <style>\n",
              "    .colab-df-container {\n",
              "      display:flex;\n",
              "      flex-wrap:wrap;\n",
              "      gap: 12px;\n",
              "    }\n",
              "\n",
              "    .colab-df-convert {\n",
              "      background-color: #E8F0FE;\n",
              "      border: none;\n",
              "      border-radius: 50%;\n",
              "      cursor: pointer;\n",
              "      display: none;\n",
              "      fill: #1967D2;\n",
              "      height: 32px;\n",
              "      padding: 0 0 0 0;\n",
              "      width: 32px;\n",
              "    }\n",
              "\n",
              "    .colab-df-convert:hover {\n",
              "      background-color: #E2EBFA;\n",
              "      box-shadow: 0px 1px 2px rgba(60, 64, 67, 0.3), 0px 1px 3px 1px rgba(60, 64, 67, 0.15);\n",
              "      fill: #174EA6;\n",
              "    }\n",
              "\n",
              "    [theme=dark] .colab-df-convert {\n",
              "      background-color: #3B4455;\n",
              "      fill: #D2E3FC;\n",
              "    }\n",
              "\n",
              "    [theme=dark] .colab-df-convert:hover {\n",
              "      background-color: #434B5C;\n",
              "      box-shadow: 0px 1px 3px 1px rgba(0, 0, 0, 0.15);\n",
              "      filter: drop-shadow(0px 1px 2px rgba(0, 0, 0, 0.3));\n",
              "      fill: #FFFFFF;\n",
              "    }\n",
              "  </style>\n",
              "\n",
              "      <script>\n",
              "        const buttonEl =\n",
              "          document.querySelector('#df-37c94765-b3a1-4991-a43d-35829dff5b5d button.colab-df-convert');\n",
              "        buttonEl.style.display =\n",
              "          google.colab.kernel.accessAllowed ? 'block' : 'none';\n",
              "\n",
              "        async function convertToInteractive(key) {\n",
              "          const element = document.querySelector('#df-37c94765-b3a1-4991-a43d-35829dff5b5d');\n",
              "          const dataTable =\n",
              "            await google.colab.kernel.invokeFunction('convertToInteractive',\n",
              "                                                     [key], {});\n",
              "          if (!dataTable) return;\n",
              "\n",
              "          const docLinkHtml = 'Like what you see? Visit the ' +\n",
              "            '<a target=\"_blank\" href=https://colab.research.google.com/notebooks/data_table.ipynb>data table notebook</a>'\n",
              "            + ' to learn more about interactive tables.';\n",
              "          element.innerHTML = '';\n",
              "          dataTable['output_type'] = 'display_data';\n",
              "          await google.colab.output.renderOutput(dataTable, element);\n",
              "          const docLink = document.createElement('div');\n",
              "          docLink.innerHTML = docLinkHtml;\n",
              "          element.appendChild(docLink);\n",
              "        }\n",
              "      </script>\n",
              "    </div>\n",
              "  </div>\n",
              "  "
            ]
          },
          "metadata": {},
          "execution_count": 18
        }
      ]
    },
    {
      "cell_type": "code",
      "source": [
        "## As the missing values of low and there is no logical ways of imputting them all\n",
        "## Hence I am dropping the rows containing missing values\n",
        "df3 = df[df2.index].dropna()\n",
        "df3.shape"
      ],
      "metadata": {
        "colab": {
          "base_uri": "https://localhost:8080/"
        },
        "id": "P0eMFXuC9usL",
        "outputId": "654a11c4-f082-4690-8dc0-c64184791497"
      },
      "execution_count": 19,
      "outputs": [
        {
          "output_type": "execute_result",
          "data": {
            "text/plain": [
              "(24406, 54)"
            ]
          },
          "metadata": {},
          "execution_count": 19
        }
      ]
    },
    {
      "cell_type": "code",
      "source": [
        "pd.reset_option('all')\n",
        "pd.set_option('max_columns', None)\n",
        "df3.head(2)"
      ],
      "metadata": {
        "colab": {
          "base_uri": "https://localhost:8080/",
          "height": 0
        },
        "id": "Gqko3E_bpnU5",
        "outputId": "893f0111-6fec-4bb4-e8c6-6a821439f5a4"
      },
      "execution_count": 20,
      "outputs": [
        {
          "output_type": "stream",
          "name": "stdout",
          "text": [
            "As the xlwt package is no longer maintained, the xlwt engine will be removed in a future version of pandas. This is the only engine in pandas that supports writing in the xls format. Install openpyxl and write to an xlsx file instead.\n",
            "\n",
            ": boolean\n",
            "    use_inf_as_null had been deprecated and will be removed in a future\n",
            "    version. Use `use_inf_as_na` instead.\n",
            "\n"
          ]
        },
        {
          "output_type": "execute_result",
          "data": {
            "text/plain": [
              "        id  member_id  loan_amnt  funded_amnt  funded_amnt_inv        term  \\\n",
              "1  1077430    1314167       2500         2500           2500.0   60 months   \n",
              "3  1076863    1277178      10000        10000          10000.0   36 months   \n",
              "\n",
              "  int_rate  installment grade sub_grade            emp_title emp_length  \\\n",
              "1   15.27%        59.83     C        C4                Ryder   < 1 year   \n",
              "3   13.49%       339.31     C        C1  AIR RESOURCES BOARD  10+ years   \n",
              "\n",
              "  home_ownership  annual_inc verification_status issue_d  loan_status  \\\n",
              "1           RENT     30000.0     Source Verified  Dec-11  Charged Off   \n",
              "3           RENT     49200.0     Source Verified  Dec-11   Fully Paid   \n",
              "\n",
              "  pymnt_plan                                                url  \\\n",
              "1          n  https://lendingclub.com/browse/loanDetail.acti...   \n",
              "3          n  https://lendingclub.com/browse/loanDetail.acti...   \n",
              "\n",
              "                                                desc purpose     title  \\\n",
              "1    Borrower added on 12/22/11 > I plan to use t...     car      bike   \n",
              "3    Borrower added on 12/21/11 > to pay for prop...   other  personel   \n",
              "\n",
              "  zip_code addr_state   dti  delinq_2yrs earliest_cr_line  inq_last_6mths  \\\n",
              "1    309xx         GA   1.0            0           Apr-99               5   \n",
              "3    917xx         CA  20.0            0           Feb-96               1   \n",
              "\n",
              "   open_acc  pub_rec  revol_bal revol_util  total_acc initial_list_status  \\\n",
              "1         3        0       1687      9.40%          4                   f   \n",
              "3        10        0       5598        21%         37                   f   \n",
              "\n",
              "   out_prncp  out_prncp_inv  total_pymnt  total_pymnt_inv  total_rec_prncp  \\\n",
              "1        0.0            0.0      1008.71          1008.71           456.46   \n",
              "3        0.0            0.0     12231.89         12231.89         10000.00   \n",
              "\n",
              "   total_rec_int  total_rec_late_fee  recoveries  collection_recovery_fee  \\\n",
              "1         435.17                0.00      117.08                     1.11   \n",
              "3        2214.92               16.97        0.00                     0.00   \n",
              "\n",
              "  last_pymnt_d  last_pymnt_amnt last_credit_pull_d  \\\n",
              "1       Apr-13           119.66             Sep-13   \n",
              "3       Jan-15           357.48             Apr-16   \n",
              "\n",
              "   collections_12_mths_ex_med  policy_code application_type  acc_now_delinq  \\\n",
              "1                         0.0            1       INDIVIDUAL               0   \n",
              "3                         0.0            1       INDIVIDUAL               0   \n",
              "\n",
              "   chargeoff_within_12_mths  delinq_amnt  pub_rec_bankruptcies  tax_liens  \n",
              "1                       0.0            0                   0.0        0.0  \n",
              "3                       0.0            0                   0.0        0.0  "
            ],
            "text/html": [
              "\n",
              "  <div id=\"df-e3d9d449-85c3-4f80-be19-c3243cdf09bf\">\n",
              "    <div class=\"colab-df-container\">\n",
              "      <div>\n",
              "<style scoped>\n",
              "    .dataframe tbody tr th:only-of-type {\n",
              "        vertical-align: middle;\n",
              "    }\n",
              "\n",
              "    .dataframe tbody tr th {\n",
              "        vertical-align: top;\n",
              "    }\n",
              "\n",
              "    .dataframe thead th {\n",
              "        text-align: right;\n",
              "    }\n",
              "</style>\n",
              "<table border=\"1\" class=\"dataframe\">\n",
              "  <thead>\n",
              "    <tr style=\"text-align: right;\">\n",
              "      <th></th>\n",
              "      <th>id</th>\n",
              "      <th>member_id</th>\n",
              "      <th>loan_amnt</th>\n",
              "      <th>funded_amnt</th>\n",
              "      <th>funded_amnt_inv</th>\n",
              "      <th>term</th>\n",
              "      <th>int_rate</th>\n",
              "      <th>installment</th>\n",
              "      <th>grade</th>\n",
              "      <th>sub_grade</th>\n",
              "      <th>emp_title</th>\n",
              "      <th>emp_length</th>\n",
              "      <th>home_ownership</th>\n",
              "      <th>annual_inc</th>\n",
              "      <th>verification_status</th>\n",
              "      <th>issue_d</th>\n",
              "      <th>loan_status</th>\n",
              "      <th>pymnt_plan</th>\n",
              "      <th>url</th>\n",
              "      <th>desc</th>\n",
              "      <th>purpose</th>\n",
              "      <th>title</th>\n",
              "      <th>zip_code</th>\n",
              "      <th>addr_state</th>\n",
              "      <th>dti</th>\n",
              "      <th>delinq_2yrs</th>\n",
              "      <th>earliest_cr_line</th>\n",
              "      <th>inq_last_6mths</th>\n",
              "      <th>open_acc</th>\n",
              "      <th>pub_rec</th>\n",
              "      <th>revol_bal</th>\n",
              "      <th>revol_util</th>\n",
              "      <th>total_acc</th>\n",
              "      <th>initial_list_status</th>\n",
              "      <th>out_prncp</th>\n",
              "      <th>out_prncp_inv</th>\n",
              "      <th>total_pymnt</th>\n",
              "      <th>total_pymnt_inv</th>\n",
              "      <th>total_rec_prncp</th>\n",
              "      <th>total_rec_int</th>\n",
              "      <th>total_rec_late_fee</th>\n",
              "      <th>recoveries</th>\n",
              "      <th>collection_recovery_fee</th>\n",
              "      <th>last_pymnt_d</th>\n",
              "      <th>last_pymnt_amnt</th>\n",
              "      <th>last_credit_pull_d</th>\n",
              "      <th>collections_12_mths_ex_med</th>\n",
              "      <th>policy_code</th>\n",
              "      <th>application_type</th>\n",
              "      <th>acc_now_delinq</th>\n",
              "      <th>chargeoff_within_12_mths</th>\n",
              "      <th>delinq_amnt</th>\n",
              "      <th>pub_rec_bankruptcies</th>\n",
              "      <th>tax_liens</th>\n",
              "    </tr>\n",
              "  </thead>\n",
              "  <tbody>\n",
              "    <tr>\n",
              "      <th>1</th>\n",
              "      <td>1077430</td>\n",
              "      <td>1314167</td>\n",
              "      <td>2500</td>\n",
              "      <td>2500</td>\n",
              "      <td>2500.0</td>\n",
              "      <td>60 months</td>\n",
              "      <td>15.27%</td>\n",
              "      <td>59.83</td>\n",
              "      <td>C</td>\n",
              "      <td>C4</td>\n",
              "      <td>Ryder</td>\n",
              "      <td>&lt; 1 year</td>\n",
              "      <td>RENT</td>\n",
              "      <td>30000.0</td>\n",
              "      <td>Source Verified</td>\n",
              "      <td>Dec-11</td>\n",
              "      <td>Charged Off</td>\n",
              "      <td>n</td>\n",
              "      <td>https://lendingclub.com/browse/loanDetail.acti...</td>\n",
              "      <td>Borrower added on 12/22/11 &gt; I plan to use t...</td>\n",
              "      <td>car</td>\n",
              "      <td>bike</td>\n",
              "      <td>309xx</td>\n",
              "      <td>GA</td>\n",
              "      <td>1.0</td>\n",
              "      <td>0</td>\n",
              "      <td>Apr-99</td>\n",
              "      <td>5</td>\n",
              "      <td>3</td>\n",
              "      <td>0</td>\n",
              "      <td>1687</td>\n",
              "      <td>9.40%</td>\n",
              "      <td>4</td>\n",
              "      <td>f</td>\n",
              "      <td>0.0</td>\n",
              "      <td>0.0</td>\n",
              "      <td>1008.71</td>\n",
              "      <td>1008.71</td>\n",
              "      <td>456.46</td>\n",
              "      <td>435.17</td>\n",
              "      <td>0.00</td>\n",
              "      <td>117.08</td>\n",
              "      <td>1.11</td>\n",
              "      <td>Apr-13</td>\n",
              "      <td>119.66</td>\n",
              "      <td>Sep-13</td>\n",
              "      <td>0.0</td>\n",
              "      <td>1</td>\n",
              "      <td>INDIVIDUAL</td>\n",
              "      <td>0</td>\n",
              "      <td>0.0</td>\n",
              "      <td>0</td>\n",
              "      <td>0.0</td>\n",
              "      <td>0.0</td>\n",
              "    </tr>\n",
              "    <tr>\n",
              "      <th>3</th>\n",
              "      <td>1076863</td>\n",
              "      <td>1277178</td>\n",
              "      <td>10000</td>\n",
              "      <td>10000</td>\n",
              "      <td>10000.0</td>\n",
              "      <td>36 months</td>\n",
              "      <td>13.49%</td>\n",
              "      <td>339.31</td>\n",
              "      <td>C</td>\n",
              "      <td>C1</td>\n",
              "      <td>AIR RESOURCES BOARD</td>\n",
              "      <td>10+ years</td>\n",
              "      <td>RENT</td>\n",
              "      <td>49200.0</td>\n",
              "      <td>Source Verified</td>\n",
              "      <td>Dec-11</td>\n",
              "      <td>Fully Paid</td>\n",
              "      <td>n</td>\n",
              "      <td>https://lendingclub.com/browse/loanDetail.acti...</td>\n",
              "      <td>Borrower added on 12/21/11 &gt; to pay for prop...</td>\n",
              "      <td>other</td>\n",
              "      <td>personel</td>\n",
              "      <td>917xx</td>\n",
              "      <td>CA</td>\n",
              "      <td>20.0</td>\n",
              "      <td>0</td>\n",
              "      <td>Feb-96</td>\n",
              "      <td>1</td>\n",
              "      <td>10</td>\n",
              "      <td>0</td>\n",
              "      <td>5598</td>\n",
              "      <td>21%</td>\n",
              "      <td>37</td>\n",
              "      <td>f</td>\n",
              "      <td>0.0</td>\n",
              "      <td>0.0</td>\n",
              "      <td>12231.89</td>\n",
              "      <td>12231.89</td>\n",
              "      <td>10000.00</td>\n",
              "      <td>2214.92</td>\n",
              "      <td>16.97</td>\n",
              "      <td>0.00</td>\n",
              "      <td>0.00</td>\n",
              "      <td>Jan-15</td>\n",
              "      <td>357.48</td>\n",
              "      <td>Apr-16</td>\n",
              "      <td>0.0</td>\n",
              "      <td>1</td>\n",
              "      <td>INDIVIDUAL</td>\n",
              "      <td>0</td>\n",
              "      <td>0.0</td>\n",
              "      <td>0</td>\n",
              "      <td>0.0</td>\n",
              "      <td>0.0</td>\n",
              "    </tr>\n",
              "  </tbody>\n",
              "</table>\n",
              "</div>\n",
              "      <button class=\"colab-df-convert\" onclick=\"convertToInteractive('df-e3d9d449-85c3-4f80-be19-c3243cdf09bf')\"\n",
              "              title=\"Convert this dataframe to an interactive table.\"\n",
              "              style=\"display:none;\">\n",
              "        \n",
              "  <svg xmlns=\"http://www.w3.org/2000/svg\" height=\"24px\"viewBox=\"0 0 24 24\"\n",
              "       width=\"24px\">\n",
              "    <path d=\"M0 0h24v24H0V0z\" fill=\"none\"/>\n",
              "    <path d=\"M18.56 5.44l.94 2.06.94-2.06 2.06-.94-2.06-.94-.94-2.06-.94 2.06-2.06.94zm-11 1L8.5 8.5l.94-2.06 2.06-.94-2.06-.94L8.5 2.5l-.94 2.06-2.06.94zm10 10l.94 2.06.94-2.06 2.06-.94-2.06-.94-.94-2.06-.94 2.06-2.06.94z\"/><path d=\"M17.41 7.96l-1.37-1.37c-.4-.4-.92-.59-1.43-.59-.52 0-1.04.2-1.43.59L10.3 9.45l-7.72 7.72c-.78.78-.78 2.05 0 2.83L4 21.41c.39.39.9.59 1.41.59.51 0 1.02-.2 1.41-.59l7.78-7.78 2.81-2.81c.8-.78.8-2.07 0-2.86zM5.41 20L4 18.59l7.72-7.72 1.47 1.35L5.41 20z\"/>\n",
              "  </svg>\n",
              "      </button>\n",
              "      \n",
              "  <style>\n",
              "    .colab-df-container {\n",
              "      display:flex;\n",
              "      flex-wrap:wrap;\n",
              "      gap: 12px;\n",
              "    }\n",
              "\n",
              "    .colab-df-convert {\n",
              "      background-color: #E8F0FE;\n",
              "      border: none;\n",
              "      border-radius: 50%;\n",
              "      cursor: pointer;\n",
              "      display: none;\n",
              "      fill: #1967D2;\n",
              "      height: 32px;\n",
              "      padding: 0 0 0 0;\n",
              "      width: 32px;\n",
              "    }\n",
              "\n",
              "    .colab-df-convert:hover {\n",
              "      background-color: #E2EBFA;\n",
              "      box-shadow: 0px 1px 2px rgba(60, 64, 67, 0.3), 0px 1px 3px 1px rgba(60, 64, 67, 0.15);\n",
              "      fill: #174EA6;\n",
              "    }\n",
              "\n",
              "    [theme=dark] .colab-df-convert {\n",
              "      background-color: #3B4455;\n",
              "      fill: #D2E3FC;\n",
              "    }\n",
              "\n",
              "    [theme=dark] .colab-df-convert:hover {\n",
              "      background-color: #434B5C;\n",
              "      box-shadow: 0px 1px 3px 1px rgba(0, 0, 0, 0.15);\n",
              "      filter: drop-shadow(0px 1px 2px rgba(0, 0, 0, 0.3));\n",
              "      fill: #FFFFFF;\n",
              "    }\n",
              "  </style>\n",
              "\n",
              "      <script>\n",
              "        const buttonEl =\n",
              "          document.querySelector('#df-e3d9d449-85c3-4f80-be19-c3243cdf09bf button.colab-df-convert');\n",
              "        buttonEl.style.display =\n",
              "          google.colab.kernel.accessAllowed ? 'block' : 'none';\n",
              "\n",
              "        async function convertToInteractive(key) {\n",
              "          const element = document.querySelector('#df-e3d9d449-85c3-4f80-be19-c3243cdf09bf');\n",
              "          const dataTable =\n",
              "            await google.colab.kernel.invokeFunction('convertToInteractive',\n",
              "                                                     [key], {});\n",
              "          if (!dataTable) return;\n",
              "\n",
              "          const docLinkHtml = 'Like what you see? Visit the ' +\n",
              "            '<a target=\"_blank\" href=https://colab.research.google.com/notebooks/data_table.ipynb>data table notebook</a>'\n",
              "            + ' to learn more about interactive tables.';\n",
              "          element.innerHTML = '';\n",
              "          dataTable['output_type'] = 'display_data';\n",
              "          await google.colab.output.renderOutput(dataTable, element);\n",
              "          const docLink = document.createElement('div');\n",
              "          docLink.innerHTML = docLinkHtml;\n",
              "          element.appendChild(docLink);\n",
              "        }\n",
              "      </script>\n",
              "    </div>\n",
              "  </div>\n",
              "  "
            ]
          },
          "metadata": {},
          "execution_count": 20
        }
      ]
    },
    {
      "cell_type": "markdown",
      "source": [
        "## 2.3 Removing redundant columns\n",
        "\n",
        "As the dataset contains high number of columns, Identifing redundant columns to simplify the data analysis\n",
        "\n",
        "1. Id, Memberid columns are unique hence wont make sense to include these column in EDA.\n",
        "2. The loan status \"Current\" can also be removed as we dont know if these loans would default or not in future.\n",
        "3. Also removing the following customer behaviour columns which will not be avaliable at the type of loan application\n",
        "\n",
        "`'delinq_2yers', 'earliest_cr_line, 'inq_last_6mnts', 'open_acc','pub_rec', 'revol_bal', 'revol_util', 'total_acc',  'out_prncp', 'out_prncp_inv','total_pymnt', 'total_pymnt_inv', 'total_rec_prncp', 'total_rec_int', 'total_rec_late_fee', 'recoveries', 'collection_recovery_fee','last_pymnt_d', 'last_pymnt_amnt', 'last_credit_pull_d',       'collections_12_mths_ex_med','chargeoff_within_12_mths', 'delinq_amnt',\n",
        "       'pub_rec_bankruptcies', 'tax_liens','earliest_cr_line_Year', 'last_pymnt_Month','last_pymnt_Year', 'last_credit_pull_Month', 'last_credit_pull_Year'`\n"
      ],
      "metadata": {
        "id": "3zjsUPx9Qb42"
      }
    },
    {
      "cell_type": "code",
      "source": [
        "df3.columns"
      ],
      "metadata": {
        "colab": {
          "base_uri": "https://localhost:8080/"
        },
        "id": "dfv9N8ZnYiDq",
        "outputId": "8503c53f-401d-4b5e-896d-da5e5e19dcee"
      },
      "execution_count": 21,
      "outputs": [
        {
          "output_type": "execute_result",
          "data": {
            "text/plain": [
              "Index(['id', 'member_id', 'loan_amnt', 'funded_amnt', 'funded_amnt_inv',\n",
              "       'term', 'int_rate', 'installment', 'grade', 'sub_grade', 'emp_title',\n",
              "       'emp_length', 'home_ownership', 'annual_inc', 'verification_status',\n",
              "       'issue_d', 'loan_status', 'pymnt_plan', 'url', 'desc', 'purpose',\n",
              "       'title', 'zip_code', 'addr_state', 'dti', 'delinq_2yrs',\n",
              "       'earliest_cr_line', 'inq_last_6mths', 'open_acc', 'pub_rec',\n",
              "       'revol_bal', 'revol_util', 'total_acc', 'initial_list_status',\n",
              "       'out_prncp', 'out_prncp_inv', 'total_pymnt', 'total_pymnt_inv',\n",
              "       'total_rec_prncp', 'total_rec_int', 'total_rec_late_fee', 'recoveries',\n",
              "       'collection_recovery_fee', 'last_pymnt_d', 'last_pymnt_amnt',\n",
              "       'last_credit_pull_d', 'collections_12_mths_ex_med', 'policy_code',\n",
              "       'application_type', 'acc_now_delinq', 'chargeoff_within_12_mths',\n",
              "       'delinq_amnt', 'pub_rec_bankruptcies', 'tax_liens'],\n",
              "      dtype='object')"
            ]
          },
          "metadata": {},
          "execution_count": 21
        }
      ]
    },
    {
      "cell_type": "code",
      "source": [
        "relevant_cols=['loan_amnt', 'funded_amnt', 'funded_amnt_inv','term', 'int_rate', 'installment', \n",
        "               'grade', 'emp_length', 'sub_grade','home_ownership', \n",
        "               'annual_inc', 'verification_status', 'loan_status','purpose','issue_d']\n",
        "\n",
        "df4 = df3[relevant_cols]\n",
        "\n",
        "## Removing the records having loan status as 'Current'\n",
        "df4 = df4[~(df4.loan_status=='Current')]\n",
        "\n",
        "df4.head()"
      ],
      "metadata": {
        "colab": {
          "base_uri": "https://localhost:8080/",
          "height": 0
        },
        "id": "D6SrOVyAU7EL",
        "outputId": "6be73173-c844-4530-fc1d-84c544eceedc"
      },
      "execution_count": 22,
      "outputs": [
        {
          "output_type": "execute_result",
          "data": {
            "text/plain": [
              "   loan_amnt  funded_amnt  funded_amnt_inv        term int_rate  installment  \\\n",
              "1       2500         2500           2500.0   60 months   15.27%        59.83   \n",
              "3      10000        10000          10000.0   36 months   13.49%       339.31   \n",
              "6       7000         7000           7000.0   60 months   15.96%       170.08   \n",
              "7       3000         3000           3000.0   36 months   18.64%       109.43   \n",
              "9       5375         5375           5350.0   60 months   12.69%       121.45   \n",
              "\n",
              "  grade emp_length sub_grade home_ownership  annual_inc verification_status  \\\n",
              "1     C   < 1 year        C4           RENT     30000.0     Source Verified   \n",
              "3     C  10+ years        C1           RENT     49200.0     Source Verified   \n",
              "6     C    8 years        C5           RENT     47004.0        Not Verified   \n",
              "7     E    9 years        E1           RENT     48000.0     Source Verified   \n",
              "9     B   < 1 year        B5           RENT     15000.0            Verified   \n",
              "\n",
              "   loan_status             purpose issue_d  \n",
              "1  Charged Off                 car  Dec-11  \n",
              "3   Fully Paid               other  Dec-11  \n",
              "6   Fully Paid  debt_consolidation  Dec-11  \n",
              "7   Fully Paid                 car  Dec-11  \n",
              "9  Charged Off               other  Dec-11  "
            ],
            "text/html": [
              "\n",
              "  <div id=\"df-d2a385cc-cd4d-4eee-a003-a08050050598\">\n",
              "    <div class=\"colab-df-container\">\n",
              "      <div>\n",
              "<style scoped>\n",
              "    .dataframe tbody tr th:only-of-type {\n",
              "        vertical-align: middle;\n",
              "    }\n",
              "\n",
              "    .dataframe tbody tr th {\n",
              "        vertical-align: top;\n",
              "    }\n",
              "\n",
              "    .dataframe thead th {\n",
              "        text-align: right;\n",
              "    }\n",
              "</style>\n",
              "<table border=\"1\" class=\"dataframe\">\n",
              "  <thead>\n",
              "    <tr style=\"text-align: right;\">\n",
              "      <th></th>\n",
              "      <th>loan_amnt</th>\n",
              "      <th>funded_amnt</th>\n",
              "      <th>funded_amnt_inv</th>\n",
              "      <th>term</th>\n",
              "      <th>int_rate</th>\n",
              "      <th>installment</th>\n",
              "      <th>grade</th>\n",
              "      <th>emp_length</th>\n",
              "      <th>sub_grade</th>\n",
              "      <th>home_ownership</th>\n",
              "      <th>annual_inc</th>\n",
              "      <th>verification_status</th>\n",
              "      <th>loan_status</th>\n",
              "      <th>purpose</th>\n",
              "      <th>issue_d</th>\n",
              "    </tr>\n",
              "  </thead>\n",
              "  <tbody>\n",
              "    <tr>\n",
              "      <th>1</th>\n",
              "      <td>2500</td>\n",
              "      <td>2500</td>\n",
              "      <td>2500.0</td>\n",
              "      <td>60 months</td>\n",
              "      <td>15.27%</td>\n",
              "      <td>59.83</td>\n",
              "      <td>C</td>\n",
              "      <td>&lt; 1 year</td>\n",
              "      <td>C4</td>\n",
              "      <td>RENT</td>\n",
              "      <td>30000.0</td>\n",
              "      <td>Source Verified</td>\n",
              "      <td>Charged Off</td>\n",
              "      <td>car</td>\n",
              "      <td>Dec-11</td>\n",
              "    </tr>\n",
              "    <tr>\n",
              "      <th>3</th>\n",
              "      <td>10000</td>\n",
              "      <td>10000</td>\n",
              "      <td>10000.0</td>\n",
              "      <td>36 months</td>\n",
              "      <td>13.49%</td>\n",
              "      <td>339.31</td>\n",
              "      <td>C</td>\n",
              "      <td>10+ years</td>\n",
              "      <td>C1</td>\n",
              "      <td>RENT</td>\n",
              "      <td>49200.0</td>\n",
              "      <td>Source Verified</td>\n",
              "      <td>Fully Paid</td>\n",
              "      <td>other</td>\n",
              "      <td>Dec-11</td>\n",
              "    </tr>\n",
              "    <tr>\n",
              "      <th>6</th>\n",
              "      <td>7000</td>\n",
              "      <td>7000</td>\n",
              "      <td>7000.0</td>\n",
              "      <td>60 months</td>\n",
              "      <td>15.96%</td>\n",
              "      <td>170.08</td>\n",
              "      <td>C</td>\n",
              "      <td>8 years</td>\n",
              "      <td>C5</td>\n",
              "      <td>RENT</td>\n",
              "      <td>47004.0</td>\n",
              "      <td>Not Verified</td>\n",
              "      <td>Fully Paid</td>\n",
              "      <td>debt_consolidation</td>\n",
              "      <td>Dec-11</td>\n",
              "    </tr>\n",
              "    <tr>\n",
              "      <th>7</th>\n",
              "      <td>3000</td>\n",
              "      <td>3000</td>\n",
              "      <td>3000.0</td>\n",
              "      <td>36 months</td>\n",
              "      <td>18.64%</td>\n",
              "      <td>109.43</td>\n",
              "      <td>E</td>\n",
              "      <td>9 years</td>\n",
              "      <td>E1</td>\n",
              "      <td>RENT</td>\n",
              "      <td>48000.0</td>\n",
              "      <td>Source Verified</td>\n",
              "      <td>Fully Paid</td>\n",
              "      <td>car</td>\n",
              "      <td>Dec-11</td>\n",
              "    </tr>\n",
              "    <tr>\n",
              "      <th>9</th>\n",
              "      <td>5375</td>\n",
              "      <td>5375</td>\n",
              "      <td>5350.0</td>\n",
              "      <td>60 months</td>\n",
              "      <td>12.69%</td>\n",
              "      <td>121.45</td>\n",
              "      <td>B</td>\n",
              "      <td>&lt; 1 year</td>\n",
              "      <td>B5</td>\n",
              "      <td>RENT</td>\n",
              "      <td>15000.0</td>\n",
              "      <td>Verified</td>\n",
              "      <td>Charged Off</td>\n",
              "      <td>other</td>\n",
              "      <td>Dec-11</td>\n",
              "    </tr>\n",
              "  </tbody>\n",
              "</table>\n",
              "</div>\n",
              "      <button class=\"colab-df-convert\" onclick=\"convertToInteractive('df-d2a385cc-cd4d-4eee-a003-a08050050598')\"\n",
              "              title=\"Convert this dataframe to an interactive table.\"\n",
              "              style=\"display:none;\">\n",
              "        \n",
              "  <svg xmlns=\"http://www.w3.org/2000/svg\" height=\"24px\"viewBox=\"0 0 24 24\"\n",
              "       width=\"24px\">\n",
              "    <path d=\"M0 0h24v24H0V0z\" fill=\"none\"/>\n",
              "    <path d=\"M18.56 5.44l.94 2.06.94-2.06 2.06-.94-2.06-.94-.94-2.06-.94 2.06-2.06.94zm-11 1L8.5 8.5l.94-2.06 2.06-.94-2.06-.94L8.5 2.5l-.94 2.06-2.06.94zm10 10l.94 2.06.94-2.06 2.06-.94-2.06-.94-.94-2.06-.94 2.06-2.06.94z\"/><path d=\"M17.41 7.96l-1.37-1.37c-.4-.4-.92-.59-1.43-.59-.52 0-1.04.2-1.43.59L10.3 9.45l-7.72 7.72c-.78.78-.78 2.05 0 2.83L4 21.41c.39.39.9.59 1.41.59.51 0 1.02-.2 1.41-.59l7.78-7.78 2.81-2.81c.8-.78.8-2.07 0-2.86zM5.41 20L4 18.59l7.72-7.72 1.47 1.35L5.41 20z\"/>\n",
              "  </svg>\n",
              "      </button>\n",
              "      \n",
              "  <style>\n",
              "    .colab-df-container {\n",
              "      display:flex;\n",
              "      flex-wrap:wrap;\n",
              "      gap: 12px;\n",
              "    }\n",
              "\n",
              "    .colab-df-convert {\n",
              "      background-color: #E8F0FE;\n",
              "      border: none;\n",
              "      border-radius: 50%;\n",
              "      cursor: pointer;\n",
              "      display: none;\n",
              "      fill: #1967D2;\n",
              "      height: 32px;\n",
              "      padding: 0 0 0 0;\n",
              "      width: 32px;\n",
              "    }\n",
              "\n",
              "    .colab-df-convert:hover {\n",
              "      background-color: #E2EBFA;\n",
              "      box-shadow: 0px 1px 2px rgba(60, 64, 67, 0.3), 0px 1px 3px 1px rgba(60, 64, 67, 0.15);\n",
              "      fill: #174EA6;\n",
              "    }\n",
              "\n",
              "    [theme=dark] .colab-df-convert {\n",
              "      background-color: #3B4455;\n",
              "      fill: #D2E3FC;\n",
              "    }\n",
              "\n",
              "    [theme=dark] .colab-df-convert:hover {\n",
              "      background-color: #434B5C;\n",
              "      box-shadow: 0px 1px 3px 1px rgba(0, 0, 0, 0.15);\n",
              "      filter: drop-shadow(0px 1px 2px rgba(0, 0, 0, 0.3));\n",
              "      fill: #FFFFFF;\n",
              "    }\n",
              "  </style>\n",
              "\n",
              "      <script>\n",
              "        const buttonEl =\n",
              "          document.querySelector('#df-d2a385cc-cd4d-4eee-a003-a08050050598 button.colab-df-convert');\n",
              "        buttonEl.style.display =\n",
              "          google.colab.kernel.accessAllowed ? 'block' : 'none';\n",
              "\n",
              "        async function convertToInteractive(key) {\n",
              "          const element = document.querySelector('#df-d2a385cc-cd4d-4eee-a003-a08050050598');\n",
              "          const dataTable =\n",
              "            await google.colab.kernel.invokeFunction('convertToInteractive',\n",
              "                                                     [key], {});\n",
              "          if (!dataTable) return;\n",
              "\n",
              "          const docLinkHtml = 'Like what you see? Visit the ' +\n",
              "            '<a target=\"_blank\" href=https://colab.research.google.com/notebooks/data_table.ipynb>data table notebook</a>'\n",
              "            + ' to learn more about interactive tables.';\n",
              "          element.innerHTML = '';\n",
              "          dataTable['output_type'] = 'display_data';\n",
              "          await google.colab.output.renderOutput(dataTable, element);\n",
              "          const docLink = document.createElement('div');\n",
              "          docLink.innerHTML = docLinkHtml;\n",
              "          element.appendChild(docLink);\n",
              "        }\n",
              "      </script>\n",
              "    </div>\n",
              "  </div>\n",
              "  "
            ]
          },
          "metadata": {},
          "execution_count": 22
        }
      ]
    },
    {
      "cell_type": "markdown",
      "source": [
        "## 2.4 Data Standardization"
      ],
      "metadata": {
        "id": "HtvJuPLm37Cs"
      }
    },
    {
      "cell_type": "code",
      "source": [
        "df4.info()"
      ],
      "metadata": {
        "colab": {
          "base_uri": "https://localhost:8080/"
        },
        "id": "YDiUWRcvT4pd",
        "outputId": "18fa67ab-e2f2-471b-842a-979193b43ed5"
      },
      "execution_count": 23,
      "outputs": [
        {
          "output_type": "stream",
          "name": "stdout",
          "text": [
            "<class 'pandas.core.frame.DataFrame'>\n",
            "Int64Index: 23727 entries, 1 to 39623\n",
            "Data columns (total 15 columns):\n",
            " #   Column               Non-Null Count  Dtype  \n",
            "---  ------               --------------  -----  \n",
            " 0   loan_amnt            23727 non-null  int64  \n",
            " 1   funded_amnt          23727 non-null  int64  \n",
            " 2   funded_amnt_inv      23727 non-null  float64\n",
            " 3   term                 23727 non-null  object \n",
            " 4   int_rate             23727 non-null  object \n",
            " 5   installment          23727 non-null  float64\n",
            " 6   grade                23727 non-null  object \n",
            " 7   emp_length           23727 non-null  object \n",
            " 8   sub_grade            23727 non-null  object \n",
            " 9   home_ownership       23727 non-null  object \n",
            " 10  annual_inc           23727 non-null  float64\n",
            " 11  verification_status  23727 non-null  object \n",
            " 12  loan_status          23727 non-null  object \n",
            " 13  purpose              23727 non-null  object \n",
            " 14  issue_d              23727 non-null  object \n",
            "dtypes: float64(3), int64(2), object(10)\n",
            "memory usage: 2.9+ MB\n"
          ]
        }
      ]
    },
    {
      "cell_type": "markdown",
      "source": [
        "Following columns can be fixed to analyse them better\n",
        "- Term, emp_length, Interest rate  - Can be converted to numberic values\n",
        "- issue_d, earliest_cr_line, last_pymnt_d,last_credit_pull_d - Can be segegated to year and month for better analysis"
      ],
      "metadata": {
        "id": "c9X81GTU4Cn_"
      }
    },
    {
      "cell_type": "code",
      "source": [
        "## Fixing the numberic columns\n",
        "df4.term = df4.term.apply(lambda x: x.strip(' months')).astype('int64')\n",
        "df4.emp_length = df4.emp_length.apply(lambda x: x.strip(' years < year +')).astype('int64')\n",
        "df4.int_rate = df4.int_rate.apply(lambda x: x.strip(' %')).astype('float')\n",
        "df4[['Issue_Month', 'Issue_Year']] =df4.issue_d.str.split(\"-\", expand = True)\n",
        "df4[['Issue_Year']] = df4[['Issue_Year']].astype('int64')"
      ],
      "metadata": {
        "id": "Oto7J-bv7Shd"
      },
      "execution_count": 24,
      "outputs": []
    },
    {
      "cell_type": "code",
      "source": [
        "df4.head()"
      ],
      "metadata": {
        "colab": {
          "base_uri": "https://localhost:8080/",
          "height": 0
        },
        "id": "mxsJI8M_bbFa",
        "outputId": "683d1904-bb3d-4586-ccd6-f5730fc38a81"
      },
      "execution_count": 25,
      "outputs": [
        {
          "output_type": "execute_result",
          "data": {
            "text/plain": [
              "   loan_amnt  funded_amnt  funded_amnt_inv  term  int_rate  installment grade  \\\n",
              "1       2500         2500           2500.0    60     15.27        59.83     C   \n",
              "3      10000        10000          10000.0    36     13.49       339.31     C   \n",
              "6       7000         7000           7000.0    60     15.96       170.08     C   \n",
              "7       3000         3000           3000.0    36     18.64       109.43     E   \n",
              "9       5375         5375           5350.0    60     12.69       121.45     B   \n",
              "\n",
              "   emp_length sub_grade home_ownership  annual_inc verification_status  \\\n",
              "1           1        C4           RENT     30000.0     Source Verified   \n",
              "3          10        C1           RENT     49200.0     Source Verified   \n",
              "6           8        C5           RENT     47004.0        Not Verified   \n",
              "7           9        E1           RENT     48000.0     Source Verified   \n",
              "9           1        B5           RENT     15000.0            Verified   \n",
              "\n",
              "   loan_status             purpose issue_d Issue_Month  Issue_Year  \n",
              "1  Charged Off                 car  Dec-11         Dec          11  \n",
              "3   Fully Paid               other  Dec-11         Dec          11  \n",
              "6   Fully Paid  debt_consolidation  Dec-11         Dec          11  \n",
              "7   Fully Paid                 car  Dec-11         Dec          11  \n",
              "9  Charged Off               other  Dec-11         Dec          11  "
            ],
            "text/html": [
              "\n",
              "  <div id=\"df-dc0d4e0c-c5f6-4a20-8bd0-099d8d919dc6\">\n",
              "    <div class=\"colab-df-container\">\n",
              "      <div>\n",
              "<style scoped>\n",
              "    .dataframe tbody tr th:only-of-type {\n",
              "        vertical-align: middle;\n",
              "    }\n",
              "\n",
              "    .dataframe tbody tr th {\n",
              "        vertical-align: top;\n",
              "    }\n",
              "\n",
              "    .dataframe thead th {\n",
              "        text-align: right;\n",
              "    }\n",
              "</style>\n",
              "<table border=\"1\" class=\"dataframe\">\n",
              "  <thead>\n",
              "    <tr style=\"text-align: right;\">\n",
              "      <th></th>\n",
              "      <th>loan_amnt</th>\n",
              "      <th>funded_amnt</th>\n",
              "      <th>funded_amnt_inv</th>\n",
              "      <th>term</th>\n",
              "      <th>int_rate</th>\n",
              "      <th>installment</th>\n",
              "      <th>grade</th>\n",
              "      <th>emp_length</th>\n",
              "      <th>sub_grade</th>\n",
              "      <th>home_ownership</th>\n",
              "      <th>annual_inc</th>\n",
              "      <th>verification_status</th>\n",
              "      <th>loan_status</th>\n",
              "      <th>purpose</th>\n",
              "      <th>issue_d</th>\n",
              "      <th>Issue_Month</th>\n",
              "      <th>Issue_Year</th>\n",
              "    </tr>\n",
              "  </thead>\n",
              "  <tbody>\n",
              "    <tr>\n",
              "      <th>1</th>\n",
              "      <td>2500</td>\n",
              "      <td>2500</td>\n",
              "      <td>2500.0</td>\n",
              "      <td>60</td>\n",
              "      <td>15.27</td>\n",
              "      <td>59.83</td>\n",
              "      <td>C</td>\n",
              "      <td>1</td>\n",
              "      <td>C4</td>\n",
              "      <td>RENT</td>\n",
              "      <td>30000.0</td>\n",
              "      <td>Source Verified</td>\n",
              "      <td>Charged Off</td>\n",
              "      <td>car</td>\n",
              "      <td>Dec-11</td>\n",
              "      <td>Dec</td>\n",
              "      <td>11</td>\n",
              "    </tr>\n",
              "    <tr>\n",
              "      <th>3</th>\n",
              "      <td>10000</td>\n",
              "      <td>10000</td>\n",
              "      <td>10000.0</td>\n",
              "      <td>36</td>\n",
              "      <td>13.49</td>\n",
              "      <td>339.31</td>\n",
              "      <td>C</td>\n",
              "      <td>10</td>\n",
              "      <td>C1</td>\n",
              "      <td>RENT</td>\n",
              "      <td>49200.0</td>\n",
              "      <td>Source Verified</td>\n",
              "      <td>Fully Paid</td>\n",
              "      <td>other</td>\n",
              "      <td>Dec-11</td>\n",
              "      <td>Dec</td>\n",
              "      <td>11</td>\n",
              "    </tr>\n",
              "    <tr>\n",
              "      <th>6</th>\n",
              "      <td>7000</td>\n",
              "      <td>7000</td>\n",
              "      <td>7000.0</td>\n",
              "      <td>60</td>\n",
              "      <td>15.96</td>\n",
              "      <td>170.08</td>\n",
              "      <td>C</td>\n",
              "      <td>8</td>\n",
              "      <td>C5</td>\n",
              "      <td>RENT</td>\n",
              "      <td>47004.0</td>\n",
              "      <td>Not Verified</td>\n",
              "      <td>Fully Paid</td>\n",
              "      <td>debt_consolidation</td>\n",
              "      <td>Dec-11</td>\n",
              "      <td>Dec</td>\n",
              "      <td>11</td>\n",
              "    </tr>\n",
              "    <tr>\n",
              "      <th>7</th>\n",
              "      <td>3000</td>\n",
              "      <td>3000</td>\n",
              "      <td>3000.0</td>\n",
              "      <td>36</td>\n",
              "      <td>18.64</td>\n",
              "      <td>109.43</td>\n",
              "      <td>E</td>\n",
              "      <td>9</td>\n",
              "      <td>E1</td>\n",
              "      <td>RENT</td>\n",
              "      <td>48000.0</td>\n",
              "      <td>Source Verified</td>\n",
              "      <td>Fully Paid</td>\n",
              "      <td>car</td>\n",
              "      <td>Dec-11</td>\n",
              "      <td>Dec</td>\n",
              "      <td>11</td>\n",
              "    </tr>\n",
              "    <tr>\n",
              "      <th>9</th>\n",
              "      <td>5375</td>\n",
              "      <td>5375</td>\n",
              "      <td>5350.0</td>\n",
              "      <td>60</td>\n",
              "      <td>12.69</td>\n",
              "      <td>121.45</td>\n",
              "      <td>B</td>\n",
              "      <td>1</td>\n",
              "      <td>B5</td>\n",
              "      <td>RENT</td>\n",
              "      <td>15000.0</td>\n",
              "      <td>Verified</td>\n",
              "      <td>Charged Off</td>\n",
              "      <td>other</td>\n",
              "      <td>Dec-11</td>\n",
              "      <td>Dec</td>\n",
              "      <td>11</td>\n",
              "    </tr>\n",
              "  </tbody>\n",
              "</table>\n",
              "</div>\n",
              "      <button class=\"colab-df-convert\" onclick=\"convertToInteractive('df-dc0d4e0c-c5f6-4a20-8bd0-099d8d919dc6')\"\n",
              "              title=\"Convert this dataframe to an interactive table.\"\n",
              "              style=\"display:none;\">\n",
              "        \n",
              "  <svg xmlns=\"http://www.w3.org/2000/svg\" height=\"24px\"viewBox=\"0 0 24 24\"\n",
              "       width=\"24px\">\n",
              "    <path d=\"M0 0h24v24H0V0z\" fill=\"none\"/>\n",
              "    <path d=\"M18.56 5.44l.94 2.06.94-2.06 2.06-.94-2.06-.94-.94-2.06-.94 2.06-2.06.94zm-11 1L8.5 8.5l.94-2.06 2.06-.94-2.06-.94L8.5 2.5l-.94 2.06-2.06.94zm10 10l.94 2.06.94-2.06 2.06-.94-2.06-.94-.94-2.06-.94 2.06-2.06.94z\"/><path d=\"M17.41 7.96l-1.37-1.37c-.4-.4-.92-.59-1.43-.59-.52 0-1.04.2-1.43.59L10.3 9.45l-7.72 7.72c-.78.78-.78 2.05 0 2.83L4 21.41c.39.39.9.59 1.41.59.51 0 1.02-.2 1.41-.59l7.78-7.78 2.81-2.81c.8-.78.8-2.07 0-2.86zM5.41 20L4 18.59l7.72-7.72 1.47 1.35L5.41 20z\"/>\n",
              "  </svg>\n",
              "      </button>\n",
              "      \n",
              "  <style>\n",
              "    .colab-df-container {\n",
              "      display:flex;\n",
              "      flex-wrap:wrap;\n",
              "      gap: 12px;\n",
              "    }\n",
              "\n",
              "    .colab-df-convert {\n",
              "      background-color: #E8F0FE;\n",
              "      border: none;\n",
              "      border-radius: 50%;\n",
              "      cursor: pointer;\n",
              "      display: none;\n",
              "      fill: #1967D2;\n",
              "      height: 32px;\n",
              "      padding: 0 0 0 0;\n",
              "      width: 32px;\n",
              "    }\n",
              "\n",
              "    .colab-df-convert:hover {\n",
              "      background-color: #E2EBFA;\n",
              "      box-shadow: 0px 1px 2px rgba(60, 64, 67, 0.3), 0px 1px 3px 1px rgba(60, 64, 67, 0.15);\n",
              "      fill: #174EA6;\n",
              "    }\n",
              "\n",
              "    [theme=dark] .colab-df-convert {\n",
              "      background-color: #3B4455;\n",
              "      fill: #D2E3FC;\n",
              "    }\n",
              "\n",
              "    [theme=dark] .colab-df-convert:hover {\n",
              "      background-color: #434B5C;\n",
              "      box-shadow: 0px 1px 3px 1px rgba(0, 0, 0, 0.15);\n",
              "      filter: drop-shadow(0px 1px 2px rgba(0, 0, 0, 0.3));\n",
              "      fill: #FFFFFF;\n",
              "    }\n",
              "  </style>\n",
              "\n",
              "      <script>\n",
              "        const buttonEl =\n",
              "          document.querySelector('#df-dc0d4e0c-c5f6-4a20-8bd0-099d8d919dc6 button.colab-df-convert');\n",
              "        buttonEl.style.display =\n",
              "          google.colab.kernel.accessAllowed ? 'block' : 'none';\n",
              "\n",
              "        async function convertToInteractive(key) {\n",
              "          const element = document.querySelector('#df-dc0d4e0c-c5f6-4a20-8bd0-099d8d919dc6');\n",
              "          const dataTable =\n",
              "            await google.colab.kernel.invokeFunction('convertToInteractive',\n",
              "                                                     [key], {});\n",
              "          if (!dataTable) return;\n",
              "\n",
              "          const docLinkHtml = 'Like what you see? Visit the ' +\n",
              "            '<a target=\"_blank\" href=https://colab.research.google.com/notebooks/data_table.ipynb>data table notebook</a>'\n",
              "            + ' to learn more about interactive tables.';\n",
              "          element.innerHTML = '';\n",
              "          dataTable['output_type'] = 'display_data';\n",
              "          await google.colab.output.renderOutput(dataTable, element);\n",
              "          const docLink = document.createElement('div');\n",
              "          docLink.innerHTML = docLinkHtml;\n",
              "          element.appendChild(docLink);\n",
              "        }\n",
              "      </script>\n",
              "    </div>\n",
              "  </div>\n",
              "  "
            ]
          },
          "metadata": {},
          "execution_count": 25
        }
      ]
    },
    {
      "cell_type": "code",
      "source": [
        "df4.shape"
      ],
      "metadata": {
        "colab": {
          "base_uri": "https://localhost:8080/"
        },
        "id": "zTzltFo6hqoN",
        "outputId": "54111883-a0da-47bf-d925-9e4744950541"
      },
      "execution_count": 26,
      "outputs": [
        {
          "output_type": "execute_result",
          "data": {
            "text/plain": [
              "(23727, 17)"
            ]
          },
          "metadata": {},
          "execution_count": 26
        }
      ]
    },
    {
      "cell_type": "markdown",
      "source": [
        "# 3: Explainatory Data Analysis <a name=\"3\"></a>\n",
        "\n",
        "\n",
        "---\n",
        "<a href=\"#top\" class=\"btn btn-primary btn-sm\" role=\"button\" aria-pressed=\"true\" style=\"color:white\" data-toggle=\"popover\">Go to TOC</a> "
      ],
      "metadata": {
        "id": "7yjeLUwEg9zo"
      }
    },
    {
      "cell_type": "markdown",
      "source": [
        "## 3.1 Univariate Analysis - Categroical variables"
      ],
      "metadata": {
        "id": "0wwof5y95DB_"
      }
    },
    {
      "cell_type": "code",
      "source": [
        "numberic_features = df4.select_dtypes(include='number').columns\n",
        "numberic_features"
      ],
      "metadata": {
        "colab": {
          "base_uri": "https://localhost:8080/"
        },
        "id": "zZ8pcwyT5C0d",
        "outputId": "c89afd82-35c8-46df-ce39-15fc69b14d13"
      },
      "execution_count": 27,
      "outputs": [
        {
          "output_type": "execute_result",
          "data": {
            "text/plain": [
              "Index(['loan_amnt', 'funded_amnt', 'funded_amnt_inv', 'term', 'int_rate',\n",
              "       'installment', 'emp_length', 'annual_inc', 'Issue_Year'],\n",
              "      dtype='object')"
            ]
          },
          "metadata": {},
          "execution_count": 27
        }
      ]
    },
    {
      "cell_type": "code",
      "source": [
        "categorical_features = df4.select_dtypes(include='object').columns\n",
        "categorical_features"
      ],
      "metadata": {
        "colab": {
          "base_uri": "https://localhost:8080/"
        },
        "id": "awxyhdsS5CxK",
        "outputId": "5153b9a6-34c8-4639-9ca2-d923c7726626"
      },
      "execution_count": 28,
      "outputs": [
        {
          "output_type": "execute_result",
          "data": {
            "text/plain": [
              "Index(['grade', 'sub_grade', 'home_ownership', 'verification_status',\n",
              "       'loan_status', 'purpose', 'issue_d', 'Issue_Month'],\n",
              "      dtype='object')"
            ]
          },
          "metadata": {},
          "execution_count": 28
        }
      ]
    },
    {
      "cell_type": "code",
      "source": [
        "df4.select_dtypes(include='object').head()"
      ],
      "metadata": {
        "colab": {
          "base_uri": "https://localhost:8080/",
          "height": 206
        },
        "id": "EdbYJT_662zY",
        "outputId": "1b19a0c9-b9b4-4cb0-ac16-095d3383e81b"
      },
      "execution_count": 29,
      "outputs": [
        {
          "output_type": "execute_result",
          "data": {
            "text/plain": [
              "  grade sub_grade home_ownership verification_status  loan_status  \\\n",
              "1     C        C4           RENT     Source Verified  Charged Off   \n",
              "3     C        C1           RENT     Source Verified   Fully Paid   \n",
              "6     C        C5           RENT        Not Verified   Fully Paid   \n",
              "7     E        E1           RENT     Source Verified   Fully Paid   \n",
              "9     B        B5           RENT            Verified  Charged Off   \n",
              "\n",
              "              purpose issue_d Issue_Month  \n",
              "1                 car  Dec-11         Dec  \n",
              "3               other  Dec-11         Dec  \n",
              "6  debt_consolidation  Dec-11         Dec  \n",
              "7                 car  Dec-11         Dec  \n",
              "9               other  Dec-11         Dec  "
            ],
            "text/html": [
              "\n",
              "  <div id=\"df-11dace0e-7977-4830-87d0-e8dc0f3786ac\">\n",
              "    <div class=\"colab-df-container\">\n",
              "      <div>\n",
              "<style scoped>\n",
              "    .dataframe tbody tr th:only-of-type {\n",
              "        vertical-align: middle;\n",
              "    }\n",
              "\n",
              "    .dataframe tbody tr th {\n",
              "        vertical-align: top;\n",
              "    }\n",
              "\n",
              "    .dataframe thead th {\n",
              "        text-align: right;\n",
              "    }\n",
              "</style>\n",
              "<table border=\"1\" class=\"dataframe\">\n",
              "  <thead>\n",
              "    <tr style=\"text-align: right;\">\n",
              "      <th></th>\n",
              "      <th>grade</th>\n",
              "      <th>sub_grade</th>\n",
              "      <th>home_ownership</th>\n",
              "      <th>verification_status</th>\n",
              "      <th>loan_status</th>\n",
              "      <th>purpose</th>\n",
              "      <th>issue_d</th>\n",
              "      <th>Issue_Month</th>\n",
              "    </tr>\n",
              "  </thead>\n",
              "  <tbody>\n",
              "    <tr>\n",
              "      <th>1</th>\n",
              "      <td>C</td>\n",
              "      <td>C4</td>\n",
              "      <td>RENT</td>\n",
              "      <td>Source Verified</td>\n",
              "      <td>Charged Off</td>\n",
              "      <td>car</td>\n",
              "      <td>Dec-11</td>\n",
              "      <td>Dec</td>\n",
              "    </tr>\n",
              "    <tr>\n",
              "      <th>3</th>\n",
              "      <td>C</td>\n",
              "      <td>C1</td>\n",
              "      <td>RENT</td>\n",
              "      <td>Source Verified</td>\n",
              "      <td>Fully Paid</td>\n",
              "      <td>other</td>\n",
              "      <td>Dec-11</td>\n",
              "      <td>Dec</td>\n",
              "    </tr>\n",
              "    <tr>\n",
              "      <th>6</th>\n",
              "      <td>C</td>\n",
              "      <td>C5</td>\n",
              "      <td>RENT</td>\n",
              "      <td>Not Verified</td>\n",
              "      <td>Fully Paid</td>\n",
              "      <td>debt_consolidation</td>\n",
              "      <td>Dec-11</td>\n",
              "      <td>Dec</td>\n",
              "    </tr>\n",
              "    <tr>\n",
              "      <th>7</th>\n",
              "      <td>E</td>\n",
              "      <td>E1</td>\n",
              "      <td>RENT</td>\n",
              "      <td>Source Verified</td>\n",
              "      <td>Fully Paid</td>\n",
              "      <td>car</td>\n",
              "      <td>Dec-11</td>\n",
              "      <td>Dec</td>\n",
              "    </tr>\n",
              "    <tr>\n",
              "      <th>9</th>\n",
              "      <td>B</td>\n",
              "      <td>B5</td>\n",
              "      <td>RENT</td>\n",
              "      <td>Verified</td>\n",
              "      <td>Charged Off</td>\n",
              "      <td>other</td>\n",
              "      <td>Dec-11</td>\n",
              "      <td>Dec</td>\n",
              "    </tr>\n",
              "  </tbody>\n",
              "</table>\n",
              "</div>\n",
              "      <button class=\"colab-df-convert\" onclick=\"convertToInteractive('df-11dace0e-7977-4830-87d0-e8dc0f3786ac')\"\n",
              "              title=\"Convert this dataframe to an interactive table.\"\n",
              "              style=\"display:none;\">\n",
              "        \n",
              "  <svg xmlns=\"http://www.w3.org/2000/svg\" height=\"24px\"viewBox=\"0 0 24 24\"\n",
              "       width=\"24px\">\n",
              "    <path d=\"M0 0h24v24H0V0z\" fill=\"none\"/>\n",
              "    <path d=\"M18.56 5.44l.94 2.06.94-2.06 2.06-.94-2.06-.94-.94-2.06-.94 2.06-2.06.94zm-11 1L8.5 8.5l.94-2.06 2.06-.94-2.06-.94L8.5 2.5l-.94 2.06-2.06.94zm10 10l.94 2.06.94-2.06 2.06-.94-2.06-.94-.94-2.06-.94 2.06-2.06.94z\"/><path d=\"M17.41 7.96l-1.37-1.37c-.4-.4-.92-.59-1.43-.59-.52 0-1.04.2-1.43.59L10.3 9.45l-7.72 7.72c-.78.78-.78 2.05 0 2.83L4 21.41c.39.39.9.59 1.41.59.51 0 1.02-.2 1.41-.59l7.78-7.78 2.81-2.81c.8-.78.8-2.07 0-2.86zM5.41 20L4 18.59l7.72-7.72 1.47 1.35L5.41 20z\"/>\n",
              "  </svg>\n",
              "      </button>\n",
              "      \n",
              "  <style>\n",
              "    .colab-df-container {\n",
              "      display:flex;\n",
              "      flex-wrap:wrap;\n",
              "      gap: 12px;\n",
              "    }\n",
              "\n",
              "    .colab-df-convert {\n",
              "      background-color: #E8F0FE;\n",
              "      border: none;\n",
              "      border-radius: 50%;\n",
              "      cursor: pointer;\n",
              "      display: none;\n",
              "      fill: #1967D2;\n",
              "      height: 32px;\n",
              "      padding: 0 0 0 0;\n",
              "      width: 32px;\n",
              "    }\n",
              "\n",
              "    .colab-df-convert:hover {\n",
              "      background-color: #E2EBFA;\n",
              "      box-shadow: 0px 1px 2px rgba(60, 64, 67, 0.3), 0px 1px 3px 1px rgba(60, 64, 67, 0.15);\n",
              "      fill: #174EA6;\n",
              "    }\n",
              "\n",
              "    [theme=dark] .colab-df-convert {\n",
              "      background-color: #3B4455;\n",
              "      fill: #D2E3FC;\n",
              "    }\n",
              "\n",
              "    [theme=dark] .colab-df-convert:hover {\n",
              "      background-color: #434B5C;\n",
              "      box-shadow: 0px 1px 3px 1px rgba(0, 0, 0, 0.15);\n",
              "      filter: drop-shadow(0px 1px 2px rgba(0, 0, 0, 0.3));\n",
              "      fill: #FFFFFF;\n",
              "    }\n",
              "  </style>\n",
              "\n",
              "      <script>\n",
              "        const buttonEl =\n",
              "          document.querySelector('#df-11dace0e-7977-4830-87d0-e8dc0f3786ac button.colab-df-convert');\n",
              "        buttonEl.style.display =\n",
              "          google.colab.kernel.accessAllowed ? 'block' : 'none';\n",
              "\n",
              "        async function convertToInteractive(key) {\n",
              "          const element = document.querySelector('#df-11dace0e-7977-4830-87d0-e8dc0f3786ac');\n",
              "          const dataTable =\n",
              "            await google.colab.kernel.invokeFunction('convertToInteractive',\n",
              "                                                     [key], {});\n",
              "          if (!dataTable) return;\n",
              "\n",
              "          const docLinkHtml = 'Like what you see? Visit the ' +\n",
              "            '<a target=\"_blank\" href=https://colab.research.google.com/notebooks/data_table.ipynb>data table notebook</a>'\n",
              "            + ' to learn more about interactive tables.';\n",
              "          element.innerHTML = '';\n",
              "          dataTable['output_type'] = 'display_data';\n",
              "          await google.colab.output.renderOutput(dataTable, element);\n",
              "          const docLink = document.createElement('div');\n",
              "          docLink.innerHTML = docLinkHtml;\n",
              "          element.appendChild(docLink);\n",
              "        }\n",
              "      </script>\n",
              "    </div>\n",
              "  </div>\n",
              "  "
            ]
          },
          "metadata": {},
          "execution_count": 29
        }
      ]
    },
    {
      "cell_type": "code",
      "source": [
        "df4.loan_status.value_counts(normalize=True)"
      ],
      "metadata": {
        "colab": {
          "base_uri": "https://localhost:8080/"
        },
        "id": "YEjr9HlSi9HU",
        "outputId": "81fcf67e-6883-48a1-9a89-4005d6e0af78"
      },
      "execution_count": 30,
      "outputs": [
        {
          "output_type": "execute_result",
          "data": {
            "text/plain": [
              "Fully Paid     0.859738\n",
              "Charged Off    0.140262\n",
              "Name: loan_status, dtype: float64"
            ]
          },
          "metadata": {},
          "execution_count": 30
        }
      ]
    },
    {
      "cell_type": "code",
      "source": [
        "sns.countplot(x=df4.loan_status)\n",
        "plt.title('Loan Status')\n",
        "plt.ylabel('Count of Loans')\n",
        "plt.xlabel('Loans Status')\n",
        "plt.show()"
      ],
      "metadata": {
        "colab": {
          "base_uri": "https://localhost:8080/",
          "height": 295
        },
        "id": "bnGRHAZ5Xj8Y",
        "outputId": "c462600c-fd10-4bed-b73f-b85c186f4f27"
      },
      "execution_count": 31,
      "outputs": [
        {
          "output_type": "display_data",
          "data": {
            "text/plain": [
              "<Figure size 432x288 with 1 Axes>"
            ],
            "image/png": "[encoded data removed]"
          },
          "metadata": {
            "needs_background": "light"
          }
        }
      ]
    },
    {
      "cell_type": "code",
      "source": [
        "df4.grade.value_counts()"
      ],
      "metadata": {
        "colab": {
          "base_uri": "https://localhost:8080/"
        },
        "id": "y84ug0pm_iOI",
        "outputId": "264f7a88-cd3e-4a25-de4e-8520d23b8d0d"
      },
      "execution_count": 32,
      "outputs": [
        {
          "output_type": "execute_result",
          "data": {
            "text/plain": [
              "B    7183\n",
              "A    6046\n",
              "C    4882\n",
              "D    3142\n",
              "E    1682\n",
              "F     611\n",
              "G     181\n",
              "Name: grade, dtype: int64"
            ]
          },
          "metadata": {},
          "execution_count": 32
        }
      ]
    },
    {
      "cell_type": "markdown",
      "source": [
        "### Grade Distribution"
      ],
      "metadata": {
        "id": "WxERgWM_oBml"
      }
    },
    {
      "cell_type": "code",
      "source": [
        "sns.histplot(x=df4.grade, hue=df4.loan_status)\n",
        "plt.title('Grade Distribution')\n",
        "plt.ylabel('Count of Loans')\n",
        "plt.xlabel('Grade')\n",
        "plt.show()"
      ],
      "metadata": {
        "colab": {
          "base_uri": "https://localhost:8080/",
          "height": 295
        },
        "id": "YxomoG0P80gv",
        "outputId": "1c6eaff0-e24d-4f43-bb3e-a1a1273d6484"
      },
      "execution_count": 33,
      "outputs": [
        {
          "output_type": "display_data",
          "data": {
            "text/plain": [
              "<Figure size 432x288 with 1 Axes>"
            ],
            "image/png": "[encoded data removed]"
          },
          "metadata": {
            "needs_background": "light"
          }
        }
      ]
    },
    {
      "cell_type": "markdown",
      "source": [
        "The loan default rate seems to be on the higher side for grade C,B and D"
      ],
      "metadata": {
        "id": "SjGzLqYCnxVA"
      }
    },
    {
      "cell_type": "markdown",
      "source": [
        "### Sub Grade distribution"
      ],
      "metadata": {
        "id": "hHeEzkwgoE6z"
      }
    },
    {
      "cell_type": "code",
      "source": [
        "sns.histplot(x=df4.sub_grade, hue=df4.loan_status)\n",
        "plt.xticks(rotation=90)\n",
        "plt.show()"
      ],
      "metadata": {
        "colab": {
          "base_uri": "https://localhost:8080/",
          "height": 0
        },
        "id": "0QdibwiPln44",
        "outputId": "c7de39a4-7954-442a-9bc4-51f4e6f6dc1b"
      },
      "execution_count": 34,
      "outputs": [
        {
          "output_type": "display_data",
          "data": {
            "text/plain": [
              "<Figure size 432x288 with 1 Axes>"
            ],
            "image/png": "[encoded data removed]"
          },
          "metadata": {
            "needs_background": "light"
          }
        }
      ]
    },
    {
      "cell_type": "markdown",
      "source": [
        "### Homeownership Distribution"
      ],
      "metadata": {
        "id": "wigBlxH2oo05"
      }
    },
    {
      "cell_type": "code",
      "source": [
        "from matplotlib.pyplot import figure\n",
        "\n",
        "figure(figsize=(8, 4), dpi=80)\n",
        "sns.histplot(x=df4.home_ownership, hue=df4.loan_status, multiple=\"stack\")\n",
        "plt.title('Home Ownership')\n",
        "plt.ylabel('Count of Loans')\n",
        "plt.xlabel('Ownership')\n",
        "plt.show()\n"
      ],
      "metadata": {
        "id": "s67-oHIRKWyC",
        "outputId": "f34edcff-4f1a-4893-abcd-fad4beda8498",
        "colab": {
          "base_uri": "https://localhost:8080/",
          "height": 0
        }
      },
      "execution_count": 35,
      "outputs": [
        {
          "output_type": "display_data",
          "data": {
            "text/plain": [
              "<Figure size 640x320 with 1 Axes>"
            ],
            "image/png": "[encoded data removed]"
          },
          "metadata": {
            "needs_background": "light"
          }
        }
      ]
    },
    {
      "cell_type": "markdown",
      "source": [
        "People staying in rented and mortgage accomodation defaluted more than people staying in their own accomodation"
      ],
      "metadata": {
        "id": "l2uIx2fIlN_y"
      }
    },
    {
      "cell_type": "markdown",
      "source": [
        "### Purpose"
      ],
      "metadata": {
        "id": "1KO8PtG2o2ot"
      }
    },
    {
      "cell_type": "code",
      "source": [
        "sns.histplot(x=df4.purpose, hue=df4.loan_status, multiple=\"stack\")\n",
        "plt.xticks(rotation=90)\n",
        "plt.title('Purpose')\n",
        "plt.ylabel('Count of Loans')\n",
        "plt.xlabel('Purpose')\n",
        "plt.show()"
      ],
      "metadata": {
        "id": "d_BtZVfYKsiW",
        "outputId": "493568ef-9a2e-4032-9c87-7bd19720b3f0",
        "colab": {
          "base_uri": "https://localhost:8080/",
          "height": 385
        }
      },
      "execution_count": 36,
      "outputs": [
        {
          "output_type": "display_data",
          "data": {
            "text/plain": [
              "<Figure size 432x288 with 1 Axes>"
            ],
            "image/png": "[encoded data removed]"
          },
          "metadata": {
            "needs_background": "light"
          }
        }
      ]
    },
    {
      "cell_type": "markdown",
      "source": [
        "Applicants have defaulted more that are taking loans for the purpose of **Debt Consolidation**"
      ],
      "metadata": {
        "id": "1wksg5juld5e"
      }
    },
    {
      "cell_type": "markdown",
      "source": [
        "### Verification Status"
      ],
      "metadata": {
        "id": "LHrWDoeBqlou"
      }
    },
    {
      "cell_type": "code",
      "source": [
        "## Cosidering Verified and source verified would mean the same\n",
        "df4.loc[df['verification_status'] == 'Source Verified', 'verification_status'] = 'Verified'"
      ],
      "metadata": {
        "id": "tdtmyEM7mVKp"
      },
      "execution_count": 37,
      "outputs": []
    },
    {
      "cell_type": "code",
      "source": [
        "sns.histplot(x=df4.verification_status, hue=df4.loan_status, multiple=\"stack\")\n",
        "plt.xticks(rotation=90)\n",
        "plt.show()"
      ],
      "metadata": {
        "colab": {
          "base_uri": "https://localhost:8080/",
          "height": 333
        },
        "id": "mgrfJH_Kl3Ab",
        "outputId": "d0b25b6b-b6f1-4fc3-fc55-a8172bd5c182"
      },
      "execution_count": 38,
      "outputs": [
        {
          "output_type": "display_data",
          "data": {
            "text/plain": [
              "<Figure size 432x288 with 1 Axes>"
            ],
            "image/png": "[encoded data removed]"
          },
          "metadata": {
            "needs_background": "light"
          }
        }
      ]
    },
    {
      "cell_type": "markdown",
      "source": [
        "May be the verification process is falued as in ideal scenario dafault rate should be lower for the verified sources"
      ],
      "metadata": {
        "id": "ejYBpFCGqjj9"
      }
    },
    {
      "cell_type": "markdown",
      "source": [
        "### Employment length"
      ],
      "metadata": {
        "id": "JXHuoh6erfr1"
      }
    },
    {
      "cell_type": "code",
      "source": [
        "sns.histplot(x=df4.emp_length, hue=df4.loan_status, multiple=\"stack\")\n",
        "plt.title('Employment Length')\n",
        "plt.ylabel('Count of Loans')\n",
        "plt.xlabel('Employment Years')\n",
        "plt.show()"
      ],
      "metadata": {
        "id": "j-D2Ms7zGhPZ",
        "colab": {
          "base_uri": "https://localhost:8080/",
          "height": 295
        },
        "outputId": "cdc0d25e-7c6f-4efd-cfda-fb43391718b1"
      },
      "execution_count": 39,
      "outputs": [
        {
          "output_type": "display_data",
          "data": {
            "text/plain": [
              "<Figure size 432x288 with 1 Axes>"
            ],
            "image/png": "[encoded data removed]"
          },
          "metadata": {
            "needs_background": "light"
          }
        }
      ]
    },
    {
      "cell_type": "markdown",
      "source": [
        "Applicants with employment years 1 and 10 seems to have defaulted more that other applicants."
      ],
      "metadata": {
        "id": "9eB_F5Q-rqN5"
      }
    },
    {
      "cell_type": "markdown",
      "source": [
        "## 3.2 Univariate Analysis - Quantitative variables"
      ],
      "metadata": {
        "id": "sp_PNjw87AWM"
      }
    },
    {
      "cell_type": "code",
      "source": [
        " df4.select_dtypes(include='number').head()"
      ],
      "metadata": {
        "colab": {
          "base_uri": "https://localhost:8080/",
          "height": 206
        },
        "id": "ERMw-AYG62m8",
        "outputId": "4e1fa121-5117-4daf-f641-6869f6af0b26"
      },
      "execution_count": 40,
      "outputs": [
        {
          "output_type": "execute_result",
          "data": {
            "text/plain": [
              "   loan_amnt  funded_amnt  funded_amnt_inv  term  int_rate  installment  \\\n",
              "1       2500         2500           2500.0    60     15.27        59.83   \n",
              "3      10000        10000          10000.0    36     13.49       339.31   \n",
              "6       7000         7000           7000.0    60     15.96       170.08   \n",
              "7       3000         3000           3000.0    36     18.64       109.43   \n",
              "9       5375         5375           5350.0    60     12.69       121.45   \n",
              "\n",
              "   emp_length  annual_inc  Issue_Year  \n",
              "1           1     30000.0          11  \n",
              "3          10     49200.0          11  \n",
              "6           8     47004.0          11  \n",
              "7           9     48000.0          11  \n",
              "9           1     15000.0          11  "
            ],
            "text/html": [
              "\n",
              "  <div id=\"df-c44d84f4-a2ff-49c1-8048-9153ab89ba8f\">\n",
              "    <div class=\"colab-df-container\">\n",
              "      <div>\n",
              "<style scoped>\n",
              "    .dataframe tbody tr th:only-of-type {\n",
              "        vertical-align: middle;\n",
              "    }\n",
              "\n",
              "    .dataframe tbody tr th {\n",
              "        vertical-align: top;\n",
              "    }\n",
              "\n",
              "    .dataframe thead th {\n",
              "        text-align: right;\n",
              "    }\n",
              "</style>\n",
              "<table border=\"1\" class=\"dataframe\">\n",
              "  <thead>\n",
              "    <tr style=\"text-align: right;\">\n",
              "      <th></th>\n",
              "      <th>loan_amnt</th>\n",
              "      <th>funded_amnt</th>\n",
              "      <th>funded_amnt_inv</th>\n",
              "      <th>term</th>\n",
              "      <th>int_rate</th>\n",
              "      <th>installment</th>\n",
              "      <th>emp_length</th>\n",
              "      <th>annual_inc</th>\n",
              "      <th>Issue_Year</th>\n",
              "    </tr>\n",
              "  </thead>\n",
              "  <tbody>\n",
              "    <tr>\n",
              "      <th>1</th>\n",
              "      <td>2500</td>\n",
              "      <td>2500</td>\n",
              "      <td>2500.0</td>\n",
              "      <td>60</td>\n",
              "      <td>15.27</td>\n",
              "      <td>59.83</td>\n",
              "      <td>1</td>\n",
              "      <td>30000.0</td>\n",
              "      <td>11</td>\n",
              "    </tr>\n",
              "    <tr>\n",
              "      <th>3</th>\n",
              "      <td>10000</td>\n",
              "      <td>10000</td>\n",
              "      <td>10000.0</td>\n",
              "      <td>36</td>\n",
              "      <td>13.49</td>\n",
              "      <td>339.31</td>\n",
              "      <td>10</td>\n",
              "      <td>49200.0</td>\n",
              "      <td>11</td>\n",
              "    </tr>\n",
              "    <tr>\n",
              "      <th>6</th>\n",
              "      <td>7000</td>\n",
              "      <td>7000</td>\n",
              "      <td>7000.0</td>\n",
              "      <td>60</td>\n",
              "      <td>15.96</td>\n",
              "      <td>170.08</td>\n",
              "      <td>8</td>\n",
              "      <td>47004.0</td>\n",
              "      <td>11</td>\n",
              "    </tr>\n",
              "    <tr>\n",
              "      <th>7</th>\n",
              "      <td>3000</td>\n",
              "      <td>3000</td>\n",
              "      <td>3000.0</td>\n",
              "      <td>36</td>\n",
              "      <td>18.64</td>\n",
              "      <td>109.43</td>\n",
              "      <td>9</td>\n",
              "      <td>48000.0</td>\n",
              "      <td>11</td>\n",
              "    </tr>\n",
              "    <tr>\n",
              "      <th>9</th>\n",
              "      <td>5375</td>\n",
              "      <td>5375</td>\n",
              "      <td>5350.0</td>\n",
              "      <td>60</td>\n",
              "      <td>12.69</td>\n",
              "      <td>121.45</td>\n",
              "      <td>1</td>\n",
              "      <td>15000.0</td>\n",
              "      <td>11</td>\n",
              "    </tr>\n",
              "  </tbody>\n",
              "</table>\n",
              "</div>\n",
              "      <button class=\"colab-df-convert\" onclick=\"convertToInteractive('df-c44d84f4-a2ff-49c1-8048-9153ab89ba8f')\"\n",
              "              title=\"Convert this dataframe to an interactive table.\"\n",
              "              style=\"display:none;\">\n",
              "        \n",
              "  <svg xmlns=\"http://www.w3.org/2000/svg\" height=\"24px\"viewBox=\"0 0 24 24\"\n",
              "       width=\"24px\">\n",
              "    <path d=\"M0 0h24v24H0V0z\" fill=\"none\"/>\n",
              "    <path d=\"M18.56 5.44l.94 2.06.94-2.06 2.06-.94-2.06-.94-.94-2.06-.94 2.06-2.06.94zm-11 1L8.5 8.5l.94-2.06 2.06-.94-2.06-.94L8.5 2.5l-.94 2.06-2.06.94zm10 10l.94 2.06.94-2.06 2.06-.94-2.06-.94-.94-2.06-.94 2.06-2.06.94z\"/><path d=\"M17.41 7.96l-1.37-1.37c-.4-.4-.92-.59-1.43-.59-.52 0-1.04.2-1.43.59L10.3 9.45l-7.72 7.72c-.78.78-.78 2.05 0 2.83L4 21.41c.39.39.9.59 1.41.59.51 0 1.02-.2 1.41-.59l7.78-7.78 2.81-2.81c.8-.78.8-2.07 0-2.86zM5.41 20L4 18.59l7.72-7.72 1.47 1.35L5.41 20z\"/>\n",
              "  </svg>\n",
              "      </button>\n",
              "      \n",
              "  <style>\n",
              "    .colab-df-container {\n",
              "      display:flex;\n",
              "      flex-wrap:wrap;\n",
              "      gap: 12px;\n",
              "    }\n",
              "\n",
              "    .colab-df-convert {\n",
              "      background-color: #E8F0FE;\n",
              "      border: none;\n",
              "      border-radius: 50%;\n",
              "      cursor: pointer;\n",
              "      display: none;\n",
              "      fill: #1967D2;\n",
              "      height: 32px;\n",
              "      padding: 0 0 0 0;\n",
              "      width: 32px;\n",
              "    }\n",
              "\n",
              "    .colab-df-convert:hover {\n",
              "      background-color: #E2EBFA;\n",
              "      box-shadow: 0px 1px 2px rgba(60, 64, 67, 0.3), 0px 1px 3px 1px rgba(60, 64, 67, 0.15);\n",
              "      fill: #174EA6;\n",
              "    }\n",
              "\n",
              "    [theme=dark] .colab-df-convert {\n",
              "      background-color: #3B4455;\n",
              "      fill: #D2E3FC;\n",
              "    }\n",
              "\n",
              "    [theme=dark] .colab-df-convert:hover {\n",
              "      background-color: #434B5C;\n",
              "      box-shadow: 0px 1px 3px 1px rgba(0, 0, 0, 0.15);\n",
              "      filter: drop-shadow(0px 1px 2px rgba(0, 0, 0, 0.3));\n",
              "      fill: #FFFFFF;\n",
              "    }\n",
              "  </style>\n",
              "\n",
              "      <script>\n",
              "        const buttonEl =\n",
              "          document.querySelector('#df-c44d84f4-a2ff-49c1-8048-9153ab89ba8f button.colab-df-convert');\n",
              "        buttonEl.style.display =\n",
              "          google.colab.kernel.accessAllowed ? 'block' : 'none';\n",
              "\n",
              "        async function convertToInteractive(key) {\n",
              "          const element = document.querySelector('#df-c44d84f4-a2ff-49c1-8048-9153ab89ba8f');\n",
              "          const dataTable =\n",
              "            await google.colab.kernel.invokeFunction('convertToInteractive',\n",
              "                                                     [key], {});\n",
              "          if (!dataTable) return;\n",
              "\n",
              "          const docLinkHtml = 'Like what you see? Visit the ' +\n",
              "            '<a target=\"_blank\" href=https://colab.research.google.com/notebooks/data_table.ipynb>data table notebook</a>'\n",
              "            + ' to learn more about interactive tables.';\n",
              "          element.innerHTML = '';\n",
              "          dataTable['output_type'] = 'display_data';\n",
              "          await google.colab.output.renderOutput(dataTable, element);\n",
              "          const docLink = document.createElement('div');\n",
              "          docLink.innerHTML = docLinkHtml;\n",
              "          element.appendChild(docLink);\n",
              "        }\n",
              "      </script>\n",
              "    </div>\n",
              "  </div>\n",
              "  "
            ]
          },
          "metadata": {},
          "execution_count": 40
        }
      ]
    },
    {
      "cell_type": "code",
      "source": [
        "df4.loan_amnt.describe()"
      ],
      "metadata": {
        "colab": {
          "base_uri": "https://localhost:8080/"
        },
        "id": "pQzpnc4W8Fr_",
        "outputId": "4db4af2b-9161-46d8-8713-823075baa8aa"
      },
      "execution_count": 41,
      "outputs": [
        {
          "output_type": "execute_result",
          "data": {
            "text/plain": [
              "count    23727.000000\n",
              "mean     11459.971762\n",
              "std       7243.030746\n",
              "min        500.000000\n",
              "25%       6000.000000\n",
              "50%      10000.000000\n",
              "75%      15000.000000\n",
              "max      35000.000000\n",
              "Name: loan_amnt, dtype: float64"
            ]
          },
          "metadata": {},
          "execution_count": 41
        }
      ]
    },
    {
      "cell_type": "code",
      "source": [
        "# Checking incase funded amount is greater that loan amount. Such records can be removed.\n",
        "df4[df4.funded_amnt_inv>df4.loan_amnt]"
      ],
      "metadata": {
        "colab": {
          "base_uri": "https://localhost:8080/",
          "height": 113
        },
        "id": "F3ZHLTmr5NnF",
        "outputId": "76739ded-19f9-4e52-822c-4d4d2ec965e8"
      },
      "execution_count": 42,
      "outputs": [
        {
          "output_type": "execute_result",
          "data": {
            "text/plain": [
              "Empty DataFrame\n",
              "Columns: [loan_amnt, funded_amnt, funded_amnt_inv, term, int_rate, installment, grade, emp_length, sub_grade, home_ownership, annual_inc, verification_status, loan_status, purpose, issue_d, Issue_Month, Issue_Year]\n",
              "Index: []"
            ],
            "text/html": [
              "\n",
              "  <div id=\"df-065b7810-aa18-40bb-a881-2e9257c7061f\">\n",
              "    <div class=\"colab-df-container\">\n",
              "      <div>\n",
              "<style scoped>\n",
              "    .dataframe tbody tr th:only-of-type {\n",
              "        vertical-align: middle;\n",
              "    }\n",
              "\n",
              "    .dataframe tbody tr th {\n",
              "        vertical-align: top;\n",
              "    }\n",
              "\n",
              "    .dataframe thead th {\n",
              "        text-align: right;\n",
              "    }\n",
              "</style>\n",
              "<table border=\"1\" class=\"dataframe\">\n",
              "  <thead>\n",
              "    <tr style=\"text-align: right;\">\n",
              "      <th></th>\n",
              "      <th>loan_amnt</th>\n",
              "      <th>funded_amnt</th>\n",
              "      <th>funded_amnt_inv</th>\n",
              "      <th>term</th>\n",
              "      <th>int_rate</th>\n",
              "      <th>installment</th>\n",
              "      <th>grade</th>\n",
              "      <th>emp_length</th>\n",
              "      <th>sub_grade</th>\n",
              "      <th>home_ownership</th>\n",
              "      <th>annual_inc</th>\n",
              "      <th>verification_status</th>\n",
              "      <th>loan_status</th>\n",
              "      <th>purpose</th>\n",
              "      <th>issue_d</th>\n",
              "      <th>Issue_Month</th>\n",
              "      <th>Issue_Year</th>\n",
              "    </tr>\n",
              "  </thead>\n",
              "  <tbody>\n",
              "  </tbody>\n",
              "</table>\n",
              "</div>\n",
              "      <button class=\"colab-df-convert\" onclick=\"convertToInteractive('df-065b7810-aa18-40bb-a881-2e9257c7061f')\"\n",
              "              title=\"Convert this dataframe to an interactive table.\"\n",
              "              style=\"display:none;\">\n",
              "        \n",
              "  <svg xmlns=\"http://www.w3.org/2000/svg\" height=\"24px\"viewBox=\"0 0 24 24\"\n",
              "       width=\"24px\">\n",
              "    <path d=\"M0 0h24v24H0V0z\" fill=\"none\"/>\n",
              "    <path d=\"M18.56 5.44l.94 2.06.94-2.06 2.06-.94-2.06-.94-.94-2.06-.94 2.06-2.06.94zm-11 1L8.5 8.5l.94-2.06 2.06-.94-2.06-.94L8.5 2.5l-.94 2.06-2.06.94zm10 10l.94 2.06.94-2.06 2.06-.94-2.06-.94-.94-2.06-.94 2.06-2.06.94z\"/><path d=\"M17.41 7.96l-1.37-1.37c-.4-.4-.92-.59-1.43-.59-.52 0-1.04.2-1.43.59L10.3 9.45l-7.72 7.72c-.78.78-.78 2.05 0 2.83L4 21.41c.39.39.9.59 1.41.59.51 0 1.02-.2 1.41-.59l7.78-7.78 2.81-2.81c.8-.78.8-2.07 0-2.86zM5.41 20L4 18.59l7.72-7.72 1.47 1.35L5.41 20z\"/>\n",
              "  </svg>\n",
              "      </button>\n",
              "      \n",
              "  <style>\n",
              "    .colab-df-container {\n",
              "      display:flex;\n",
              "      flex-wrap:wrap;\n",
              "      gap: 12px;\n",
              "    }\n",
              "\n",
              "    .colab-df-convert {\n",
              "      background-color: #E8F0FE;\n",
              "      border: none;\n",
              "      border-radius: 50%;\n",
              "      cursor: pointer;\n",
              "      display: none;\n",
              "      fill: #1967D2;\n",
              "      height: 32px;\n",
              "      padding: 0 0 0 0;\n",
              "      width: 32px;\n",
              "    }\n",
              "\n",
              "    .colab-df-convert:hover {\n",
              "      background-color: #E2EBFA;\n",
              "      box-shadow: 0px 1px 2px rgba(60, 64, 67, 0.3), 0px 1px 3px 1px rgba(60, 64, 67, 0.15);\n",
              "      fill: #174EA6;\n",
              "    }\n",
              "\n",
              "    [theme=dark] .colab-df-convert {\n",
              "      background-color: #3B4455;\n",
              "      fill: #D2E3FC;\n",
              "    }\n",
              "\n",
              "    [theme=dark] .colab-df-convert:hover {\n",
              "      background-color: #434B5C;\n",
              "      box-shadow: 0px 1px 3px 1px rgba(0, 0, 0, 0.15);\n",
              "      filter: drop-shadow(0px 1px 2px rgba(0, 0, 0, 0.3));\n",
              "      fill: #FFFFFF;\n",
              "    }\n",
              "  </style>\n",
              "\n",
              "      <script>\n",
              "        const buttonEl =\n",
              "          document.querySelector('#df-065b7810-aa18-40bb-a881-2e9257c7061f button.colab-df-convert');\n",
              "        buttonEl.style.display =\n",
              "          google.colab.kernel.accessAllowed ? 'block' : 'none';\n",
              "\n",
              "        async function convertToInteractive(key) {\n",
              "          const element = document.querySelector('#df-065b7810-aa18-40bb-a881-2e9257c7061f');\n",
              "          const dataTable =\n",
              "            await google.colab.kernel.invokeFunction('convertToInteractive',\n",
              "                                                     [key], {});\n",
              "          if (!dataTable) return;\n",
              "\n",
              "          const docLinkHtml = 'Like what you see? Visit the ' +\n",
              "            '<a target=\"_blank\" href=https://colab.research.google.com/notebooks/data_table.ipynb>data table notebook</a>'\n",
              "            + ' to learn more about interactive tables.';\n",
              "          element.innerHTML = '';\n",
              "          dataTable['output_type'] = 'display_data';\n",
              "          await google.colab.output.renderOutput(dataTable, element);\n",
              "          const docLink = document.createElement('div');\n",
              "          docLink.innerHTML = docLinkHtml;\n",
              "          element.appendChild(docLink);\n",
              "        }\n",
              "      </script>\n",
              "    </div>\n",
              "  </div>\n",
              "  "
            ]
          },
          "metadata": {},
          "execution_count": 42
        }
      ]
    },
    {
      "cell_type": "markdown",
      "source": [
        "### Loan Amount Distribution"
      ],
      "metadata": {
        "id": "huToVra2698-"
      }
    },
    {
      "cell_type": "code",
      "source": [
        "sns.kdeplot(data=df4, x=\"loan_amnt\", hue='loan_status', multiple=\"stack\")\n",
        "plt.title('Loan Amount')\n",
        "plt.ylabel('Loan density')\n",
        "plt.xlabel('Loan Amount')\n",
        "plt.show()"
      ],
      "metadata": {
        "colab": {
          "base_uri": "https://localhost:8080/",
          "height": 295
        },
        "id": "79saL-HG62kR",
        "outputId": "51bf438f-1de5-4bd1-9f78-d5a48ee817f0"
      },
      "execution_count": 68,
      "outputs": [
        {
          "output_type": "display_data",
          "data": {
            "text/plain": [
              "<Figure size 432x288 with 1 Axes>"
            ],
            "image/png": "[encoded data removed]"
          },
          "metadata": {
            "needs_background": "light"
          }
        }
      ]
    },
    {
      "cell_type": "markdown",
      "source": [
        "Maximum loan disburtion is at the range of 5000 to 10,000."
      ],
      "metadata": {
        "id": "jAU0YA1O3u11"
      }
    },
    {
      "cell_type": "code",
      "source": [
        "df_good = df4.loc[df4[\"loan_status\"] == 'Charged Off']['loan_amnt'].values.tolist()"
      ],
      "metadata": {
        "id": "qmZfIJT3CTqi"
      },
      "execution_count": 64,
      "outputs": []
    },
    {
      "cell_type": "code",
      "source": [
        "sns.kdeplot(x=df_good, color=\"red\", shade=True)\n",
        "plt.title('Loan Amount')\n",
        "plt.ylabel('Loan density')\n",
        "plt.xlabel('Charged Off Amount')\n",
        "plt.show()"
      ],
      "metadata": {
        "id": "C1deystUBxG5",
        "outputId": "badc1b26-9c38-4275-b93a-adcfffa01259",
        "colab": {
          "base_uri": "https://localhost:8080/",
          "height": 295
        }
      },
      "execution_count": 76,
      "outputs": [
        {
          "output_type": "display_data",
          "data": {
            "text/plain": [
              "<Figure size 432x288 with 1 Axes>"
            ],
            "image/png": "[encoded data removed]"
          },
          "metadata": {
            "needs_background": "light"
          }
        }
      ]
    },
    {
      "cell_type": "code",
      "source": [
        "df4.Issue_Year.value_counts().index"
      ],
      "metadata": {
        "colab": {
          "base_uri": "https://localhost:8080/"
        },
        "id": "sT3gfKBQ6IQ5",
        "outputId": "73a8ba3b-e144-4172-e9fa-9fd7b9a0189a"
      },
      "execution_count": 78,
      "outputs": [
        {
          "output_type": "execute_result",
          "data": {
            "text/plain": [
              "Int64Index([11, 10, 9, 8, 7], dtype='int64')"
            ]
          },
          "metadata": {},
          "execution_count": 78
        }
      ]
    },
    {
      "cell_type": "markdown",
      "source": [
        "### Interest Rates"
      ],
      "metadata": {
        "id": "rpOI1NMT7Soi"
      }
    },
    {
      "cell_type": "code",
      "source": [
        "sns.kdeplot(x=df4.int_rate, hue=df4.loan_status, multiple=\"stack\")\n",
        "plt.title('Interest Rates')\n",
        "plt.ylabel('Loan Density')\n",
        "plt.xlabel('Interest Rates')\n",
        "plt.show()"
      ],
      "metadata": {
        "colab": {
          "base_uri": "https://localhost:8080/",
          "height": 295
        },
        "id": "zK49Ks9OGhXV",
        "outputId": "d20c75a9-1de9-4d88-ceac-dc5a3e2355d7"
      },
      "execution_count": 85,
      "outputs": [
        {
          "output_type": "display_data",
          "data": {
            "text/plain": [
              "<Figure size 432x288 with 1 Axes>"
            ],
            "image/png": "[encoded data removed]"
          },
          "metadata": {
            "needs_background": "light"
          }
        }
      ]
    },
    {
      "cell_type": "markdown",
      "source": [
        "The default rates seems to be higher when the interest rates are over and above 10%"
      ],
      "metadata": {
        "id": "KJ3wVp948Rgn"
      }
    },
    {
      "cell_type": "markdown",
      "source": [
        "### Annual Salary"
      ],
      "metadata": {
        "id": "-MXDpMhZ8sMv"
      }
    },
    {
      "cell_type": "code",
      "source": [
        "sns.boxplot(df4.annual_inc)"
      ],
      "metadata": {
        "colab": {
          "base_uri": "https://localhost:8080/",
          "height": 297
        },
        "id": "haqG4HEx7czW",
        "outputId": "f99e5623-9cd4-4098-8d50-b045ec6605df"
      },
      "execution_count": 52,
      "outputs": [
        {
          "output_type": "execute_result",
          "data": {
            "text/plain": [
              "<matplotlib.axes._subplots.AxesSubplot at 0x7f5e39e7bdd0>"
            ]
          },
          "metadata": {},
          "execution_count": 52
        },
        {
          "output_type": "display_data",
          "data": {
            "text/plain": [
              "<Figure size 432x288 with 1 Axes>"
            ],
            "image/png": "[encoded data removed]"
          },
          "metadata": {
            "needs_background": "light"
          }
        }
      ]
    },
    {
      "cell_type": "code",
      "source": [
        "df4[df4.annual_inc<=150000].annual_inc"
      ],
      "metadata": {
        "colab": {
          "base_uri": "https://localhost:8080/"
        },
        "id": "hmHMhe-zI2ZE",
        "outputId": "06f78727-0464-4ea4-ef8d-87dd499b7663"
      },
      "execution_count": 53,
      "outputs": [
        {
          "output_type": "execute_result",
          "data": {
            "text/plain": [
              "1         30000.00\n",
              "3         49200.00\n",
              "6         47004.00\n",
              "7         48000.00\n",
              "9         15000.00\n",
              "           ...    \n",
              "39433     96000.00\n",
              "39475    100671.39\n",
              "39551     80000.00\n",
              "39562     35000.00\n",
              "39623     39000.00\n",
              "Name: annual_inc, Length: 22868, dtype: float64"
            ]
          },
          "metadata": {},
          "execution_count": 53
        }
      ]
    },
    {
      "cell_type": "code",
      "source": [
        "sns.boxplot(y=df4[df4.annual_inc<=150000].annual_inc)"
      ],
      "metadata": {
        "colab": {
          "base_uri": "https://localhost:8080/",
          "height": 269
        },
        "id": "n9rWxzo2ICBl",
        "outputId": "93654497-0233-4b6e-c996-2c61d8b37ced"
      },
      "execution_count": 54,
      "outputs": [
        {
          "output_type": "execute_result",
          "data": {
            "text/plain": [
              "<matplotlib.axes._subplots.AxesSubplot at 0x7f5e39c14610>"
            ]
          },
          "metadata": {},
          "execution_count": 54
        },
        {
          "output_type": "display_data",
          "data": {
            "text/plain": [
              "<Figure size 432x288 with 1 Axes>"
            ],
            "image/png": "[encoded data removed]"
          },
          "metadata": {
            "needs_background": "light"
          }
        }
      ]
    },
    {
      "cell_type": "code",
      "source": [
        "sns.kdeplot(x=df4[df4.annual_inc<=150000].annual_inc, hue=df4.loan_status, multiple=\"stack\")\n",
        "plt.title('Yearly Income')\n",
        "plt.ylabel('Density')\n",
        "plt.xlabel('Annual Salary')\n",
        "plt.show()"
      ],
      "metadata": {
        "colab": {
          "base_uri": "https://localhost:8080/",
          "height": 295
        },
        "id": "sBBBL2R0JRek",
        "outputId": "a77ade8d-f88e-4b2a-ce6a-989488d8affb"
      },
      "execution_count": 87,
      "outputs": [
        {
          "output_type": "display_data",
          "data": {
            "text/plain": [
              "<Figure size 432x288 with 1 Axes>"
            ],
            "image/png": "[encoded data removed]"
          },
          "metadata": {
            "needs_background": "light"
          }
        }
      ]
    },
    {
      "cell_type": "markdown",
      "source": [
        "Applicants with median salary around 50k seems to have defaulted the most."
      ],
      "metadata": {
        "id": "Em4gFySP8vHo"
      }
    },
    {
      "cell_type": "markdown",
      "source": [
        "## 3.3 Bivariate Analysis\n",
        "\n",
        "The analysis involves considering 2 variable/features at a time. They may be categorical or numberical."
      ],
      "metadata": {
        "id": "vJMn_KcG8aLL"
      }
    },
    {
      "cell_type": "code",
      "source": [
        "df4.head()"
      ],
      "metadata": {
        "id": "hYH-jyhTGhUh",
        "colab": {
          "base_uri": "https://localhost:8080/",
          "height": 270
        },
        "outputId": "0b2e9b84-a898-47db-cab7-32d1d6eb95ca"
      },
      "execution_count": 56,
      "outputs": [
        {
          "output_type": "execute_result",
          "data": {
            "text/plain": [
              "   loan_amnt  funded_amnt  funded_amnt_inv  term  int_rate  installment grade  \\\n",
              "1       2500         2500           2500.0    60     15.27        59.83     C   \n",
              "3      10000        10000          10000.0    36     13.49       339.31     C   \n",
              "6       7000         7000           7000.0    60     15.96       170.08     C   \n",
              "7       3000         3000           3000.0    36     18.64       109.43     E   \n",
              "9       5375         5375           5350.0    60     12.69       121.45     B   \n",
              "\n",
              "   emp_length sub_grade home_ownership  annual_inc verification_status  \\\n",
              "1           1        C4           RENT     30000.0            Verified   \n",
              "3          10        C1           RENT     49200.0            Verified   \n",
              "6           8        C5           RENT     47004.0        Not Verified   \n",
              "7           9        E1           RENT     48000.0            Verified   \n",
              "9           1        B5           RENT     15000.0            Verified   \n",
              "\n",
              "   loan_status             purpose issue_d Issue_Month  Issue_Year  \n",
              "1  Charged Off                 car  Dec-11         Dec          11  \n",
              "3   Fully Paid               other  Dec-11         Dec          11  \n",
              "6   Fully Paid  debt_consolidation  Dec-11         Dec          11  \n",
              "7   Fully Paid                 car  Dec-11         Dec          11  \n",
              "9  Charged Off               other  Dec-11         Dec          11  "
            ],
            "text/html": [
              "\n",
              "  <div id=\"df-5cdabede-047c-4a9b-8ec4-5bc9ed130429\">\n",
              "    <div class=\"colab-df-container\">\n",
              "      <div>\n",
              "<style scoped>\n",
              "    .dataframe tbody tr th:only-of-type {\n",
              "        vertical-align: middle;\n",
              "    }\n",
              "\n",
              "    .dataframe tbody tr th {\n",
              "        vertical-align: top;\n",
              "    }\n",
              "\n",
              "    .dataframe thead th {\n",
              "        text-align: right;\n",
              "    }\n",
              "</style>\n",
              "<table border=\"1\" class=\"dataframe\">\n",
              "  <thead>\n",
              "    <tr style=\"text-align: right;\">\n",
              "      <th></th>\n",
              "      <th>loan_amnt</th>\n",
              "      <th>funded_amnt</th>\n",
              "      <th>funded_amnt_inv</th>\n",
              "      <th>term</th>\n",
              "      <th>int_rate</th>\n",
              "      <th>installment</th>\n",
              "      <th>grade</th>\n",
              "      <th>emp_length</th>\n",
              "      <th>sub_grade</th>\n",
              "      <th>home_ownership</th>\n",
              "      <th>annual_inc</th>\n",
              "      <th>verification_status</th>\n",
              "      <th>loan_status</th>\n",
              "      <th>purpose</th>\n",
              "      <th>issue_d</th>\n",
              "      <th>Issue_Month</th>\n",
              "      <th>Issue_Year</th>\n",
              "    </tr>\n",
              "  </thead>\n",
              "  <tbody>\n",
              "    <tr>\n",
              "      <th>1</th>\n",
              "      <td>2500</td>\n",
              "      <td>2500</td>\n",
              "      <td>2500.0</td>\n",
              "      <td>60</td>\n",
              "      <td>15.27</td>\n",
              "      <td>59.83</td>\n",
              "      <td>C</td>\n",
              "      <td>1</td>\n",
              "      <td>C4</td>\n",
              "      <td>RENT</td>\n",
              "      <td>30000.0</td>\n",
              "      <td>Verified</td>\n",
              "      <td>Charged Off</td>\n",
              "      <td>car</td>\n",
              "      <td>Dec-11</td>\n",
              "      <td>Dec</td>\n",
              "      <td>11</td>\n",
              "    </tr>\n",
              "    <tr>\n",
              "      <th>3</th>\n",
              "      <td>10000</td>\n",
              "      <td>10000</td>\n",
              "      <td>10000.0</td>\n",
              "      <td>36</td>\n",
              "      <td>13.49</td>\n",
              "      <td>339.31</td>\n",
              "      <td>C</td>\n",
              "      <td>10</td>\n",
              "      <td>C1</td>\n",
              "      <td>RENT</td>\n",
              "      <td>49200.0</td>\n",
              "      <td>Verified</td>\n",
              "      <td>Fully Paid</td>\n",
              "      <td>other</td>\n",
              "      <td>Dec-11</td>\n",
              "      <td>Dec</td>\n",
              "      <td>11</td>\n",
              "    </tr>\n",
              "    <tr>\n",
              "      <th>6</th>\n",
              "      <td>7000</td>\n",
              "      <td>7000</td>\n",
              "      <td>7000.0</td>\n",
              "      <td>60</td>\n",
              "      <td>15.96</td>\n",
              "      <td>170.08</td>\n",
              "      <td>C</td>\n",
              "      <td>8</td>\n",
              "      <td>C5</td>\n",
              "      <td>RENT</td>\n",
              "      <td>47004.0</td>\n",
              "      <td>Not Verified</td>\n",
              "      <td>Fully Paid</td>\n",
              "      <td>debt_consolidation</td>\n",
              "      <td>Dec-11</td>\n",
              "      <td>Dec</td>\n",
              "      <td>11</td>\n",
              "    </tr>\n",
              "    <tr>\n",
              "      <th>7</th>\n",
              "      <td>3000</td>\n",
              "      <td>3000</td>\n",
              "      <td>3000.0</td>\n",
              "      <td>36</td>\n",
              "      <td>18.64</td>\n",
              "      <td>109.43</td>\n",
              "      <td>E</td>\n",
              "      <td>9</td>\n",
              "      <td>E1</td>\n",
              "      <td>RENT</td>\n",
              "      <td>48000.0</td>\n",
              "      <td>Verified</td>\n",
              "      <td>Fully Paid</td>\n",
              "      <td>car</td>\n",
              "      <td>Dec-11</td>\n",
              "      <td>Dec</td>\n",
              "      <td>11</td>\n",
              "    </tr>\n",
              "    <tr>\n",
              "      <th>9</th>\n",
              "      <td>5375</td>\n",
              "      <td>5375</td>\n",
              "      <td>5350.0</td>\n",
              "      <td>60</td>\n",
              "      <td>12.69</td>\n",
              "      <td>121.45</td>\n",
              "      <td>B</td>\n",
              "      <td>1</td>\n",
              "      <td>B5</td>\n",
              "      <td>RENT</td>\n",
              "      <td>15000.0</td>\n",
              "      <td>Verified</td>\n",
              "      <td>Charged Off</td>\n",
              "      <td>other</td>\n",
              "      <td>Dec-11</td>\n",
              "      <td>Dec</td>\n",
              "      <td>11</td>\n",
              "    </tr>\n",
              "  </tbody>\n",
              "</table>\n",
              "</div>\n",
              "      <button class=\"colab-df-convert\" onclick=\"convertToInteractive('df-5cdabede-047c-4a9b-8ec4-5bc9ed130429')\"\n",
              "              title=\"Convert this dataframe to an interactive table.\"\n",
              "              style=\"display:none;\">\n",
              "        \n",
              "  <svg xmlns=\"http://www.w3.org/2000/svg\" height=\"24px\"viewBox=\"0 0 24 24\"\n",
              "       width=\"24px\">\n",
              "    <path d=\"M0 0h24v24H0V0z\" fill=\"none\"/>\n",
              "    <path d=\"M18.56 5.44l.94 2.06.94-2.06 2.06-.94-2.06-.94-.94-2.06-.94 2.06-2.06.94zm-11 1L8.5 8.5l.94-2.06 2.06-.94-2.06-.94L8.5 2.5l-.94 2.06-2.06.94zm10 10l.94 2.06.94-2.06 2.06-.94-2.06-.94-.94-2.06-.94 2.06-2.06.94z\"/><path d=\"M17.41 7.96l-1.37-1.37c-.4-.4-.92-.59-1.43-.59-.52 0-1.04.2-1.43.59L10.3 9.45l-7.72 7.72c-.78.78-.78 2.05 0 2.83L4 21.41c.39.39.9.59 1.41.59.51 0 1.02-.2 1.41-.59l7.78-7.78 2.81-2.81c.8-.78.8-2.07 0-2.86zM5.41 20L4 18.59l7.72-7.72 1.47 1.35L5.41 20z\"/>\n",
              "  </svg>\n",
              "      </button>\n",
              "      \n",
              "  <style>\n",
              "    .colab-df-container {\n",
              "      display:flex;\n",
              "      flex-wrap:wrap;\n",
              "      gap: 12px;\n",
              "    }\n",
              "\n",
              "    .colab-df-convert {\n",
              "      background-color: #E8F0FE;\n",
              "      border: none;\n",
              "      border-radius: 50%;\n",
              "      cursor: pointer;\n",
              "      display: none;\n",
              "      fill: #1967D2;\n",
              "      height: 32px;\n",
              "      padding: 0 0 0 0;\n",
              "      width: 32px;\n",
              "    }\n",
              "\n",
              "    .colab-df-convert:hover {\n",
              "      background-color: #E2EBFA;\n",
              "      box-shadow: 0px 1px 2px rgba(60, 64, 67, 0.3), 0px 1px 3px 1px rgba(60, 64, 67, 0.15);\n",
              "      fill: #174EA6;\n",
              "    }\n",
              "\n",
              "    [theme=dark] .colab-df-convert {\n",
              "      background-color: #3B4455;\n",
              "      fill: #D2E3FC;\n",
              "    }\n",
              "\n",
              "    [theme=dark] .colab-df-convert:hover {\n",
              "      background-color: #434B5C;\n",
              "      box-shadow: 0px 1px 3px 1px rgba(0, 0, 0, 0.15);\n",
              "      filter: drop-shadow(0px 1px 2px rgba(0, 0, 0, 0.3));\n",
              "      fill: #FFFFFF;\n",
              "    }\n",
              "  </style>\n",
              "\n",
              "      <script>\n",
              "        const buttonEl =\n",
              "          document.querySelector('#df-5cdabede-047c-4a9b-8ec4-5bc9ed130429 button.colab-df-convert');\n",
              "        buttonEl.style.display =\n",
              "          google.colab.kernel.accessAllowed ? 'block' : 'none';\n",
              "\n",
              "        async function convertToInteractive(key) {\n",
              "          const element = document.querySelector('#df-5cdabede-047c-4a9b-8ec4-5bc9ed130429');\n",
              "          const dataTable =\n",
              "            await google.colab.kernel.invokeFunction('convertToInteractive',\n",
              "                                                     [key], {});\n",
              "          if (!dataTable) return;\n",
              "\n",
              "          const docLinkHtml = 'Like what you see? Visit the ' +\n",
              "            '<a target=\"_blank\" href=https://colab.research.google.com/notebooks/data_table.ipynb>data table notebook</a>'\n",
              "            + ' to learn more about interactive tables.';\n",
              "          element.innerHTML = '';\n",
              "          dataTable['output_type'] = 'display_data';\n",
              "          await google.colab.output.renderOutput(dataTable, element);\n",
              "          const docLink = document.createElement('div');\n",
              "          docLink.innerHTML = docLinkHtml;\n",
              "          element.appendChild(docLink);\n",
              "        }\n",
              "      </script>\n",
              "    </div>\n",
              "  </div>\n",
              "  "
            ]
          },
          "metadata": {},
          "execution_count": 56
        }
      ]
    },
    {
      "cell_type": "markdown",
      "source": [
        "### Interest Rates Vs Years"
      ],
      "metadata": {
        "id": "ZdbctqchADa-"
      }
    },
    {
      "cell_type": "code",
      "source": [
        "sns.lineplot(x=df4.Issue_Year, y=df4.int_rate, hue=df4.loan_status)\n",
        "plt.title('Interest Rate Over The Years')\n",
        "plt.ylabel('Interest Rates')\n",
        "plt.xlabel('Years')\n",
        "plt.show()"
      ],
      "metadata": {
        "colab": {
          "base_uri": "https://localhost:8080/",
          "height": 295
        },
        "id": "lj6YmIth6uWE",
        "outputId": "4e5e36e6-4c98-4f87-b34b-b7899b978486"
      },
      "execution_count": 88,
      "outputs": [
        {
          "output_type": "display_data",
          "data": {
            "text/plain": [
              "<Figure size 432x288 with 1 Axes>"
            ],
            "image/png": "[encoded data removed]"
          },
          "metadata": {
            "needs_background": "light"
          }
        }
      ]
    },
    {
      "cell_type": "markdown",
      "source": [
        "Over the years interest rates has been increasing. But the loan with low interst rates seems to have done better. The loan defaulted have always have interest rates on the higher side."
      ],
      "metadata": {
        "id": "vHt2VnS0-xXu"
      }
    },
    {
      "cell_type": "markdown",
      "source": [
        "### Annual Income Vs Loan Amount"
      ],
      "metadata": {
        "id": "FAW56_znGx-S"
      }
    },
    {
      "cell_type": "code",
      "source": [
        "sns.scatterplot(y=df4.loan_amnt, x=df4.annual_inc, hue=df4.loan_status)\n",
        "plt.title('Annual Income Vs Loan Amount')\n",
        "plt.ylabel('Loan Amount')\n",
        "plt.xlabel('Annual Income')\n",
        "plt.show()"
      ],
      "metadata": {
        "id": "IUhT1NyzFdD1",
        "outputId": "76bccee9-2c8c-4b03-eae2-a33c1ea425bf",
        "colab": {
          "base_uri": "https://localhost:8080/",
          "height": 295
        }
      },
      "execution_count": 99,
      "outputs": [
        {
          "output_type": "display_data",
          "data": {
            "text/plain": [
              "<Figure size 432x288 with 1 Axes>"
            ],
            "image/png": "[encoded data removed]"
          },
          "metadata": {
            "needs_background": "light"
          }
        }
      ]
    },
    {
      "cell_type": "markdown",
      "source": [
        "Applicants with high annual income has not defaulted but applicants with low annual income has defualted."
      ],
      "metadata": {
        "id": "-0b-OtSZHBvu"
      }
    },
    {
      "cell_type": "code",
      "source": [
        "from matplotlib.pyplot import figure\n",
        "\n",
        "figure(figsize=(12, 6), dpi=80)\n",
        "\n",
        "sns.boxplot(x=df4.emp_length, y=df4.loan_amnt, hue=df4.loan_status)\n",
        "plt.title('Employment Length Vs Loan Amount')\n",
        "plt.ylabel('Loan Amount')\n",
        "plt.xlabel('Employment Length')\n",
        "plt.show()"
      ],
      "metadata": {
        "id": "E57naH-QGhM8",
        "colab": {
          "base_uri": "https://localhost:8080/",
          "height": 444
        },
        "outputId": "d5d7ef2e-3232-416f-e673-29577cdbc974"
      },
      "execution_count": 101,
      "outputs": [
        {
          "output_type": "display_data",
          "data": {
            "text/plain": [
              "<Figure size 960x480 with 1 Axes>"
            ],
            "image/png": "[encoded data removed]"
          },
          "metadata": {
            "needs_background": "light"
          }
        }
      ]
    },
    {
      "cell_type": "markdown",
      "source": [
        "The median difference of loan amount is on the higher side for employment peroid of 8, 9, 10 years"
      ],
      "metadata": {
        "id": "zCerlgQ0IkLg"
      }
    },
    {
      "cell_type": "markdown",
      "source": [
        "### Home Ownership Vs Installments"
      ],
      "metadata": {
        "id": "d0y03m_FKOfP"
      }
    },
    {
      "cell_type": "code",
      "source": [
        "sns.barplot(x=df4.home_ownership, y=df4.installment, hue=df4.loan_status)\n",
        "plt.title('Home Ownership Vs Installments')\n",
        "plt.ylabel('Installments')\n",
        "plt.xlabel('Home Ownership')\n",
        "plt.show()"
      ],
      "metadata": {
        "colab": {
          "base_uri": "https://localhost:8080/",
          "height": 295
        },
        "id": "Pz5F4Qh8bWuu",
        "outputId": "aa1c6346-68a1-4a84-e440-67811b5a8f0b"
      },
      "execution_count": 103,
      "outputs": [
        {
          "output_type": "display_data",
          "data": {
            "text/plain": [
              "<Figure size 432x288 with 1 Axes>"
            ],
            "image/png": "[encoded data removed]"
          },
          "metadata": {
            "needs_background": "light"
          }
        }
      ]
    },
    {
      "cell_type": "markdown",
      "source": [
        "The default rate on paying the installments are maximum when the home ownership is classified as 'Others'"
      ],
      "metadata": {
        "id": "Yg9UZllAJ5z7"
      }
    },
    {
      "cell_type": "code",
      "source": [
        "figure(figsize=(24, 6), dpi=80)\n",
        "sns.barplot(x=df4.purpose, y=df4.loan_amnt, hue=df4.loan_status)\n",
        "plt.xticks(rotation=90)\n",
        "plt.show()"
      ],
      "metadata": {
        "colab": {
          "base_uri": "https://localhost:8080/",
          "height": 383
        },
        "id": "CMf5OXtlbWpn",
        "outputId": "1751a934-2368-4def-b7ee-08ac96ae1310"
      },
      "execution_count": 110,
      "outputs": [
        {
          "output_type": "display_data",
          "data": {
            "text/plain": [
              "<Figure size 1920x480 with 1 Axes>"
            ],
            "image/png": "[encoded data removed]"
          },
          "metadata": {
            "needs_background": "light"
          }
        }
      ]
    },
    {
      "cell_type": "markdown",
      "source": [
        "People taking loan for the purpose of renewable energy seems to be risky as they have defaulted on lower as well higher loan amount."
      ],
      "metadata": {
        "id": "AeUD5S5KMxVY"
      }
    },
    {
      "cell_type": "markdown",
      "source": [
        "# 4: Summary & Key Conclusion <a name=\"4\"></a>\n",
        "\n",
        "\n",
        "---\n",
        "<a href=\"#top\" class=\"btn btn-primary btn-sm\" role=\"button\" aria-pressed=\"true\" style=\"color:white\" data-toggle=\"popover\">Go to TOC</a> "
      ],
      "metadata": {
        "id": "uFACqhsHg9sb"
      }
    },
    {
      "cell_type": "markdown",
      "source": [
        "1. The defaulted loans seems to be on the higher side for grade C,B and D.\n",
        "2. People staying in rented and mortgage accomodation defaluted more than people staying in their own accomodation. The default rate on paying the installments are maximum when the home ownership is classified as 'Others'\n",
        "3. Applicants have defaulted more that are taking loans for the purpose of Debt Consolidation. People taking loan for the purpose of renewable energy seems to be risky as they have defaulted on lower as well higher loan amount.\n",
        "4. Applicants with employment years 1 and 10 seems to have defaulted more that other applicants.\n",
        "5. The interest rate are critical. With high interest rates the chances of defualting the loan increases.\n",
        "6. Applicants with high annual income has not defaulted but applicants with low annual income has defualted.Applicants with median salary around 50k seems to have defaulted the most."
      ],
      "metadata": {
        "id": "FZVybJ-PnjV0"
      }
    },
    {
      "cell_type": "markdown",
      "source": [
        "# 5: References <a name=\"5\"></a>\n",
        "\n",
        "\n",
        "---\n",
        "<a href=\"#top\" class=\"btn btn-primary btn-sm\" role=\"button\" aria-pressed=\"true\" style=\"color:white\" data-toggle=\"popover\">Go to TOC</a> "
      ],
      "metadata": {
        "id": "5aSfcSSAg9jc"
      }
    }
  ]
}